{
 "cells": [
  {
   "cell_type": "markdown",
   "metadata": {},
   "source": [
    "# Practical 6"
   ]
  },
  {
   "cell_type": "markdown",
   "metadata": {},
   "source": [
    "Assume that you are a professional fighter and in the past, you had fights\n",
    "with Undertaker. There were total of 10 fights between you and\n",
    "Undertaker. Assume that you set up a fresh fight tournament of 20 fights\n",
    "between you and Undertaker. Write a program which scans result of 10\n",
    "earlier fights and computes the probability of (i) you wining x number of\n",
    "fights (ii) you winning more than y number of fights in the new\n",
    "tournament. Scan x and y from the user. Assume that fights are\n",
    "independent and each fight can either result in you or him winning.\n",
    "Assume that probability of you winning in each fight remains constant."
   ]
  },
  {
   "cell_type": "code",
   "execution_count": 1,
   "metadata": {},
   "outputs": [],
   "source": [
    "from scipy.stats import binom"
   ]
  },
  {
   "cell_type": "code",
   "execution_count": 2,
   "metadata": {},
   "outputs": [
    {
     "name": "stdout",
     "output_type": "stream",
     "text": [
      "Enter the results of 10 previous Fights: 'w' for win and 'l' for lose\n",
      "Result of 1 fight: w\n",
      "Result of 2 fight: w\n",
      "Result of 3 fight: w\n",
      "Result of 4 fight: l\n",
      "Result of 5 fight: l\n",
      "Result of 6 fight: l\n",
      "Result of 7 fight: l\n",
      "Result of 8 fight: l\n",
      "Result of 9 fight: l\n",
      "Result of 10 fight: l\n"
     ]
    }
   ],
   "source": [
    "print(\"Enter the results of 10 previous Fights: 'w' for win and 'l' for lose\")\n",
    "win = 0\n",
    "lose = 0\n",
    "\n",
    "for i in range(10):\n",
    "    while True:\n",
    "        x = input(f\"Result of {i+1} fight: \").lower()\n",
    "        if(x == 'w'):\n",
    "            win+=1\n",
    "            break\n",
    "        elif(x == 'l' ):\n",
    "            lose+=1\n",
    "            break\n",
    "        else:\n",
    "            print(\"Please Enter proper input\")"
   ]
  },
  {
   "cell_type": "code",
   "execution_count": 3,
   "metadata": {},
   "outputs": [],
   "source": [
    "# calculate p and q from the input\n",
    "\n",
    "p = win / (win + lose)\n",
    "\n",
    "# for next 20 fights\n",
    "n = 20"
   ]
  },
  {
   "cell_type": "code",
   "execution_count": 4,
   "metadata": {},
   "outputs": [
    {
     "name": "stdout",
     "output_type": "stream",
     "text": [
      "Enter the Choice: \n",
      "1: Find Probability of winning the k fights: \n",
      "2: Find Probability of winning more than k fights: \n",
      "Enter the choice: 1\n",
      "Enter the value of k: 2\n",
      "Probability of winning the 2 fights is 0.027845872524268636\n"
     ]
    }
   ],
   "source": [
    "if(p == 1):\n",
    "    print(\"Not a binomial distribution as p = 1 \")\n",
    "else:\n",
    "    print(\"Enter the Choice: \")\n",
    "    print(\"1: Find Probability of winning the k fights: \")\n",
    "    print(\"2: Find Probability of winning more than k fights: \")\n",
    "\n",
    "    choice = input(\"Enter the choice: \")\n",
    "    if (choice == '1'):\n",
    "        k = int(input(\"Enter the value of k: \"))\n",
    "        print(f\"Probability of winning the {k} fights is {binom.pmf(k,n,p)}\")\n",
    "    elif(choice == '2'):\n",
    "        k = int(input(\"Enter the value of k: \"))\n",
    "        ans = 0\n",
    "        for i in range(k,n+1):\n",
    "            ans += binom.pmf(i,n,p)\n",
    "        print(f\"Probability of more than winning the {k} fights is {ans}\")\n",
    "    else:\n",
    "        print(\"Enter valid number\")"
   ]
  },
  {
   "cell_type": "code",
   "execution_count": 10,
   "metadata": {},
   "outputs": [
    {
     "data": {
      "image/png": "[encoded data removed]",
      "text/plain": [
       "<Figure size 432x288 with 1 Axes>"
      ]
     },
     "metadata": {},
     "output_type": "display_data"
    },
    {
     "name": "stdout",
     "output_type": "stream",
     "text": [
      "0.6\n",
      "Enter the prob you want to find:5\n",
      "0.0012944935222876511\n",
      "0.9996829688788301\n"
     ]
    }
   ],
   "source": [
    "import matplotlib.pyplot as plt\n",
    "import numpy as np\n",
    "fig, ax = plt.subplots(1, 1)\n",
    "\n",
    "n, p = 10, 0.4\n",
    "plist=[1,0,1,0,1,1,0,0,1,1]\n",
    "temp =sum(plist)\n",
    "p=temp/len(plist)\n",
    "mean, var, skew, kurt = binom.stats(n, p, moments='mvsk')\n",
    "\n",
    "x = np.arange(binom.ppf(0.01, n, p),\n",
    "              binom.ppf(0.99, n, p))\n",
    "ax.plot(x, binom.pmf(x, n, p), 'bo', ms=8, label='binom pmf')\n",
    "ax.vlines(x, 0, binom.pmf(x, n, p), colors='b', lw=5, alpha=0.5)\n",
    "\n",
    "rv = binom(n, p)\n",
    "ax.vlines(x, 0, rv.pmf(x), colors='k', linestyles='-', lw=1,\n",
    "        label='frozen pmf')\n",
    "ax.legend(loc='best', frameon=False)\n",
    "plt.show()\n",
    "\n",
    "n = 20\n",
    "print(p)\n",
    "if(p == 1):\n",
    "    print(\"This is not binomial distribution as p=1\")\n",
    "else:\n",
    "    x=int(input(\"Enter the prob you want to find:\"))\n",
    "    print(binom.pmf(x, n, p))\n",
    "    ans = 0\n",
    "    for i in range(x,21):\n",
    "        ans += binom.pmf(i, n, p)\n",
    "    print(ans)"
   ]
  },
  {
   "cell_type": "code",
   "execution_count": null,
   "metadata": {},
   "outputs": [],
   "source": []
  }
 ],
 "metadata": {
  "kernelspec": {
   "display_name": "Python 3",
   "language": "python",
   "name": "python3"
  },
  "language_info": {
   "codemirror_mode": {
    "name": "ipython",
    "version": 3
   },
   "file_extension": ".py",
   "mimetype": "text/x-python",
   "name": "python",
   "nbconvert_exporter": "python",
   "pygments_lexer": "ipython3",
   "version": "3.7.3"
  }
 },
 "nbformat": 4,
 "nbformat_minor": 2
}
