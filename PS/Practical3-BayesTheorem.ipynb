{
 "cells": [
  {
   "cell_type": "markdown",
   "metadata": {},
   "source": [
    "# Practical 3"
   ]
  },
  {
   "cell_type": "markdown",
   "metadata": {},
   "source": [
    "## Roll No: 18BCE259"
   ]
  },
  {
   "cell_type": "markdown",
   "metadata": {},
   "source": [
    "Write a program which scans value of k where k indicates number of\n",
    "mutually exclusive and exhaustive events (E1, E2, …, Ek). Assume any\n",
    "another event B. Implement Bayes’ theorem assuming these k events and\n",
    "event B to estimate the probability of each of the k events assuming that\n",
    "the event B has already occurred (i.e. P(E1|B), P(E2|B), …, P(Ek|B)). Your\n",
    "program should also scan (i) probability of each of the k (or k -1) events\n",
    "and (ii) probability of occurrence of event B assuming that each of the k\n",
    "events has occurred (i.e. P(B|E1), P(B|E2), … P(B|Ek))."
   ]
  },
  {
   "cell_type": "code",
   "execution_count": 1,
   "metadata": {
    "scrolled": true
   },
   "outputs": [
    {
     "name": "stdout",
     "output_type": "stream",
     "text": [
      "Enter the number of k (i.e. No. of Exclusive and Exhaustive Events, Ei) : 3\n"
     ]
    }
   ],
   "source": [
    "k = int(input(\"Enter the number of k (i.e. No. of Exclusive and Exhaustive Events, Ei) : \"))"
   ]
  },
  {
   "cell_type": "code",
   "execution_count": 2,
   "metadata": {},
   "outputs": [
    {
     "name": "stdout",
     "output_type": "stream",
     "text": [
      "Taking Input:\n",
      "__________________________\n",
      "\n",
      "Enter the Probability of Event E1 ( P(E1) ):0.2\n",
      "\n",
      "Enter the Probability of Event E2 ( P(E2) ):0.2\n",
      "\n",
      "Enter the Probability of Event E3 ( P(E3) ):0.6\n"
     ]
    }
   ],
   "source": [
    "Prob_Ei = []\n",
    "\n",
    "print(\"Taking Input:\\n__________________________\")\n",
    "\n",
    "for i in range(k):\n",
    "    temp = float(input(f\"\\nEnter the Probability of Event E{i+1} ( P(E{i+1}) ):\"))\n",
    "    while(temp > 1 or temp < 0):\n",
    "        temp = float(input(f\"Wrong Input\\nTry Again\\nEnter the Probability of Event E{i+1} ( P(E{i+1}) ):\"))\n",
    "    Prob_Ei.append(temp)\n",
    "if(sum(Prob_Ei) != 1):\n",
    "    print(\"Wrong Data Given\")\n",
    "    !exit"
   ]
  },
  {
   "cell_type": "code",
   "execution_count": 3,
   "metadata": {},
   "outputs": [
    {
     "name": "stdout",
     "output_type": "stream",
     "text": [
      "Taking Input:\n",
      "_______________________\n",
      "\n",
      "Enter the Probability of Event B given E1 occured ( P(B|E1) ):0.5\n",
      "\n",
      "Enter the Probability of Event B given E2 occured ( P(B|E2) ):0.2\n",
      "\n",
      "Enter the Probability of Event B given E3 occured ( P(B|E3) ):0.3\n"
     ]
    }
   ],
   "source": [
    "print(\"Taking Input:\\n_______________________\")\n",
    "\n",
    "Prob_BEi = []\n",
    "for i in range(k):\n",
    "    temp = float(input(f\"\\nEnter the Probability of Event B given E{i+1} occured ( P(B|E{i+1}) ):\"))\n",
    "    while(temp>1 or temp < 0):\n",
    "        temp = float(input(f\"Wrong Input\\nTry Again\\nEnter the Probability of Event B given E{i+1} occured ( P(B|E{i+1}) ):\"))\n",
    "    Prob_BEi.append(temp)"
   ]
  },
  {
   "cell_type": "code",
   "execution_count": 4,
   "metadata": {},
   "outputs": [],
   "source": [
    "denominator = 0\n",
    "\n",
    "for i in range(k):\n",
    "    denominator += (Prob_Ei[i]*Prob_BEi[i])"
   ]
  },
  {
   "cell_type": "code",
   "execution_count": 5,
   "metadata": {},
   "outputs": [],
   "source": [
    "Prob = []\n",
    "\n",
    "for i in range(k):\n",
    "    temp = (Prob_Ei[i]*Prob_BEi[i])/denominator\n",
    "    Prob.append(temp)"
   ]
  },
  {
   "cell_type": "code",
   "execution_count": 6,
   "metadata": {},
   "outputs": [
    {
     "name": "stdout",
     "output_type": "stream",
     "text": [
      "P(E1|B) = 0.3125\n",
      "P(E2|B) = 0.12500000000000003\n",
      "P(E3|B) = 0.5625\n"
     ]
    }
   ],
   "source": [
    "for i in range(k):\n",
    "    print(f\"P(E{i+1}|B) = {Prob[i]}\")"
   ]
  }
 ],
 "metadata": {
  "kernelspec": {
   "display_name": "Python 3",
   "language": "python",
   "name": "python3"
  },
  "language_info": {
   "codemirror_mode": {
    "name": "ipython",
    "version": 3
   },
   "file_extension": ".py",
   "mimetype": "text/x-python",
   "name": "python",
   "nbconvert_exporter": "python",
   "pygments_lexer": "ipython3",
   "version": "3.7.3"
  }
 },
 "nbformat": 4,
 "nbformat_minor": 2
}
