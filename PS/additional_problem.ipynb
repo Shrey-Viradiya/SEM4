{
 "cells": [
  {
   "cell_type": "markdown",
   "metadata": {},
   "source": [
    "the computer will guess an integer between 1 to 100. We will predict the number\n",
    "user hits and computer will tell to guess larger or smaller number according to the number."
   ]
  },
  {
   "cell_type": "code",
   "execution_count": null,
   "metadata": {},
   "outputs": [],
   "source": [
    "import random\n",
    "\n",
    "secret_no = random.randint(1,100)\n",
    "\n",
    "trial = 0"
   ]
  },
  {
   "cell_type": "code",
   "execution_count": null,
   "metadata": {},
   "outputs": [],
   "source": [
    "while True:\n",
    "    user_guess = int(input(\"\\nTry to guess secret number: \"))\n",
    "    trial += 1\n",
    "    if(user_guess > secret_no):\n",
    "        print(\"Try guessing smaller number\")\n",
    "        print(\"---------------------------\")\n",
    "    elif(user_guess < secret_no):\n",
    "        print(\"Try guessing larger number\")\n",
    "        print(\"---------------------------\")\n",
    "    else:\n",
    "        print(\"Alas! You guessed correctly\")\n",
    "        print(\"---------------------------\")\n",
    "        break\n",
    "    \n",
    "print(f\"You took {trial} guess(es)\")"
   ]
  },
  {
   "cell_type": "markdown",
   "metadata": {},
   "source": [
    "swap the position.. i.e computer will guess the number"
   ]
  },
  {
   "cell_type": "code",
   "execution_count": null,
   "metadata": {},
   "outputs": [],
   "source": [
    "secret_no = int(input(\"Enter the secret number: \"))\n",
    "\n",
    "while(secret_no > 100 or secret_no < 1):\n",
    "    print(\"Please Enter secret no in the range of 1 to 100\")\n",
    "    secret_no = int(input(\"Enter the secret number: \"))"
   ]
  },
  {
   "cell_type": "code",
   "execution_count": null,
   "metadata": {},
   "outputs": [],
   "source": [
    "tr = 0\n",
    "smaller = 0\n",
    "larger = 100\n",
    "\n",
    "while True:\n",
    "    guess = random.randint(smaller,larger)\n",
    "    tr += 1\n",
    "    \n",
    "    print(f\"I guessed {guess}\\nIs it correct?\")\n",
    "    hint = input(\"Enter s for smaller and l for larger and t for correct guess:\")\n",
    "    \n",
    "    if(hint == 's'):\n",
    "        larger = guess\n",
    "    elif(hint == 'l'):\n",
    "        smaller = guess\n",
    "    elif(hint == 't'):\n",
    "        print(\"I knew it\")\n",
    "        break\n",
    "        \n",
    "print(f\"Computer took {tr} attempts\")"
   ]
  },
  {
   "cell_type": "markdown",
   "metadata": {},
   "source": [
    "build an authentication system in which the user will be asked to enter his username and password. If correct credentials are given then user will be allowed the system with a message . If wrong cred. are given then user can re-enter the details.\n",
    "3 succesive incorrect attempts will block the user from accesing the system."
   ]
  },
  {
   "cell_type": "markdown",
   "metadata": {},
   "source": [
    "Add functionality of Forget Password"
   ]
  },
  {
   "cell_type": "markdown",
   "metadata": {},
   "source": [
    "use case sensitive system"
   ]
  },
  {
   "cell_type": "markdown",
   "metadata": {},
   "source": [
    "encrypt password"
   ]
  },
  {
   "cell_type": "code",
   "execution_count": 8,
   "metadata": {},
   "outputs": [],
   "source": [
    "from cryptography.fernet import Fernet\n",
    "key = Fernet.generate_key()\n",
    "cipher_suite = Fernet(key)"
   ]
  },
  {
   "cell_type": "code",
   "execution_count": 9,
   "metadata": {},
   "outputs": [],
   "source": [
    "users = {\n",
    "        '18BCE259' : ['123456789',0,'What was your childhood nickname?','raja'],\n",
    "        '18BCE260' : ['abcdef',0,'What is the name of your favorite childhood friend?','meet'],\n",
    "        '18BCE756' : ['aaaaa',0,'In what city does your nearest sibling live?','ahmedabad']\n",
    "        }"
   ]
  },
  {
   "cell_type": "code",
   "execution_count": 10,
   "metadata": {},
   "outputs": [],
   "source": [
    "for key in users.keys():\n",
    "    users[key][0] = cipher_suite.encrypt(users[key][0].encode('utf-8'))"
   ]
  },
  {
   "cell_type": "code",
   "execution_count": 11,
   "metadata": {},
   "outputs": [
    {
     "data": {
      "text/plain": [
       "{'18BCE259': [b'gAAAAABeU10Y5z0sNa9byjBB1lXxRVqLkzDjTkZFCDE4kTIksv_4P0u7TALcNgm3aiq0h3mrFhPQFqhRi3Rp7jnkmtU3g91XNA==',\n",
       "  0,\n",
       "  'What was your childhood nickname?',\n",
       "  'raja'],\n",
       " '18BCE260': [b'gAAAAABeU10YWm0j-hQGu-umj93l6amkPyeuxqZTp9hiYbWahRKEVbSmuilUqjQt4tb9EJ4G28ug3RH2TQAeTtnVRBjh6hcDOA==',\n",
       "  0,\n",
       "  'What is the name of your favorite childhood friend?',\n",
       "  'meet'],\n",
       " '18BCE756': [b'gAAAAABeU10YGPOUJd34xe5bdjsYK8ojZARDqhCGW6ubhoK0ldJnp1R5Gc338y3UAAE5kdFlVzN97PGv8ukuEJnH2_IawV7zDA==',\n",
       "  0,\n",
       "  'In what city does your nearest sibling live?',\n",
       "  'ahmedabad']}"
      ]
     },
     "execution_count": 11,
     "metadata": {},
     "output_type": "execute_result"
    }
   ],
   "source": [
    "users"
   ]
  },
  {
   "cell_type": "code",
   "execution_count": 12,
   "metadata": {},
   "outputs": [
    {
     "name": "stdout",
     "output_type": "stream",
     "text": [
      "\n",
      "\n",
      "Welcome to the PythonCredServer\n",
      "Enter Username: 18BCE259\n",
      "Enter PassWord: 123456789\n",
      "\n",
      "access granted\n"
     ]
    }
   ],
   "source": [
    "\n",
    "\n",
    "def forgetPassword():\n",
    "    while True:\n",
    "        print(\"\\n\\nWelcome to the PythonCredServer\")\n",
    "        print(\"\\nForgot Password Section...\")\n",
    "\n",
    "        username = input(\"Enter Username: \")\n",
    "\n",
    "\n",
    "        if(username not in users.keys()):\n",
    "            print(f\"\\nNo user named {username} is registered\")\n",
    "        else:\n",
    "            print(users[username][2])\n",
    "            ans = input(\"Enter your answer....Answers are case in sensitive\").lower()\n",
    "\n",
    "            if(ans == users[username][3]):\n",
    "                while True:\n",
    "                    newP = input(\"Enter new password\")\n",
    "                    conP = input(\"Confirm new password\")\n",
    "                    if(newP == conP):\n",
    "                        users[username][0] = cipher_suite.encrypt(newP.encode('utf-8'))\n",
    "                        return\n",
    "                    else:\n",
    "                        print(\"Password Confirmation failed\")\n",
    "            else:\n",
    "                print(\"Wrong Answer!!\")\n",
    "\n",
    "\n",
    "while True:\n",
    "    print(\"\\n\\nWelcome to the PythonCredServer\")\n",
    "\n",
    "    username = input(\"Enter Username: \")\n",
    "    \n",
    "\n",
    "    if(username not in users.keys()):\n",
    "        print(f\"\\nNo user named {username} is registered\")\n",
    "    else:\n",
    "        password = input(\"Enter PassWord: \")\n",
    "        password = password.encode('utf-8')\n",
    "        if(users[username][1] == 3):\n",
    "            print(\"\\nUser is Blocked! Ask admin to take actions\")\n",
    "        elif(password == cipher_suite.decrypt(users[username][0])):\n",
    "            print(\"\\naccess granted\")\n",
    "            users[username][1] = 0\n",
    "            break\n",
    "        else:\n",
    "            print(\"\\nInvalid Password! Did You Forget Your PassWord?\")\n",
    "            users[username][1] += 1\n",
    "            fp = input(\"Enter y for changing password and n for continuing login\")\n",
    "            if(fp == 'y'):\n",
    "                forgetPassword()\n",
    "            elif(fp == 'n'):\n",
    "                print(\"Try again\")\n",
    "            else:\n",
    "                print(\"Not sure what to do?\")\n"
   ]
  },
  {
   "cell_type": "markdown",
   "metadata": {},
   "source": [
    "ask the user to generate a strong password"
   ]
  },
  {
   "cell_type": "markdown",
   "metadata": {},
   "source": [
    "create an AKINATOR app"
   ]
  },
  {
   "cell_type": "code",
   "execution_count": null,
   "metadata": {},
   "outputs": [],
   "source": [
    "!pip install cryptography"
   ]
  },
  {
   "cell_type": "code",
   "execution_count": null,
   "metadata": {},
   "outputs": [],
   "source": [
    "cipher_suite.decrypt(users['18BCE259'][0])"
   ]
  },
  {
   "cell_type": "code",
   "execution_count": 4,
   "metadata": {},
   "outputs": [
    {
     "data": {
      "text/plain": [
       "b'gAAAAABeU1ws0HDbp8UP7Ezk4MrNd1hAuiofKhRhEyGYxgU5PZErlDEd5rTjCifKWPyX-S-oiKudCv6IuOMh-ZxK5h06i5SklA=='"
      ]
     },
     "execution_count": 4,
     "metadata": {},
     "output_type": "execute_result"
    }
   ],
   "source": [
    "cipher_suite.encrypt(b\"Hello\")"
   ]
  },
  {
   "cell_type": "code",
   "execution_count": 6,
   "metadata": {},
   "outputs": [
    {
     "data": {
      "text/plain": [
       "b'Hello'"
      ]
     },
     "execution_count": 6,
     "metadata": {},
     "output_type": "execute_result"
    }
   ],
   "source": [
    "cipher_suite.decrypt(b'gAAAAABeU1ws0HDbp8UP7Ezk4MrNd1hAuiofKhRhEyGYxgU5PZErlDEd5rTjCifKWPyX-S-oiKudCv6IuOMh-ZxK5h06i5SklA==')"
   ]
  },
  {
   "cell_type": "code",
   "execution_count": null,
   "metadata": {},
   "outputs": [],
   "source": []
  }
 ],
 "metadata": {
  "kernelspec": {
   "display_name": "Python 3",
   "language": "python",
   "name": "python3"
  },
  "language_info": {
   "codemirror_mode": {
    "name": "ipython",
    "version": 3
   },
   "file_extension": ".py",
   "mimetype": "text/x-python",
   "name": "python",
   "nbconvert_exporter": "python",
   "pygments_lexer": "ipython3",
   "version": "3.7.3"
  }
 },
 "nbformat": 4,
 "nbformat_minor": 2
}
