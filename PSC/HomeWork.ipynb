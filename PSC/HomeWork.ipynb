{
 "cells": [
  {
   "cell_type": "code",
   "execution_count": 1,
   "metadata": {},
   "outputs": [],
   "source": [
    "import csv\n",
    "from collections import Counter"
   ]
  },
  {
   "cell_type": "code",
   "execution_count": 2,
   "metadata": {},
   "outputs": [
    {
     "name": "stdout",
     "output_type": "stream",
     "text": [
      "18BCE247\n",
      "18BCE248\n",
      "18BCE249\n",
      "18BCE251\n"
     ]
    }
   ],
   "source": [
    "with open('Att.csv','r') as F:\n",
    "    data = list(csv.reader(F))   \n",
    "    \n",
    "    for r in range(1,len(data)):\n",
    "        present = Counter()\n",
    "        roll = data[r].pop(0)        \n",
    "        present.update(data[r])\n",
    "        present = dict(present)\n",
    "        if( 'A' not in present.keys() ):\n",
    "            pass\n",
    "        elif ( present['A'] > 2 ):\n",
    "            print(roll)"
   ]
  },
  {
   "cell_type": "code",
   "execution_count": 3,
   "metadata": {},
   "outputs": [
    {
     "name": "stdout",
     "output_type": "stream",
     "text": [
      "18BCE247\n",
      "18BCE248\n",
      "18BCE249\n",
      "18BCE251\n"
     ]
    }
   ],
   "source": [
    "with open('Att.csv','r') as F:\n",
    "    F.readline()\n",
    "        \n",
    "    for d in F:\n",
    "        row = d.strip().split(',')\n",
    "        att = Counter()\n",
    "        roll = row.pop(0)\n",
    "        att.update(row)\n",
    "        att = dict(att)\n",
    "        if( 'A' not in att.keys() ):\n",
    "            pass\n",
    "        elif ( att['A'] > 2 ):\n",
    "            print(roll)"
   ]
  }
 ],
 "metadata": {
  "kernelspec": {
   "display_name": "Python 3",
   "language": "python",
   "name": "python3"
  },
  "language_info": {
   "codemirror_mode": {
    "name": "ipython",
    "version": 3
   },
   "file_extension": ".py",
   "mimetype": "text/x-python",
   "name": "python",
   "nbconvert_exporter": "python",
   "pygments_lexer": "ipython3",
   "version": "3.7.3"
  }
 },
 "nbformat": 4,
 "nbformat_minor": 2
}
