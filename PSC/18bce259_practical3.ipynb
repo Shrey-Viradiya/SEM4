{
 "cells": [
  {
   "cell_type": "markdown",
   "metadata": {},
   "source": [
    "# PSC Lab - Practical 3"
   ]
  },
  {
   "cell_type": "markdown",
   "metadata": {},
   "source": [
    "## Roll No: 18BCE259"
   ]
  },
  {
   "cell_type": "markdown",
   "metadata": {},
   "source": [
    "Write a python program that reads the contents of the file poem.txt and\n",
    "count the number of alphabets blank spaces lowercase letters and\n",
    "uppercase letters the number of words starting from vowel and the\n",
    "number of occurrences of each word in the file."
   ]
  },
  {
   "cell_type": "code",
   "execution_count": 2,
   "metadata": {},
   "outputs": [],
   "source": [
    "with open('poem.txt','r') as f:\n",
    "    x = f.readlines()\n",
    "    \n",
    "    alpha = 0\n",
    "    bl_sp = 0\n",
    "    low = 0\n",
    "    upp = 0\n",
    "    vowel_word = 0\n",
    "    words = {}\n",
    "    \n",
    "    vowels = ['a','e','i','o','u','A','E','I','O','U']\n",
    "    for line in x:\n",
    "        line = line.replace('\\n','')\n",
    "        line = line.replace(';','')\n",
    "        line = line.replace(',','')\n",
    "        line = line.replace('.','')\n",
    "        line = line.replace('-','')\n",
    "        for char in line:\n",
    "            if char.isalpha():\n",
    "                alpha+=1\n",
    "            elif char.isspace():\n",
    "                bl_sp +=1\n",
    "                \n",
    "            if char.islower():\n",
    "                low+=1\n",
    "            elif char.isupper():\n",
    "                upp+=1\n",
    "        wordsInLine = line.split(\" \")\n",
    "\n",
    "        for word in wordsInLine:\n",
    "            if word in words:\n",
    "                words[word]+=1\n",
    "            else:\n",
    "                words[word]=1                \n",
    "            \n",
    "            if word[0] in vowels:\n",
    "                vowel_word += 1\n",
    "        "
   ]
  },
  {
   "cell_type": "code",
   "execution_count": 3,
   "metadata": {},
   "outputs": [
    {
     "name": "stdout",
     "output_type": "stream",
     "text": [
      "Alphabets 580\n",
      "Blank Space 127\n",
      "Lowercase 550\n",
      "Uppercase 30\n",
      "Words starting with vowel 47\n"
     ]
    }
   ],
   "source": [
    "print(\"Alphabets\",alpha)\n",
    "print(\"Blank Space\",bl_sp)\n",
    "print(\"Lowercase\",low)\n",
    "print(\"Uppercase\",upp)\n",
    "print(\"Words starting with vowel\",vowel_word)\n",
    "# print(\"Frequency of the words:\",words)"
   ]
  },
  {
   "cell_type": "code",
   "execution_count": 4,
   "metadata": {},
   "outputs": [
    {
     "data": {
      "text/plain": [
       "{'The': 1,\n",
       " 'Road': 1,\n",
       " 'Not': 1,\n",
       " 'Taken': 1,\n",
       " 'Two': 2,\n",
       " 'roads': 2,\n",
       " 'diverged': 2,\n",
       " 'in': 3,\n",
       " 'a': 3,\n",
       " 'yellow': 1,\n",
       " 'wood': 2,\n",
       " 'And': 6,\n",
       " 'sorry': 1,\n",
       " 'I': 9,\n",
       " 'could': 2,\n",
       " 'not': 1,\n",
       " 'travel': 1,\n",
       " 'both': 2,\n",
       " 'be': 2,\n",
       " 'one': 3,\n",
       " 'traveler': 1,\n",
       " 'long': 1,\n",
       " 'stood': 1,\n",
       " 'looked': 1,\n",
       " 'down': 1,\n",
       " 'as': 5,\n",
       " 'far': 1,\n",
       " 'To': 1,\n",
       " 'where': 1,\n",
       " 'it': 2,\n",
       " 'bent': 1,\n",
       " 'the': 8,\n",
       " 'undergrowth': 1,\n",
       " 'Then': 1,\n",
       " 'took': 2,\n",
       " 'other': 1,\n",
       " 'just': 1,\n",
       " 'fair': 1,\n",
       " 'having': 1,\n",
       " 'perhaps': 1,\n",
       " 'better': 1,\n",
       " 'claim': 1,\n",
       " 'Because': 1,\n",
       " 'was': 1,\n",
       " 'grassy': 1,\n",
       " 'and': 3,\n",
       " 'wanted': 1,\n",
       " 'wear': 1,\n",
       " 'Though': 1,\n",
       " 'for': 2,\n",
       " 'that': 3,\n",
       " 'passing': 1,\n",
       " 'there': 1,\n",
       " 'Had': 1,\n",
       " 'worn': 1,\n",
       " 'them': 1,\n",
       " 'really': 1,\n",
       " 'about': 1,\n",
       " 'same': 1,\n",
       " 'morning': 1,\n",
       " 'equally': 1,\n",
       " 'lay': 1,\n",
       " 'In': 1,\n",
       " 'leaves': 1,\n",
       " 'no': 1,\n",
       " 'step': 1,\n",
       " 'had': 1,\n",
       " 'trodden': 1,\n",
       " 'black': 1,\n",
       " 'Oh': 1,\n",
       " 'kept': 1,\n",
       " 'first': 1,\n",
       " 'another': 1,\n",
       " 'day!': 1,\n",
       " 'Yet': 1,\n",
       " 'knowing': 1,\n",
       " 'how': 1,\n",
       " 'way': 2,\n",
       " 'leads': 1,\n",
       " 'on': 1,\n",
       " 'to': 1,\n",
       " 'doubted': 1,\n",
       " 'if': 1,\n",
       " 'should': 1,\n",
       " 'ever': 1,\n",
       " 'come': 1,\n",
       " 'back': 1,\n",
       " 'shall': 1,\n",
       " 'telling': 1,\n",
       " 'this': 1,\n",
       " 'with': 1,\n",
       " 'sigh': 1,\n",
       " 'Somewhere': 1,\n",
       " 'ages': 2,\n",
       " 'hence:': 1,\n",
       " 'less': 1,\n",
       " 'traveled': 1,\n",
       " 'by': 1,\n",
       " 'has': 1,\n",
       " 'made': 1,\n",
       " 'all': 1,\n",
       " 'difference': 1}"
      ]
     },
     "execution_count": 4,
     "metadata": {},
     "output_type": "execute_result"
    }
   ],
   "source": [
    "words"
   ]
  },
  {
   "cell_type": "code",
   "execution_count": 5,
   "metadata": {},
   "outputs": [],
   "source": [
    "import csv"
   ]
  },
  {
   "cell_type": "code",
   "execution_count": 6,
   "metadata": {},
   "outputs": [
    {
     "name": "stdout",
     "output_type": "stream",
     "text": [
      "1 3\n",
      "2 5\n",
      "3 4\n"
     ]
    }
   ],
   "source": [
    "l1= [ 1,2,3]\n",
    "l2 = [3,5,4]\n",
    "\n",
    "for x,y in zip(l1,l2):\n",
    "    print(x,y)"
   ]
  },
  {
   "cell_type": "markdown",
   "metadata": {},
   "source": [
    "An organization wants to compute monthly wages to be paid to an employee in an organization. The input data is provided in two different files. File1 contains permanent employee data about employees (i.e. Empid, name, hourly wages), and File2 contains working hours information of each employee in the current month (i.e., empid and\n",
    "hours). Individual elements of data are separated by commas. Design a python program that reads both the files, computes the monthly wages of each employee and store in another file. Take both file names as command line arguments and check the respected exceptions for the same.\n"
   ]
  },
  {
   "cell_type": "code",
   "execution_count": 7,
   "metadata": {},
   "outputs": [],
   "source": [
    "with open('employee.txt','r') as emp, open('Wages.txt','r') as wages, open('calc.txt','w') as calc:\n",
    "    employee_reader = csv.DictReader(emp)\n",
    "    wages_reader = csv.DictReader(wages)\n",
    "    calc_writer = csv.writer(calc, delimiter=',',quotechar='|', quoting=csv.QUOTE_MINIMAL)\n",
    "    \n",
    "    for r,x in zip(wages_reader, employee_reader):\n",
    "#         print(r['empID'])\n",
    "        temp = int(r['HoursWorked']) * int(x['SalaryPerHour'])\n",
    "        calc_writer.writerow([r['empID'] , temp])"
   ]
  },
  {
   "cell_type": "markdown",
   "metadata": {},
   "source": [
    "Consider the following formula and evaluate the y value for the range of t values found in a file with format\n",
    "\n",
    "y(t) = v0 t − 0.5gt ** 2\n",
    "\n",
    "File Format:\n",
    "\n",
    "v0 3.0\n",
    "\n",
    "t:\n",
    "\n",
    "0.15592 0.28075 0.36807889 0.35 0.57681501876 0.21342619\n",
    "\n",
    "0.0519085 0.042 0.27 0.50620017 0.528 0.2094294 0.1117 0.53012\n",
    "\n",
    "0.3729850 0.39325246 0.21385894 0.3464815 0.57982969\n",
    "\n",
    "0.10262264 0.29584013 0.17383923\n",
    "\n",
    "\n",
    "More precisely, the first two lines are always present, while the next\n",
    "lines contain an arbitrary number of t values on each line, separated by\n",
    "one or more spaces.\n",
    "\n",
    "i.\n",
    " Write a function that reads the input file and returns v0 and a list\n",
    "with the t values.\n",
    "\n",
    "ii.\n",
    " Write a function that creates a file with two nicely formatted\n",
    "columns containing the t values to the left and the corresponding\n",
    "y values to the right. Let the t values appear in increasing order\n",
    "(note that the input file does not necessarily have the t values\n",
    "sorted).\n",
    "\n",
    "iii.\n",
    " Make a test function that generates an input file, calls the function\n",
    "for reading the file, and checks that the returned data objects are\n",
    "correct.\n",
    "\n",
    "iv.\n",
    " Write a function which handle the exception handling for the\n",
    "availability of file or not.\n",
    "\n"
   ]
  },
  {
   "cell_type": "code",
   "execution_count": 8,
   "metadata": {},
   "outputs": [],
   "source": [
    "def return_data(filepath):\n",
    "    try:\n",
    "        with open(filepath,'r') as f:\n",
    "            x = f.readlines()\n",
    "            v = float(x[0].split(' ')[1].replace('\\n',''))\n",
    "\n",
    "            i=2\n",
    "            time = []\n",
    "            while (i<len(x)):\n",
    "                temp = x[i]\n",
    "                temp = temp.replace('\\n','')\n",
    "                temp = temp.split(' ')\n",
    "                temp = map(lambda x: float(x),temp)\n",
    "                time += list(temp)\n",
    "                i+=1\n",
    "            time.sort()\n",
    "        return v,time\n",
    "    except FileNotFoundError:\n",
    "        print(\"File does not exist\")\n",
    "        return None, None\n",
    "    except:\n",
    "        print(\"Other error\")\n",
    "        return None,None"
   ]
  },
  {
   "cell_type": "code",
   "execution_count": 9,
   "metadata": {},
   "outputs": [],
   "source": [
    "def distance(v,t):\n",
    "    return (v*t - 0.5*9.8*t*t)\n",
    "\n",
    "def calculate_and_store(v,time):\n",
    "    with open('calculated_data.txt','w') as f:\n",
    "        f_writer = csv.writer(f,delimiter='\\t',quotechar='|',quoting=csv.QUOTE_MINIMAL)\n",
    "        f_writer.writerow(['time','distance'])\n",
    "        \n",
    "        for t in time:\n",
    "            f_writer.writerow([f'{t:.11f}',distance(v,t)])"
   ]
  },
  {
   "cell_type": "code",
   "execution_count": 10,
   "metadata": {},
   "outputs": [],
   "source": [
    "v,t = return_data('TimeData.txt')\n",
    "calculate_and_store(v,t)"
   ]
  },
  {
   "cell_type": "code",
   "execution_count": 11,
   "metadata": {},
   "outputs": [],
   "source": [
    "import random\n",
    "def test_function(function):\n",
    "    v = random.random() * 5\n",
    "    time = []\n",
    "    \n",
    "    for i in range(100):\n",
    "        time.append(random.random() * 100)\n",
    "    \n",
    "    t2 = time.copy()\n",
    "    t2 = list(map(lambda x:str(x),t2))\n",
    "    tsrt = \" \".join(t2)\n",
    "    with open('test_data.txt','w') as inp:\n",
    "        inp.write(f\"vo {v}\\nt:\\n\")\n",
    "        inp.write(tsrt)\n",
    "        \n",
    "    time.sort()\n",
    "    \n",
    "    v_obtained , t_obtained = function('test_data.txt')\n",
    "    \n",
    "    if(v==v_obtained and time == t_obtained):\n",
    "        return True\n",
    "    else:\n",
    "        return False"
   ]
  },
  {
   "cell_type": "code",
   "execution_count": 12,
   "metadata": {},
   "outputs": [
    {
     "data": {
      "text/plain": [
       "True"
      ]
     },
     "execution_count": 12,
     "metadata": {},
     "output_type": "execute_result"
    }
   ],
   "source": [
    "test_function(return_data)"
   ]
  }
 ],
 "metadata": {
  "kernelspec": {
   "display_name": "Python 3",
   "language": "python",
   "name": "python3"
  },
  "language_info": {
   "codemirror_mode": {
    "name": "ipython",
    "version": 3
   },
   "file_extension": ".py",
   "mimetype": "text/x-python",
   "name": "python",
   "nbconvert_exporter": "python",
   "pygments_lexer": "ipython3",
   "version": "3.6.9"
  }
 },
 "nbformat": 4,
 "nbformat_minor": 2
}
