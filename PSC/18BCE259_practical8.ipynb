{
 "cells": [
  {
   "cell_type": "markdown",
   "metadata": {},
   "source": [
    "# PSC Lab - Practical 8"
   ]
  },
  {
   "cell_type": "markdown",
   "metadata": {},
   "source": [
    "## Roll No: 18BCE259"
   ]
  },
  {
   "cell_type": "markdown",
   "metadata": {},
   "source": [
    "a. Design a python program which performs the linear\n",
    "regression operation on the given data to predict the house\n",
    "price. Also, visualize the data for different attributes.\n"
   ]
  },
  {
   "cell_type": "markdown",
   "metadata": {},
   "source": [
    "### For these problem we will be implementing two methods\n",
    "### 1. sklearn API\n",
    "### 2. Hill Climbing Method"
   ]
  },
  {
   "cell_type": "markdown",
   "metadata": {},
   "source": [
    "## Using sklearn API"
   ]
  },
  {
   "cell_type": "code",
   "execution_count": 1,
   "metadata": {},
   "outputs": [],
   "source": [
    "import pandas as pd\n",
    "from sklearn.linear_model import LinearRegression\n",
    "from sklearn.model_selection import train_test_split\n",
    "from sklearn.metrics import mean_absolute_error"
   ]
  },
  {
   "cell_type": "code",
   "execution_count": 2,
   "metadata": {},
   "outputs": [],
   "source": [
    "%matplotlib inline\n",
    "import matplotlib.pyplot as plt"
   ]
  },
  {
   "cell_type": "code",
   "execution_count": 3,
   "metadata": {},
   "outputs": [
    {
     "data": {
      "text/plain": [
       "Index(['Suburb', 'Address', 'Rooms', 'Type', 'Price', 'Method', 'SellerG',\n",
       "       'Date', 'Distance', 'Postcode', 'Bedroom2', 'Bathroom', 'Car',\n",
       "       'Landsize', 'BuildingArea', 'YearBuilt', 'CouncilArea', 'Lattitude',\n",
       "       'Longtitude', 'Regionname', 'Propertycount'],\n",
       "      dtype='object')"
      ]
     },
     "execution_count": 3,
     "metadata": {},
     "output_type": "execute_result"
    }
   ],
   "source": [
    "melbourne_file_path = 'Melbourne_data/melb_data.csv'\n",
    "melbourne_data = pd.read_csv(melbourne_file_path) \n",
    "melbourne_data.columns"
   ]
  },
  {
   "cell_type": "code",
   "execution_count": 4,
   "metadata": {},
   "outputs": [],
   "source": [
    "melbourne_data = melbourne_data.dropna(axis = 0)"
   ]
  },
  {
   "cell_type": "code",
   "execution_count": 5,
   "metadata": {},
   "outputs": [
    {
     "data": {
      "text/plain": [
       "(6196, 21)"
      ]
     },
     "execution_count": 5,
     "metadata": {},
     "output_type": "execute_result"
    }
   ],
   "source": [
    "melbourne_data.shape"
   ]
  },
  {
   "cell_type": "code",
   "execution_count": 6,
   "metadata": {
    "scrolled": true
   },
   "outputs": [
    {
     "data": {
      "text/html": [
       "<div>\n",
       "<style scoped>\n",
       "    .dataframe tbody tr th:only-of-type {\n",
       "        vertical-align: middle;\n",
       "    }\n",
       "\n",
       "    .dataframe tbody tr th {\n",
       "        vertical-align: top;\n",
       "    }\n",
       "\n",
       "    .dataframe thead th {\n",
       "        text-align: right;\n",
       "    }\n",
       "</style>\n",
       "<table border=\"1\" class=\"dataframe\">\n",
       "  <thead>\n",
       "    <tr style=\"text-align: right;\">\n",
       "      <th></th>\n",
       "      <th>Rooms</th>\n",
       "      <th>Price</th>\n",
       "      <th>Distance</th>\n",
       "      <th>Postcode</th>\n",
       "      <th>Bedroom2</th>\n",
       "      <th>Bathroom</th>\n",
       "      <th>Car</th>\n",
       "      <th>Landsize</th>\n",
       "      <th>BuildingArea</th>\n",
       "      <th>YearBuilt</th>\n",
       "      <th>Lattitude</th>\n",
       "      <th>Longtitude</th>\n",
       "      <th>Propertycount</th>\n",
       "    </tr>\n",
       "  </thead>\n",
       "  <tbody>\n",
       "    <tr>\n",
       "      <th>count</th>\n",
       "      <td>6196.000000</td>\n",
       "      <td>6.196000e+03</td>\n",
       "      <td>6196.000000</td>\n",
       "      <td>6196.000000</td>\n",
       "      <td>6196.000000</td>\n",
       "      <td>6196.000000</td>\n",
       "      <td>6196.000000</td>\n",
       "      <td>6196.000000</td>\n",
       "      <td>6196.000000</td>\n",
       "      <td>6196.000000</td>\n",
       "      <td>6196.000000</td>\n",
       "      <td>6196.000000</td>\n",
       "      <td>6196.000000</td>\n",
       "    </tr>\n",
       "    <tr>\n",
       "      <th>mean</th>\n",
       "      <td>2.931407</td>\n",
       "      <td>1.068828e+06</td>\n",
       "      <td>9.751097</td>\n",
       "      <td>3101.947708</td>\n",
       "      <td>2.902034</td>\n",
       "      <td>1.576340</td>\n",
       "      <td>1.573596</td>\n",
       "      <td>471.006940</td>\n",
       "      <td>141.568645</td>\n",
       "      <td>1964.081988</td>\n",
       "      <td>-37.807904</td>\n",
       "      <td>144.990201</td>\n",
       "      <td>7435.489509</td>\n",
       "    </tr>\n",
       "    <tr>\n",
       "      <th>std</th>\n",
       "      <td>0.971079</td>\n",
       "      <td>6.751564e+05</td>\n",
       "      <td>5.612065</td>\n",
       "      <td>86.421604</td>\n",
       "      <td>0.970055</td>\n",
       "      <td>0.711362</td>\n",
       "      <td>0.929947</td>\n",
       "      <td>897.449881</td>\n",
       "      <td>90.834824</td>\n",
       "      <td>38.105673</td>\n",
       "      <td>0.075850</td>\n",
       "      <td>0.099165</td>\n",
       "      <td>4337.698917</td>\n",
       "    </tr>\n",
       "    <tr>\n",
       "      <th>min</th>\n",
       "      <td>1.000000</td>\n",
       "      <td>1.310000e+05</td>\n",
       "      <td>0.000000</td>\n",
       "      <td>3000.000000</td>\n",
       "      <td>0.000000</td>\n",
       "      <td>1.000000</td>\n",
       "      <td>0.000000</td>\n",
       "      <td>0.000000</td>\n",
       "      <td>0.000000</td>\n",
       "      <td>1196.000000</td>\n",
       "      <td>-38.164920</td>\n",
       "      <td>144.542370</td>\n",
       "      <td>389.000000</td>\n",
       "    </tr>\n",
       "    <tr>\n",
       "      <th>25%</th>\n",
       "      <td>2.000000</td>\n",
       "      <td>6.200000e+05</td>\n",
       "      <td>5.900000</td>\n",
       "      <td>3044.000000</td>\n",
       "      <td>2.000000</td>\n",
       "      <td>1.000000</td>\n",
       "      <td>1.000000</td>\n",
       "      <td>152.000000</td>\n",
       "      <td>91.000000</td>\n",
       "      <td>1940.000000</td>\n",
       "      <td>-37.855438</td>\n",
       "      <td>144.926198</td>\n",
       "      <td>4383.750000</td>\n",
       "    </tr>\n",
       "    <tr>\n",
       "      <th>50%</th>\n",
       "      <td>3.000000</td>\n",
       "      <td>8.800000e+05</td>\n",
       "      <td>9.000000</td>\n",
       "      <td>3081.000000</td>\n",
       "      <td>3.000000</td>\n",
       "      <td>1.000000</td>\n",
       "      <td>1.000000</td>\n",
       "      <td>373.000000</td>\n",
       "      <td>124.000000</td>\n",
       "      <td>1970.000000</td>\n",
       "      <td>-37.802250</td>\n",
       "      <td>144.995800</td>\n",
       "      <td>6567.000000</td>\n",
       "    </tr>\n",
       "    <tr>\n",
       "      <th>75%</th>\n",
       "      <td>4.000000</td>\n",
       "      <td>1.325000e+06</td>\n",
       "      <td>12.400000</td>\n",
       "      <td>3147.000000</td>\n",
       "      <td>3.000000</td>\n",
       "      <td>2.000000</td>\n",
       "      <td>2.000000</td>\n",
       "      <td>628.000000</td>\n",
       "      <td>170.000000</td>\n",
       "      <td>2000.000000</td>\n",
       "      <td>-37.758200</td>\n",
       "      <td>145.052700</td>\n",
       "      <td>10175.000000</td>\n",
       "    </tr>\n",
       "    <tr>\n",
       "      <th>max</th>\n",
       "      <td>8.000000</td>\n",
       "      <td>9.000000e+06</td>\n",
       "      <td>47.400000</td>\n",
       "      <td>3977.000000</td>\n",
       "      <td>9.000000</td>\n",
       "      <td>8.000000</td>\n",
       "      <td>10.000000</td>\n",
       "      <td>37000.000000</td>\n",
       "      <td>3112.000000</td>\n",
       "      <td>2018.000000</td>\n",
       "      <td>-37.457090</td>\n",
       "      <td>145.526350</td>\n",
       "      <td>21650.000000</td>\n",
       "    </tr>\n",
       "  </tbody>\n",
       "</table>\n",
       "</div>"
      ],
      "text/plain": [
       "             Rooms         Price     Distance     Postcode     Bedroom2  \\\n",
       "count  6196.000000  6.196000e+03  6196.000000  6196.000000  6196.000000   \n",
       "mean      2.931407  1.068828e+06     9.751097  3101.947708     2.902034   \n",
       "std       0.971079  6.751564e+05     5.612065    86.421604     0.970055   \n",
       "min       1.000000  1.310000e+05     0.000000  3000.000000     0.000000   \n",
       "25%       2.000000  6.200000e+05     5.900000  3044.000000     2.000000   \n",
       "50%       3.000000  8.800000e+05     9.000000  3081.000000     3.000000   \n",
       "75%       4.000000  1.325000e+06    12.400000  3147.000000     3.000000   \n",
       "max       8.000000  9.000000e+06    47.400000  3977.000000     9.000000   \n",
       "\n",
       "          Bathroom          Car      Landsize  BuildingArea    YearBuilt  \\\n",
       "count  6196.000000  6196.000000   6196.000000   6196.000000  6196.000000   \n",
       "mean      1.576340     1.573596    471.006940    141.568645  1964.081988   \n",
       "std       0.711362     0.929947    897.449881     90.834824    38.105673   \n",
       "min       1.000000     0.000000      0.000000      0.000000  1196.000000   \n",
       "25%       1.000000     1.000000    152.000000     91.000000  1940.000000   \n",
       "50%       1.000000     1.000000    373.000000    124.000000  1970.000000   \n",
       "75%       2.000000     2.000000    628.000000    170.000000  2000.000000   \n",
       "max       8.000000    10.000000  37000.000000   3112.000000  2018.000000   \n",
       "\n",
       "         Lattitude   Longtitude  Propertycount  \n",
       "count  6196.000000  6196.000000    6196.000000  \n",
       "mean    -37.807904   144.990201    7435.489509  \n",
       "std       0.075850     0.099165    4337.698917  \n",
       "min     -38.164920   144.542370     389.000000  \n",
       "25%     -37.855438   144.926198    4383.750000  \n",
       "50%     -37.802250   144.995800    6567.000000  \n",
       "75%     -37.758200   145.052700   10175.000000  \n",
       "max     -37.457090   145.526350   21650.000000  "
      ]
     },
     "execution_count": 6,
     "metadata": {},
     "output_type": "execute_result"
    }
   ],
   "source": [
    "melbourne_data.describe()"
   ]
  },
  {
   "cell_type": "code",
   "execution_count": 7,
   "metadata": {},
   "outputs": [],
   "source": [
    "melbourne_features = ['Rooms', 'Bathroom', 'Landsize', 'Lattitude', 'Longtitude', 'YearBuilt']"
   ]
  },
  {
   "cell_type": "code",
   "execution_count": 8,
   "metadata": {},
   "outputs": [
    {
     "data": {
      "text/html": [
       "<div>\n",
       "<style scoped>\n",
       "    .dataframe tbody tr th:only-of-type {\n",
       "        vertical-align: middle;\n",
       "    }\n",
       "\n",
       "    .dataframe tbody tr th {\n",
       "        vertical-align: top;\n",
       "    }\n",
       "\n",
       "    .dataframe thead th {\n",
       "        text-align: right;\n",
       "    }\n",
       "</style>\n",
       "<table border=\"1\" class=\"dataframe\">\n",
       "  <thead>\n",
       "    <tr style=\"text-align: right;\">\n",
       "      <th></th>\n",
       "      <th>Rooms</th>\n",
       "      <th>Bathroom</th>\n",
       "      <th>Landsize</th>\n",
       "      <th>Lattitude</th>\n",
       "      <th>Longtitude</th>\n",
       "      <th>YearBuilt</th>\n",
       "    </tr>\n",
       "  </thead>\n",
       "  <tbody>\n",
       "    <tr>\n",
       "      <th>count</th>\n",
       "      <td>6196.000000</td>\n",
       "      <td>6196.000000</td>\n",
       "      <td>6196.000000</td>\n",
       "      <td>6196.000000</td>\n",
       "      <td>6196.000000</td>\n",
       "      <td>6196.000000</td>\n",
       "    </tr>\n",
       "    <tr>\n",
       "      <th>mean</th>\n",
       "      <td>2.931407</td>\n",
       "      <td>1.576340</td>\n",
       "      <td>471.006940</td>\n",
       "      <td>-37.807904</td>\n",
       "      <td>144.990201</td>\n",
       "      <td>1964.081988</td>\n",
       "    </tr>\n",
       "    <tr>\n",
       "      <th>std</th>\n",
       "      <td>0.971079</td>\n",
       "      <td>0.711362</td>\n",
       "      <td>897.449881</td>\n",
       "      <td>0.075850</td>\n",
       "      <td>0.099165</td>\n",
       "      <td>38.105673</td>\n",
       "    </tr>\n",
       "    <tr>\n",
       "      <th>min</th>\n",
       "      <td>1.000000</td>\n",
       "      <td>1.000000</td>\n",
       "      <td>0.000000</td>\n",
       "      <td>-38.164920</td>\n",
       "      <td>144.542370</td>\n",
       "      <td>1196.000000</td>\n",
       "    </tr>\n",
       "    <tr>\n",
       "      <th>25%</th>\n",
       "      <td>2.000000</td>\n",
       "      <td>1.000000</td>\n",
       "      <td>152.000000</td>\n",
       "      <td>-37.855438</td>\n",
       "      <td>144.926198</td>\n",
       "      <td>1940.000000</td>\n",
       "    </tr>\n",
       "    <tr>\n",
       "      <th>50%</th>\n",
       "      <td>3.000000</td>\n",
       "      <td>1.000000</td>\n",
       "      <td>373.000000</td>\n",
       "      <td>-37.802250</td>\n",
       "      <td>144.995800</td>\n",
       "      <td>1970.000000</td>\n",
       "    </tr>\n",
       "    <tr>\n",
       "      <th>75%</th>\n",
       "      <td>4.000000</td>\n",
       "      <td>2.000000</td>\n",
       "      <td>628.000000</td>\n",
       "      <td>-37.758200</td>\n",
       "      <td>145.052700</td>\n",
       "      <td>2000.000000</td>\n",
       "    </tr>\n",
       "    <tr>\n",
       "      <th>max</th>\n",
       "      <td>8.000000</td>\n",
       "      <td>8.000000</td>\n",
       "      <td>37000.000000</td>\n",
       "      <td>-37.457090</td>\n",
       "      <td>145.526350</td>\n",
       "      <td>2018.000000</td>\n",
       "    </tr>\n",
       "  </tbody>\n",
       "</table>\n",
       "</div>"
      ],
      "text/plain": [
       "             Rooms     Bathroom      Landsize    Lattitude   Longtitude  \\\n",
       "count  6196.000000  6196.000000   6196.000000  6196.000000  6196.000000   \n",
       "mean      2.931407     1.576340    471.006940   -37.807904   144.990201   \n",
       "std       0.971079     0.711362    897.449881     0.075850     0.099165   \n",
       "min       1.000000     1.000000      0.000000   -38.164920   144.542370   \n",
       "25%       2.000000     1.000000    152.000000   -37.855438   144.926198   \n",
       "50%       3.000000     1.000000    373.000000   -37.802250   144.995800   \n",
       "75%       4.000000     2.000000    628.000000   -37.758200   145.052700   \n",
       "max       8.000000     8.000000  37000.000000   -37.457090   145.526350   \n",
       "\n",
       "         YearBuilt  \n",
       "count  6196.000000  \n",
       "mean   1964.081988  \n",
       "std      38.105673  \n",
       "min    1196.000000  \n",
       "25%    1940.000000  \n",
       "50%    1970.000000  \n",
       "75%    2000.000000  \n",
       "max    2018.000000  "
      ]
     },
     "execution_count": 8,
     "metadata": {},
     "output_type": "execute_result"
    }
   ],
   "source": [
    "X = melbourne_data[melbourne_features]\n",
    "X.describe()"
   ]
  },
  {
   "cell_type": "code",
   "execution_count": 9,
   "metadata": {},
   "outputs": [],
   "source": [
    "Y = melbourne_data['Price']"
   ]
  },
  {
   "cell_type": "code",
   "execution_count": 10,
   "metadata": {},
   "outputs": [
    {
     "data": {
      "text/plain": [
       "count    6.196000e+03\n",
       "mean     1.068828e+06\n",
       "std      6.751564e+05\n",
       "min      1.310000e+05\n",
       "25%      6.200000e+05\n",
       "50%      8.800000e+05\n",
       "75%      1.325000e+06\n",
       "max      9.000000e+06\n",
       "Name: Price, dtype: float64"
      ]
     },
     "execution_count": 10,
     "metadata": {},
     "output_type": "execute_result"
    }
   ],
   "source": [
    "Y.describe()"
   ]
  },
  {
   "cell_type": "code",
   "execution_count": 11,
   "metadata": {},
   "outputs": [],
   "source": [
    "Y = Y/1e7"
   ]
  },
  {
   "cell_type": "code",
   "execution_count": 12,
   "metadata": {},
   "outputs": [
    {
     "data": {
      "text/plain": [
       "count    6196.000000\n",
       "mean        0.106883\n",
       "std         0.067516\n",
       "min         0.013100\n",
       "25%         0.062000\n",
       "50%         0.088000\n",
       "75%         0.132500\n",
       "max         0.900000\n",
       "Name: Price, dtype: float64"
      ]
     },
     "execution_count": 12,
     "metadata": {},
     "output_type": "execute_result"
    }
   ],
   "source": [
    "Y.describe()"
   ]
  },
  {
   "cell_type": "code",
   "execution_count": 13,
   "metadata": {},
   "outputs": [],
   "source": [
    "X_train, X_test, y_train, y_test = train_test_split(X, Y, test_size=0.2, random_state=42)"
   ]
  },
  {
   "cell_type": "code",
   "execution_count": 14,
   "metadata": {},
   "outputs": [],
   "source": [
    "model = LinearRegression(n_jobs = -1)"
   ]
  },
  {
   "cell_type": "code",
   "execution_count": 15,
   "metadata": {},
   "outputs": [
    {
     "data": {
      "text/plain": [
       "LinearRegression(copy_X=True, fit_intercept=True, n_jobs=-1, normalize=False)"
      ]
     },
     "execution_count": 15,
     "metadata": {},
     "output_type": "execute_result"
    }
   ],
   "source": [
    "model.fit(X_train, y_train)"
   ]
  },
  {
   "cell_type": "code",
   "execution_count": 16,
   "metadata": {
    "scrolled": false
   },
   "outputs": [
    {
     "data": {
      "image/png": "[encoded data removed]",
      "text/plain": [
       "<Figure size 1152x648 with 1 Axes>"
      ]
     },
     "metadata": {},
     "output_type": "display_data"
    }
   ],
   "source": [
    "fig = plt.figure(figsize = (16,9))\n",
    "plt.scatter(x = ['Rooms', 'Bathroom', 'Landsize', 'Lattitude', 'Longtitude', 'YearBuilt'],y = model.coef_)\n",
    "plt.grid(True)"
   ]
  },
  {
   "cell_type": "code",
   "execution_count": 17,
   "metadata": {
    "scrolled": true
   },
   "outputs": [
    {
     "data": {
      "text/plain": [
       "{'fit_intercept': True,\n",
       " 'normalize': False,\n",
       " 'copy_X': True,\n",
       " 'n_jobs': -1,\n",
       " 'coef_': array([ 1.99679686e-02,  3.41740672e-02,  2.28203372e-06, -1.32317153e-01,\n",
       "         6.63274139e-02, -5.85561457e-04]),\n",
       " '_residues': 11.917073712457281,\n",
       " 'rank_': 6,\n",
       " 'singular_': array([6.77967170e+04, 2.69463568e+03, 7.68816101e+01, 3.38961451e+01,\n",
       "        7.39445575e+00, 4.60121263e+00]),\n",
       " 'intercept_': -13.475674058386405}"
      ]
     },
     "execution_count": 17,
     "metadata": {},
     "output_type": "execute_result"
    }
   ],
   "source": [
    "model.__dict__"
   ]
  },
  {
   "cell_type": "code",
   "execution_count": 18,
   "metadata": {},
   "outputs": [],
   "source": [
    "y_predict = model.predict(X_test)"
   ]
  },
  {
   "cell_type": "code",
   "execution_count": 19,
   "metadata": {
    "scrolled": true
   },
   "outputs": [
    {
     "name": "stdout",
     "output_type": "stream",
     "text": [
      "0.031395725059841686\n"
     ]
    }
   ],
   "source": [
    "print(mean_absolute_error(y_test, y_predict))"
   ]
  },
  {
   "cell_type": "markdown",
   "metadata": {},
   "source": [
    "## Hill Climbing"
   ]
  },
  {
   "cell_type": "code",
   "execution_count": 20,
   "metadata": {},
   "outputs": [],
   "source": [
    "import random\n",
    "import numpy as np"
   ]
  },
  {
   "cell_type": "code",
   "execution_count": 21,
   "metadata": {},
   "outputs": [],
   "source": [
    "# building model\n",
    "\n",
    "# we have ['Rooms', 'Bathroom', 'Landsize', 'Lattitude', 'Longtitude', 'YearBuilt'] as features\n",
    "# y = b0 + b1*x1 + b2*x2 + b3*x3 + b4*x4 + b5*x5 + b6*x6\n",
    "\n",
    "# b0, b1, b2, b3, b4, b5, b6 = 0,0,0,0,0,0,0\n",
    "\n",
    "b = np.array([[0,0,0,0,0,0,0]] ,dtype=np.float64)\n",
    "b = b.T"
   ]
  },
  {
   "cell_type": "code",
   "execution_count": 22,
   "metadata": {},
   "outputs": [
    {
     "data": {
      "text/plain": [
       "array([[0.],\n",
       "       [0.],\n",
       "       [0.],\n",
       "       [0.],\n",
       "       [0.],\n",
       "       [0.],\n",
       "       [0.]])"
      ]
     },
     "execution_count": 22,
     "metadata": {},
     "output_type": "execute_result"
    }
   ],
   "source": [
    "b"
   ]
  },
  {
   "cell_type": "code",
   "execution_count": 23,
   "metadata": {},
   "outputs": [],
   "source": [
    "melbourne_data['ones'] = 1"
   ]
  },
  {
   "cell_type": "code",
   "execution_count": 24,
   "metadata": {},
   "outputs": [],
   "source": [
    "data = np.array(melbourne_data[['ones','Rooms', 'Bathroom', 'Landsize', 'Lattitude', 'Longtitude', 'YearBuilt']])"
   ]
  },
  {
   "cell_type": "code",
   "execution_count": 25,
   "metadata": {},
   "outputs": [],
   "source": [
    "np_price = np.array([melbourne_data['Price']])"
   ]
  },
  {
   "cell_type": "code",
   "execution_count": 26,
   "metadata": {},
   "outputs": [
    {
     "data": {
      "text/plain": [
       "array([[1035000., 1465000., 1600000., ...,  385000.,  560000., 2450000.]])"
      ]
     },
     "execution_count": 26,
     "metadata": {},
     "output_type": "execute_result"
    }
   ],
   "source": [
    "np_price"
   ]
  },
  {
   "cell_type": "code",
   "execution_count": 27,
   "metadata": {},
   "outputs": [],
   "source": [
    "# number of iterations to perform\n",
    "epochs = 10_000_000"
   ]
  },
  {
   "cell_type": "code",
   "execution_count": 28,
   "metadata": {},
   "outputs": [],
   "source": [
    "best_loss = 10000000000000000000.0  # Initialize with a really large value"
   ]
  },
  {
   "cell_type": "markdown",
   "metadata": {},
   "source": [
    "## The cell below is going to take computation time"
   ]
  },
  {
   "cell_type": "code",
   "execution_count": 29,
   "metadata": {},
   "outputs": [],
   "source": [
    "# # for i in range(epochs):\n",
    "#     if i%1000 == 0:\n",
    "#         print(f\"{ i/epochs * 100} % complete\")\n",
    "#     random_b = random.choice(range(7))\n",
    "\n",
    "#     random_adjust = np.random.normal()\n",
    "\n",
    "#     if random_b == 0:\n",
    "#         b[0][0] += random_adjust\n",
    "#     elif random_b == 1:\n",
    "#         b[1][0] += random_adjust\n",
    "#     elif random_b == 2:\n",
    "#         b[2][0] += random_adjust\n",
    "#     elif random_b == 3:\n",
    "#         b[3][0] += random_adjust\n",
    "#     elif random_b == 4:\n",
    "#         b[4][0] += random_adjust\n",
    "#     elif random_b == 5:\n",
    "#         b[5][0] += random_adjust\n",
    "#     elif random_b == 6:\n",
    "#         b[6][0] += random_adjust\n",
    "\n",
    "#     # Calculate loss, which is total mean squared error\n",
    "#     new_loss = 0.0\n",
    "    \n",
    "#     dot_pr = data.dot(b)\n",
    "#     dot_pr = dot_pr.T\n",
    "#     temp = np_price - dot_pr\n",
    "#     temp = temp**2\n",
    "    \n",
    "#     new_loss = np.sum(temp)\n",
    "    \n",
    "# #     for i, p in melbourne_data.iterrows():\n",
    "# #         new_loss += (p['Price'] - (b0 + b1 * p['Rooms'] + b2 * p['Bathroom'] + b3 * p['Landsize'] + b4 * p['Lattitude'] + b5 * p['Longtitude'] + b6 * p['YearBuilt'])) ** 2\n",
    "\n",
    "#     # If loss has improved, keep new values. Otherwise revert.\n",
    "#     if new_loss < best_loss:\n",
    "# #         print(\"z = {0} + {1}x1 + {2}x2 + {3}x3 + {4}x4 + {5}x5 + {6}x6\".format(b[0][0], b[1][0], b[2][0], b[3][0],b[4][0], b[5][0], b[6][0]))\n",
    "#         best_loss = new_loss\n",
    "#     else:\n",
    "#         if random_b == 0:\n",
    "#             b[0][0] -= random_adjust\n",
    "#         elif random_b == 1:\n",
    "#             b[1][0] -= random_adjust\n",
    "#         elif random_b == 2:\n",
    "#             b[2][0] -= random_adjust\n",
    "#         elif random_b == 3:\n",
    "#             b[3][0] -= random_adjust\n",
    "#         elif random_b == 4:\n",
    "#             b[4][0] -= random_adjust\n",
    "#         elif random_b == 5:\n",
    "#             b[5][0] -= random_adjust\n",
    "#         elif random_b == 6:\n",
    "#             b[6][0] -= random_adjust"
   ]
  },
  {
   "cell_type": "code",
   "execution_count": 30,
   "metadata": {},
   "outputs": [],
   "source": [
    "# print(\"z = {0} + {1}x1 + {2}x2 + {3}x3 + {4}x4 + {5}x5 + {6}x6\".format(b[0][0], b[1][0], b[2][0], b[3][0],b[4][0], b[5][0], b[6][0]))"
   ]
  },
  {
   "cell_type": "code",
   "execution_count": 31,
   "metadata": {},
   "outputs": [],
   "source": [
    "# model.coef_"
   ]
  },
  {
   "cell_type": "code",
   "execution_count": 32,
   "metadata": {},
   "outputs": [],
   "source": [
    "# dot_pr = data.dot(b)\n",
    "# y_predict_hc = dot_pr.T"
   ]
  },
  {
   "cell_type": "code",
   "execution_count": 33,
   "metadata": {},
   "outputs": [],
   "source": [
    "# mean_absolute_error(np_price, y_predict_hc)"
   ]
  },
  {
   "cell_type": "markdown",
   "metadata": {},
   "source": [
    "# 8b. Design a python program which implement the bisection and false positioning method."
   ]
  },
  {
   "cell_type": "code",
   "execution_count": 34,
   "metadata": {},
   "outputs": [],
   "source": [
    "def func(x):\n",
    "    return (x**2) - (5*x) + 1"
   ]
  },
  {
   "cell_type": "code",
   "execution_count": 35,
   "metadata": {},
   "outputs": [],
   "source": [
    "def falsePos(x0,x1,e,func):\n",
    "    print(\"False Position Method\\n================================\\n\")\n",
    "    step = 1\n",
    "    condition = True\n",
    "    while condition:\n",
    "        c = x0 - (x1-x0) * func(x0)/( func(x1) - func(x0) )\n",
    "        print(f'Iteration-{step}, c = {c} and f(c) = {func(c)}')\n",
    "\n",
    "        if func(x0) * func(c) < 0:\n",
    "            x1 = c\n",
    "        else:\n",
    "            x0 = c\n",
    "\n",
    "        step = step + 1\n",
    "        condition = abs(func(c)) > e\n",
    "\n",
    "    print(f'\\nRequired root is: {c}')\n",
    "    print(f\"Steps required: {step-1}\")"
   ]
  },
  {
   "cell_type": "code",
   "execution_count": 36,
   "metadata": {},
   "outputs": [],
   "source": [
    "def bisection(x0,x1,e,func):\n",
    "    print(\"Bisection Position Method\\n================================\\n\")\n",
    "    step = 1\n",
    "    condition = True\n",
    "    while condition:\n",
    "        c = (x0 + x1)/2\n",
    "        print(f'Iteration-{step}, c = {c} and f(c) = {func(c)}')\n",
    "\n",
    "        if func(x0) * func(c) < 0:\n",
    "            x1 = c\n",
    "        else:\n",
    "            x0 = c\n",
    "\n",
    "        step = step + 1\n",
    "        condition = abs(func(c)) > e\n",
    "\n",
    "    print(f'\\nRequired root is: {c}')\n",
    "    print(f\"Steps required: {step-1}\")"
   ]
  },
  {
   "cell_type": "code",
   "execution_count": 37,
   "metadata": {},
   "outputs": [],
   "source": [
    "def findRoot(func):\n",
    "    x0 = float(input(\"Enter x0: \"))\n",
    "    x1 = float(input(\"Enter x1: \"))\n",
    "    e = float(input(\"Enter acceptable error, e: \"))\n",
    "    \n",
    "    if func(x0) * func(x1) > 0.0:\n",
    "        print('Given guess values do not bracket the root.')\n",
    "        print('Try Again with different guess values.')\n",
    "    else:\n",
    "        falsePos(x0,x1,e,func)\n",
    "        bisection(x0,x1,e,func)"
   ]
  },
  {
   "cell_type": "code",
   "execution_count": 39,
   "metadata": {
    "scrolled": true
   },
   "outputs": [
    {
     "name": "stdout",
     "output_type": "stream",
     "text": [
      "Enter x0: -12\n",
      "Enter x1: 12\n",
      "Enter acceptable error, e: 0.000000001\n",
      "Given guess values do not bracket the root.\n",
      "Try Again with different guess values.\n"
     ]
    }
   ],
   "source": [
    "findRoot(func)"
   ]
  },
  {
   "cell_type": "markdown",
   "metadata": {},
   "source": [
    "# 8c. Design a python program which generate the 100 random variable and find out the mean, medium and mode for the same."
   ]
  },
  {
   "cell_type": "code",
   "execution_count": 40,
   "metadata": {},
   "outputs": [],
   "source": [
    "import numpy as np\n",
    "from scipy import stats"
   ]
  },
  {
   "cell_type": "code",
   "execution_count": 41,
   "metadata": {},
   "outputs": [],
   "source": [
    "rn = np.random.randint(100,size=100)"
   ]
  },
  {
   "cell_type": "code",
   "execution_count": 42,
   "metadata": {},
   "outputs": [
    {
     "data": {
      "text/plain": [
       "array([90, 54,  3, 64, 87, 72, 63, 47, 88, 54,  3, 18,  3, 54, 54, 85, 59,\n",
       "       41, 36, 20, 73, 48, 54, 37, 83, 11, 68,  6,  3, 96,  4, 35, 83, 48,\n",
       "       76, 70, 81, 98, 44,  9, 81, 42, 30, 62, 28, 61, 66, 97, 64,  3, 23,\n",
       "       55, 73, 78, 88, 51, 16, 90, 83, 98, 71, 96, 74, 41, 35, 98, 63, 86,\n",
       "       27, 25, 63, 53, 76, 43, 81, 63, 10, 35, 65, 34,  8, 97, 93,  4, 38,\n",
       "        4, 42, 72, 26, 69, 75, 44, 60, 55, 98, 75,  9, 19, 79, 12])"
      ]
     },
     "execution_count": 42,
     "metadata": {},
     "output_type": "execute_result"
    }
   ],
   "source": [
    "rn"
   ]
  },
  {
   "cell_type": "code",
   "execution_count": 43,
   "metadata": {},
   "outputs": [],
   "source": [
    "rn_mean, rn_median, rn_mode = np.mean(rn), np.median(rn), stats.mode(rn)"
   ]
  },
  {
   "cell_type": "code",
   "execution_count": 44,
   "metadata": {},
   "outputs": [
    {
     "data": {
      "text/plain": [
       "ModeResult(mode=array([3]), count=array([5]))"
      ]
     },
     "execution_count": 44,
     "metadata": {},
     "output_type": "execute_result"
    }
   ],
   "source": [
    "rn_mode"
   ]
  },
  {
   "cell_type": "code",
   "execution_count": null,
   "metadata": {},
   "outputs": [],
   "source": []
  }
 ],
 "metadata": {
  "kernelspec": {
   "display_name": "Python 3",
   "language": "python",
   "name": "python3"
  },
  "language_info": {
   "codemirror_mode": {
    "name": "ipython",
    "version": 3
   },
   "file_extension": ".py",
   "mimetype": "text/x-python",
   "name": "python",
   "nbconvert_exporter": "python",
   "pygments_lexer": "ipython3",
   "version": "3.7.3"
  }
 },
 "nbformat": 4,
 "nbformat_minor": 4
}
