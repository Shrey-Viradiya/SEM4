{
 "cells": [
  {
   "cell_type": "code",
   "execution_count": 1,
   "metadata": {},
   "outputs": [],
   "source": [
    "import csv\n",
    "import random as rn\n",
    "import numpy as np"
   ]
  },
  {
   "cell_type": "code",
   "execution_count": 2,
   "metadata": {},
   "outputs": [],
   "source": [
    "brandList = ['Nokia','Apple','OnePlus','Samsung','Xioami','RealMe','Motorola','Honor','Oppo','Lenovo','Vivo','LG','LYF']"
   ]
  },
  {
   "cell_type": "code",
   "execution_count": 4,
   "metadata": {},
   "outputs": [],
   "source": [
    "with open('mobile_usage_data.csv','w') as f:\n",
    "    cw = csv.writer(f,delimiter = ',')\n",
    "    cw.writerow(['Brand','User_Age','Daily_Usage_(in_minutes)'])\n",
    "    \n",
    "    for _ in range(10000):\n",
    "        user_age = int(np.random.normal(35,15))\n",
    "        if(user_age < 10 or user_age > 95):\n",
    "            user_age = rn.randint(11,94)\n",
    "        usage = int(np.random.normal(120,80))\n",
    "        if(usage < 10 or usage > 300):\n",
    "            rn.randint(10,300)\n",
    "        cw.writerow([rn.choice(brandList),user_age,usage])"
   ]
  },
  {
   "cell_type": "code",
   "execution_count": null,
   "metadata": {},
   "outputs": [],
   "source": []
  }
 ],
 "metadata": {
  "kernelspec": {
   "display_name": "Python 3",
   "language": "python",
   "name": "python3"
  },
  "language_info": {
   "codemirror_mode": {
    "name": "ipython",
    "version": 3
   },
   "file_extension": ".py",
   "mimetype": "text/x-python",
   "name": "python",
   "nbconvert_exporter": "python",
   "pygments_lexer": "ipython3",
   "version": "3.6.9"
  }
 },
 "nbformat": 4,
 "nbformat_minor": 2
}
