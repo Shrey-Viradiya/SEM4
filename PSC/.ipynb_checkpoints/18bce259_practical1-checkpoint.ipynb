{
 "cells": [
  {
   "cell_type": "markdown",
   "metadata": {},
   "source": [
    "### Develop a python program to make a simple calculator using a conditional loop."
   ]
  },
  {
   "cell_type": "code",
   "execution_count": 1,
   "metadata": {},
   "outputs": [
    {
     "name": "stdout",
     "output_type": "stream",
     "text": [
      "\n",
      "Enter the first number: 25\n",
      "Enter the second number: 63\n",
      "\n",
      "\n",
      "A calculator program:\n",
      "Addition: Enter +\n",
      "Subtraction: Enter -\n",
      "Multiplication: Enter *\n",
      "Division: Enter /\n",
      "\n",
      "\n",
      "Enter the operation: +\n",
      "Addition is  88.0\n",
      "\n",
      "\n",
      "Want to do it again? Y/N (yes is defualt answer)n\n"
     ]
    }
   ],
   "source": [
    "while(True):\n",
    "    try:\n",
    "        x = float(input(\"\\nEnter the first number: \"))\n",
    "        y = float(input(\"Enter the second number: \"))\n",
    "    except ValueError:\n",
    "        print(\"\\nEnter a valid value\")\n",
    "        continue\n",
    "\n",
    "    print(\"\\n\\nA calculator program:\")\n",
    "    print(\"Addition: Enter +\")\n",
    "    print(\"Subtraction: Enter -\")\n",
    "    print(\"Multiplication: Enter *\")\n",
    "    print(\"Division: Enter /\")\n",
    "\n",
    "    a = input(\"\\n\\nEnter the operation: \")\n",
    "\n",
    "    if(a == '+'):\n",
    "        print(\"Addition is \", x + y)\n",
    "    elif (a=='-'):\n",
    "        print(\"Subtraction is\",x-y)\n",
    "    elif (a=='*'):\n",
    "        print(\"Multiplication is\",x*y)\n",
    "    elif (a=='/'):\n",
    "        try:\n",
    "            print(\"Division is\",x/y)\n",
    "        except ZeroDivisionError:\n",
    "            print(\"Can't devide by zero.\")\n",
    "    else:\n",
    "        print(\"\\n\\nNot sure what to do!\")\n",
    "        \n",
    "    i = input(\"\\n\\nWant to do it again? Y/N (yes is defualt answer)\")\n",
    "    if(i == 'n' or i == 'N'):\n",
    "        break       "
   ]
  },
  {
   "cell_type": "markdown",
   "metadata": {},
   "source": [
    "### Write a function areaTriangle that takes the lengths of three sides of the triangle as input parameters and returns the area of the triangle as an output. Also, assert that the sum of the length of any two sides is higher than the third side. Write a main function that accepts as command-line arguments and computes the area of a triangle using the function areaTriangle."
   ]
  },
  {
   "cell_type": "code",
   "execution_count": 2,
   "metadata": {},
   "outputs": [],
   "source": [
    "from math import sqrt\n",
    "\n",
    "def calcArea(x,y,z):\n",
    "    s = (x+y+z)/2\n",
    "    return sqrt(s*(s-x)*(s-y)*(s-z))"
   ]
  },
  {
   "cell_type": "code",
   "execution_count": 3,
   "metadata": {},
   "outputs": [
    {
     "name": "stdout",
     "output_type": "stream",
     "text": [
      "Enter the three sides of the triangle:\n",
      "Enter the first side: 25\n",
      "Enter the second side: 36\n",
      "Enter the third side: 25\n",
      "Area of triangle is 312.2883283121545\n"
     ]
    }
   ],
   "source": [
    "def main():\n",
    "    print(\"Enter the three sides of the triangle:\")\n",
    "    \n",
    "    while(True):\n",
    "        x = float(input(\"Enter the first side: \"))\n",
    "        y = float(input(\"Enter the second side: \"))\n",
    "        z = float(input(\"Enter the third side: \"))\n",
    "        \n",
    "        if(x >= (y+z) or y >= (x+z) or z >= (x+y) or x<=0 or y<=0 or z<=0):\n",
    "            print(\"Sides are not correct. Try Again\")\n",
    "        else:\n",
    "            break\n",
    "            \n",
    "    print(\"Area of triangle is\", calcArea(x,y,z))\n",
    "\n",
    "main()"
   ]
  },
  {
   "cell_type": "markdown",
   "metadata": {},
   "source": [
    "### Write a function that takes two numbers as input parameters and returns True or False depending on whether they are coprimes. Two numbers are said to be co-prime if they do not have any common divisor other than one"
   ]
  },
  {
   "cell_type": "code",
   "execution_count": 4,
   "metadata": {},
   "outputs": [],
   "source": [
    "from math import gcd\n",
    "\n",
    "def isCoPrime(x,y):\n",
    "    return gcd(x,y)==1"
   ]
  },
  {
   "cell_type": "code",
   "execution_count": 5,
   "metadata": {},
   "outputs": [
    {
     "name": "stdout",
     "output_type": "stream",
     "text": [
      "Enter the first number: 15\n",
      "Enter the second number: 13\n"
     ]
    }
   ],
   "source": [
    "m = int(input(\"Enter the first number: \"))\n",
    "n = int(input(\"Enter the second number: \"))"
   ]
  },
  {
   "cell_type": "code",
   "execution_count": 6,
   "metadata": {},
   "outputs": [
    {
     "name": "stdout",
     "output_type": "stream",
     "text": [
      "True\n"
     ]
    }
   ],
   "source": [
    "print(isCoPrime(m,n))"
   ]
  },
  {
   "cell_type": "markdown",
   "metadata": {},
   "source": [
    "### Write a function that takes a string as a parameter and returns a string with every successive repetitive character replaced with a star(*). For Example, ‘balloon’ is returned as ‘bal*o*n’.\n"
   ]
  },
  {
   "cell_type": "code",
   "execution_count": 7,
   "metadata": {},
   "outputs": [],
   "source": [
    "def pracD():\n",
    "    s = list(input(\"Enter the string\"))\n",
    "\n",
    "    for i in range(len(s)-1):\n",
    "        if(s[i] == s[i+1]):\n",
    "            s[i+1]='*'\n",
    "#     print(s)\n",
    "    print(\"\".join(s))"
   ]
  },
  {
   "cell_type": "code",
   "execution_count": 8,
   "metadata": {},
   "outputs": [
    {
     "name": "stdout",
     "output_type": "stream",
     "text": [
      "Enter the stringBalloon\n",
      "Bal*o*n\n"
     ]
    }
   ],
   "source": [
    "pracD()"
   ]
  },
  {
   "cell_type": "markdown",
   "metadata": {},
   "source": [
    "### Write a function that takes a number as n input parameter and returns the corresponding text in words; for example, on input 452, the function should return ‘Four Five Two’. Use a dictionary for mapping to digits to their string representation."
   ]
  },
  {
   "cell_type": "code",
   "execution_count": 9,
   "metadata": {},
   "outputs": [],
   "source": [
    "N2L = {\n",
    "    '1': \"One\",\n",
    "    '2': \"Two\",\n",
    "    '3': \"Three\",\n",
    "    '4': \"Four\",\n",
    "    '5': \"Five\",\n",
    "    '6': \"Six\",\n",
    "    '7': \"Seven\",\n",
    "    '8': \"Eight\",\n",
    "    '9': \"Nine\",\n",
    "    '0': \"Zero\"\n",
    "}"
   ]
  },
  {
   "cell_type": "code",
   "execution_count": 10,
   "metadata": {},
   "outputs": [],
   "source": [
    "def number2letter(number):\n",
    "    for i in number:\n",
    "        print(N2L[i] , end=\" \")"
   ]
  },
  {
   "cell_type": "code",
   "execution_count": 11,
   "metadata": {},
   "outputs": [
    {
     "name": "stdout",
     "output_type": "stream",
     "text": [
      "Enter the number: 35684\n",
      "Three Five Six Eight Four "
     ]
    }
   ],
   "source": [
    "number2letter(input(\"Enter the number: \"))"
   ]
  },
  {
   "cell_type": "markdown",
   "metadata": {},
   "source": [
    "### Write a recursive function that takes x value as an input parameter and print x-digit strictly in increasing number. [i.e. x = 6 than output 67891011] "
   ]
  },
  {
   "cell_type": "code",
   "execution_count": 12,
   "metadata": {},
   "outputs": [
    {
     "name": "stdout",
     "output_type": "stream",
     "text": [
      "Enter the number: 6\n",
      "6\n"
     ]
    }
   ],
   "source": [
    "x = int(input(\"Enter the number: \"))\n",
    "print(x)    "
   ]
  },
  {
   "cell_type": "code",
   "execution_count": 13,
   "metadata": {},
   "outputs": [
    {
     "name": "stdout",
     "output_type": "stream",
     "text": [
      "6\n",
      "7\n",
      "8\n",
      "9\n",
      "10\n",
      "11\n"
     ]
    }
   ],
   "source": [
    "t = x;\n",
    "while(t != 0):\n",
    "    print(x)\n",
    "    x+=1\n",
    "    t-=1"
   ]
  },
  {
   "cell_type": "code",
   "execution_count": 14,
   "metadata": {},
   "outputs": [],
   "source": [
    "def rec_fun(num,count):\n",
    "    if(count != 0):\n",
    "        print(num,end=\"\")\n",
    "        num+=1\n",
    "        count-=1\n",
    "        rec_fun(num,count)\n",
    "\n",
    "def increasingNumber(x):\n",
    "    t = x;\n",
    "    rec_fun(x,t)"
   ]
  },
  {
   "cell_type": "code",
   "execution_count": 15,
   "metadata": {
    "scrolled": true
   },
   "outputs": [
    {
     "name": "stdout",
     "output_type": "stream",
     "text": [
      "1415161718192021222324252627"
     ]
    }
   ],
   "source": [
    "increasingNumber(14)"
   ]
  }
 ],
 "metadata": {
  "kernelspec": {
   "display_name": "Python 3",
   "language": "python",
   "name": "python3"
  },
  "language_info": {
   "codemirror_mode": {
    "name": "ipython",
    "version": 3
   },
   "file_extension": ".py",
   "mimetype": "text/x-python",
   "name": "python",
   "nbconvert_exporter": "python",
   "pygments_lexer": "ipython3",
   "version": "3.6.9"
  }
 },
 "nbformat": 4,
 "nbformat_minor": 2
}
