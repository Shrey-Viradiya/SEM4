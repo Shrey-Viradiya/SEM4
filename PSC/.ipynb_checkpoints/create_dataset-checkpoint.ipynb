{
 "cells": [
  {
   "cell_type": "code",
   "execution_count": 11,
   "metadata": {},
   "outputs": [],
   "source": [
    "import csv\n",
    "import random as rn\n",
    "import numpy as np"
   ]
  },
  {
   "cell_type": "code",
   "execution_count": 6,
   "metadata": {},
   "outputs": [],
   "source": [
    "brandList = ['Nokia','Apple','OnePlus','Samsung','Xioami','RealMe','Motorola','Honor','Oppo','Lenovo','Vivo','LG','LYF']"
   ]
  },
  {
   "cell_type": "code",
   "execution_count": 16,
   "metadata": {},
   "outputs": [],
   "source": [
    "with open('mobile_usage_data.csv','w') as f:\n",
    "    cw = csv.writer(f,delimiter = ',')\n",
    "    cw.writerow(['Brand','User_Age','Daily_Usage_(in_minutes)'])\n",
    "    \n",
    "    for _ in range(10000):\n",
    "        user_age = int(np.random.normal(35,35))\n",
    "        if(user_age < 10 or user_age > 95):\n",
    "            user_age = rn.randint(11,94)\n",
    "        usage = int(np.random.normal(120,80))\n",
    "        if(usage < 10 or usage > 300):\n",
    "            rn.randint(10,300)\n",
    "        cw.writerow([rn.choice(brandList),user_age,usage])"
   ]
  },
  {
   "cell_type": "code",
   "execution_count": null,
   "metadata": {},
   "outputs": [],
   "source": []
  }
 ],
 "metadata": {
  "kernelspec": {
   "display_name": "Python 3.7.3 64-bit",
   "language": "python",
   "name": "python37364bit8d407331a8dc4f9a9cc477cd7c3d3060"
  },
  "language_info": {
   "codemirror_mode": {
    "name": "ipython",
    "version": 3
   },
   "file_extension": ".py",
   "mimetype": "text/x-python",
   "name": "python",
   "nbconvert_exporter": "python",
   "pygments_lexer": "ipython3",
   "version": "3.7.3"
  }
 },
 "nbformat": 4,
 "nbformat_minor": 2
}
