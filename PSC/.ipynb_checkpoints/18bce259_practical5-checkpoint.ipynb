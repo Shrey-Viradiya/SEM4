{
 "cells": [
  {
   "cell_type": "markdown",
   "metadata": {},
   "source": [
    "# Practical 5"
   ]
  },
  {
   "cell_type": "markdown",
   "metadata": {},
   "source": [
    "As you know, a magic square is a matrix all of whose row sums,\n",
    "column sums and the sums of the two diagonals are the same. (One\n",
    "diagonal of a matrix goes from the top left to the bottom right, the\n",
    "other diagonal goes from top right to bottom left.) Show by direct\n",
    "computation that if the matrix A is given by "
   ]
  },
  {
   "cell_type": "markdown",
   "metadata": {},
   "source": [
    "A=np.array([[17, 24, 1, 8, 15],\n",
    " [23, 5, 7, 14, 16], \n",
    " [ 4, 6, 13, 20, 22], \n",
    " [10, 12, 19, 21, 3], \n",
    " [11, 18, 25, 2, 9]])"
   ]
  },
  {
   "cell_type": "markdown",
   "metadata": {},
   "source": [
    "The matrix A has 5 row sums (one for each row), 5 column sums\n",
    "(one for each column) and two diagonal sums. These 12 sums\n",
    "should all be exactly the same, and you could verify that they are\n",
    "the same by printing them and “seeing” that they are the same. It\n",
    "is easy to miss small differences among so many numbers, though.\n",
    "Instead, verify that A is a magic square by constructing the 5\n",
    "column sums and computing the maximum and minimum values of\n",
    "the column sums. Do the same for the 5 row sums, and compute\n",
    "the two diagonal sums. Check that these six values are the same. If\n",
    "the maximum and minimum values are the same, the flyswatter\n",
    "principle says that all values are the same."
   ]
  },
  {
   "cell_type": "code",
   "execution_count": 1,
   "metadata": {},
   "outputs": [],
   "source": [
    "import numpy as np"
   ]
  },
  {
   "cell_type": "code",
   "execution_count": 2,
   "metadata": {},
   "outputs": [],
   "source": [
    "A=np.array([[17, 24, 1, 8, 15], [23, 5, 7, 14, 16], [ 4, 6, 13, 20, 22], [10, 12, 19, 21, 3], [11, 18, 25, 2, 9]])"
   ]
  },
  {
   "cell_type": "code",
   "execution_count": 3,
   "metadata": {},
   "outputs": [
    {
     "data": {
      "text/plain": [
       "numpy.ndarray"
      ]
     },
     "execution_count": 3,
     "metadata": {},
     "output_type": "execute_result"
    }
   ],
   "source": [
    "type(A)"
   ]
  },
  {
   "cell_type": "code",
   "execution_count": 4,
   "metadata": {},
   "outputs": [],
   "source": [
    "def MagicMatrix(A):    \n",
    "    col_sum = np.sum(A, axis=0)\n",
    "    col_min = np.min(col_sum)\n",
    "    col_max = np.max(col_sum)\n",
    "    row_sum = np.sum(A,axis = 1)\n",
    "    row_min = np.min(row_sum)\n",
    "    row_max = np.max(row_sum)\n",
    "    di = np.diagonal(A)\n",
    "    rev_di = np.diagonal(A[:,::-1])\n",
    "    dia_min = np.min([np.sum(di),np.sum(rev_di)])\n",
    "    dia_max = np.max([np.sum(di),np.sum(rev_di)])\n",
    "    c = np.array([col_min,col_max,row_min,row_max,dia_min,dia_max])\n",
    "    if( np.min(c) == np.max(c) ):\n",
    "        print(\"It is the Magic Matrix\")\n",
    "    else:\n",
    "        print(\"It is not the Magic Matrix\")"
   ]
  },
  {
   "cell_type": "code",
   "execution_count": 5,
   "metadata": {},
   "outputs": [
    {
     "name": "stdout",
     "output_type": "stream",
     "text": [
      "It is the Magic Matrix\n"
     ]
    }
   ],
   "source": [
    "MagicMatrix(A)"
   ]
  },
  {
   "cell_type": "code",
   "execution_count": 6,
   "metadata": {},
   "outputs": [],
   "source": [
    "B = np.array([[30,    39,    48 ,    1 ,   10 ,   19 ,   28],\n",
    "\n",
    "[38,    47,     7 ,    9 ,   18 ,   27 ,   29],\n",
    "\n",
    "[46,     6,     8 ,   17 ,   26 ,   35 ,   37],\n",
    "\n",
    "[5 ,   14 ,   16  ,  25  ,  34  ,  36  ,  45],\n",
    "\n",
    "[13,    15,    24 ,   33 ,   42 ,   44 ,    4],\n",
    "\n",
    "[21,    23,    32 ,   41 ,   43 ,    3 ,   12],\n",
    "\n",
    "[22,    31,    40 ,   49 ,    2 ,   11 ,   20]])"
   ]
  },
  {
   "cell_type": "code",
   "execution_count": 7,
   "metadata": {},
   "outputs": [
    {
     "data": {
      "text/plain": [
       "array([[30, 39, 48,  1, 10, 19, 28],\n",
       "       [38, 47,  7,  9, 18, 27, 29],\n",
       "       [46,  6,  8, 17, 26, 35, 37],\n",
       "       [ 5, 14, 16, 25, 34, 36, 45],\n",
       "       [13, 15, 24, 33, 42, 44,  4],\n",
       "       [21, 23, 32, 41, 43,  3, 12],\n",
       "       [22, 31, 40, 49,  2, 11, 20]])"
      ]
     },
     "execution_count": 7,
     "metadata": {},
     "output_type": "execute_result"
    }
   ],
   "source": [
    "B"
   ]
  },
  {
   "cell_type": "code",
   "execution_count": 8,
   "metadata": {},
   "outputs": [
    {
     "name": "stdout",
     "output_type": "stream",
     "text": [
      "It is the Magic Matrix\n"
     ]
    }
   ],
   "source": [
    "MagicMatrix(B)"
   ]
  },
  {
   "cell_type": "code",
   "execution_count": 9,
   "metadata": {},
   "outputs": [],
   "source": [
    "C = np.array([[ 92,    99,     1,     8,    15,    67,    74 ,   51,    58,    40],\n",
    "\n",
    "[ 98,    80,     7,    14,    16,    73,    55 ,   57,    64,    41],\n",
    "\n",
    "[ 4 ,   81 ,   88 ,   20 ,   22 ,   54 ,   56  ,  63 ,   70 ,   47],\n",
    "\n",
    "[ 85,    87,    19,    21,     3,    60,    62 ,   69,    71,    28],\n",
    "\n",
    "[ 86,    93,    25,     2,     9,    61,    68 ,   75,    52,    34],\n",
    "\n",
    "[ 17,    24,    76,    83,    90,    42,    49 ,   26,    33,    65],\n",
    "\n",
    "[ 23,     5,    82,    89,    91,    48,    30 ,   32,    39,    66],\n",
    "\n",
    "[ 79,     6,    13,    95,    97,    29,    31 ,   38,    45,    72],\n",
    "\n",
    "[ 10,    12,    94,    96,    78,    35,    37 ,   44,    46,    53],\n",
    "\n",
    "[ 11,    18,   100,    77,    84,    36,    43 ,   50,    27,    59]])"
   ]
  },
  {
   "cell_type": "code",
   "execution_count": 10,
   "metadata": {},
   "outputs": [
    {
     "name": "stdout",
     "output_type": "stream",
     "text": [
      "It is the Magic Matrix\n"
     ]
    }
   ],
   "source": [
    "MagicMatrix(C)"
   ]
  },
  {
   "cell_type": "code",
   "execution_count": 11,
   "metadata": {},
   "outputs": [],
   "source": [
    "D = np.array([[ 92,    99,     1,     8,    15,    67,    74 ,   51,    58,    40],\n",
    "\n",
    "[ 98,    80,     7,    14,    16,    73,    55 ,   57,    64,    41],\n",
    "\n",
    "[ 4 ,   81 ,   88 ,   20 ,   22 ,   54 ,   56  ,  63 ,   70 ,   47],\n",
    "\n",
    "[ 85,    87,    19,    21,     3,    60,    62 ,   69,    71,    28],\n",
    "\n",
    "[ 86,    93,    25,     2,    10,    61,    68 ,   75,    52,    34],\n",
    "\n",
    "[ 17,    24,    76,    83,    90,    42,    49 ,   26,    33,    65],\n",
    "\n",
    "[ 23,     5,    82,    89,    91,    48,    30 ,   32,    39,    66],\n",
    "\n",
    "[ 79,     6,    13,    95,    97,    29,    31 ,   38,    45,    72],\n",
    "\n",
    "[ 10,    12,    94,    96,    78,    35,    37 ,   44,    46,    53],\n",
    "\n",
    "[ 11,    18,   100,    77,    84,    36,    43 ,   50,    27,    59]])"
   ]
  },
  {
   "cell_type": "code",
   "execution_count": 12,
   "metadata": {},
   "outputs": [
    {
     "name": "stdout",
     "output_type": "stream",
     "text": [
      "It is not the Magic Matrix\n"
     ]
    }
   ],
   "source": [
    "MagicMatrix(D)"
   ]
  },
  {
   "cell_type": "markdown",
   "metadata": {},
   "source": [
    "Create scientific calculator using numpy API."
   ]
  },
  {
   "cell_type": "code",
   "execution_count": 14,
   "metadata": {
    "scrolled": false
   },
   "outputs": [
    {
     "name": "stdout",
     "output_type": "stream",
     "text": [
      "Enter numbers e.g.(Comma separated: 12.6,85.4,10.6) of x : 2,4,3,5\n",
      "\n",
      "\n",
      "    #############  Scientific Calculator  ####################\n",
      "    1.  Add\n",
      "    2.  Subtract\n",
      "    3.  Multiply\n",
      "    4.  Divide\n",
      "    5.  x mod y\n",
      "    6.  x ^ y\n",
      "    7.  1/x\n",
      "    8.  log10(x)\n",
      "    9.  log2(x)\n",
      "    10. sin(x)\n",
      "    11. cos(x)\n",
      "    12. tan(x)\n",
      "    13. floor(x)\n",
      "    14. ceil(x)\n",
      "    15. round(x)\n",
      "    16. 10 ^ x\n",
      "    17. 2 ^ x\n",
      "\n",
      "    \n",
      "-------> Enter your choice : 16\n",
      "\n",
      "Result is [   100.  10000.   1000. 100000.]\n",
      "\n",
      "\n",
      "\n",
      "    #############  Scientific Calculator  ####################\n",
      "    1.  Add\n",
      "    2.  Subtract\n",
      "    3.  Multiply\n",
      "    4.  Divide\n",
      "    5.  x mod y\n",
      "    6.  x ^ y\n",
      "    7.  1/x\n",
      "    8.  log10(x)\n",
      "    9.  log2(x)\n",
      "    10. sin(x)\n",
      "    11. cos(x)\n",
      "    12. tan(x)\n",
      "    13. floor(x)\n",
      "    14. ceil(x)\n",
      "    15. round(x)\n",
      "    16. 10 ^ x\n",
      "    17. 2 ^ x\n",
      "\n",
      "    \n",
      "-------> Enter your choice : 2\n",
      "Enter numbers e.g.(Comma separated: 12.6,85.4,10.6) of y : 1,1,1,1\n",
      "\n",
      "Result is [1. 3. 2. 4.]\n",
      "\n",
      "\n",
      "\n",
      "    #############  Scientific Calculator  ####################\n",
      "    1.  Add\n",
      "    2.  Subtract\n",
      "    3.  Multiply\n",
      "    4.  Divide\n",
      "    5.  x mod y\n",
      "    6.  x ^ y\n",
      "    7.  1/x\n",
      "    8.  log10(x)\n",
      "    9.  log2(x)\n",
      "    10. sin(x)\n",
      "    11. cos(x)\n",
      "    12. tan(x)\n",
      "    13. floor(x)\n",
      "    14. ceil(x)\n",
      "    15. round(x)\n",
      "    16. 10 ^ x\n",
      "    17. 2 ^ x\n",
      "\n",
      "    \n",
      "-------> Enter your choice : 17\n",
      "\n",
      "Result is [ 4. 16.  8. 32.]\n",
      "\n",
      "\n",
      "\n",
      "    #############  Scientific Calculator  ####################\n",
      "    1.  Add\n",
      "    2.  Subtract\n",
      "    3.  Multiply\n",
      "    4.  Divide\n",
      "    5.  x mod y\n",
      "    6.  x ^ y\n",
      "    7.  1/x\n",
      "    8.  log10(x)\n",
      "    9.  log2(x)\n",
      "    10. sin(x)\n",
      "    11. cos(x)\n",
      "    12. tan(x)\n",
      "    13. floor(x)\n",
      "    14. ceil(x)\n",
      "    15. round(x)\n",
      "    16. 10 ^ x\n",
      "    17. 2 ^ x\n",
      "\n",
      "    \n",
      "-------> Enter your choice : 0\n",
      "Exiting..!!\n"
     ]
    }
   ],
   "source": [
    "import numpy as np\n",
    "import math\n",
    "\n",
    "input_list = list(map(float,input('Enter numbers e.g.(Comma separated: 12.6,85.4,10.6) of x : ').split(',')))\n",
    "x = np.array(input_list)\n",
    "\n",
    "def input_y():\n",
    "    input_list = list(map(float,input('Enter numbers e.g.(Comma separated: 12.6,85.4,10.6) of y : ').split(',')))\n",
    "    return np.array(input_list)\n",
    "\n",
    "#Menu of scientific calculator\n",
    "while 1:\n",
    "    print(\"\"\"\n",
    "\n",
    "    #############  Scientific Calculator  ####################\n",
    "    1.  Add\n",
    "    2.  Subtract\n",
    "    3.  Multiply\n",
    "    4.  Divide\n",
    "    5.  x mod y\n",
    "    6.  x ^ y\n",
    "    7.  1/x\n",
    "    8.  log10(x)\n",
    "    9.  log2(x)\n",
    "    10. sin(x)\n",
    "    11. cos(x)\n",
    "    12. tan(x)\n",
    "    13. floor(x)\n",
    "    14. ceil(x)\n",
    "    15. round(x)\n",
    "    16. 10 ^ x\n",
    "    17. 2 ^ x\n",
    "\n",
    "    \"\"\")\n",
    "    c = int(input(\"-------> Enter your choice : \"))\n",
    "\n",
    "    if(c==1):\n",
    "        y = input_y()\n",
    "        r = x+y\n",
    "    elif(c==2):\n",
    "        y = input_y()\n",
    "        r = x-y\n",
    "    elif(c==3):\n",
    "        y = input_y()\n",
    "        r = x*y\n",
    "    elif(c==4):\n",
    "        y = input_y()\n",
    "        r = x/y\n",
    "    elif(c==6):\n",
    "        y = input_y()\n",
    "        r = x**y\n",
    "    elif(c==5):\n",
    "        y = input_y()\n",
    "        r = x%y\n",
    "    elif(c==7):\n",
    "        r = 1/x\n",
    "    elif(c==8):\n",
    "        r = np.log(x)\n",
    "    elif(c==9):\n",
    "        r = np.ln(x)\n",
    "    elif(c==10):\n",
    "        r = np.sin(x)\n",
    "    elif(c==11):\n",
    "        r = np.cos(x)\n",
    "    elif(c==12):\n",
    "        r = np.tan(x)\n",
    "    elif(c==13):\n",
    "        r = np.floor(x)\n",
    "    elif(c==14):\n",
    "        r = np.ceil(x)\n",
    "    elif(c==15):\n",
    "        r = np.round(x)\n",
    "    elif(c==16):\n",
    "        r = 10**x\n",
    "    elif(c==17):\n",
    "        r = 2**x\n",
    "    elif(c==0):\n",
    "        print(\"Exiting..!!\")\n",
    "        break\n",
    "    else:\n",
    "        print(\"Enter valid input\")\n",
    "\n",
    "    print(f\"\\nResult is {r}\\n\")"
   ]
  }
 ],
 "metadata": {
  "kernelspec": {
   "display_name": "Python 3",
   "language": "python",
   "name": "python3"
  },
  "language_info": {
   "codemirror_mode": {
    "name": "ipython",
    "version": 3
   },
   "file_extension": ".py",
   "mimetype": "text/x-python",
   "name": "python",
   "nbconvert_exporter": "python",
   "pygments_lexer": "ipython3",
   "version": "3.7.3"
  }
 },
 "nbformat": 4,
 "nbformat_minor": 2
}
