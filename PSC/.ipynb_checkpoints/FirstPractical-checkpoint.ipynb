{
 "cells": [
  {
   "cell_type": "code",
   "execution_count": 8,
   "metadata": {},
   "outputs": [
    {
     "name": "stdout",
     "output_type": "stream",
     "text": [
      "\n",
      "Enter the first number: 25\n",
      "Enter the second number: 36\n",
      "\n",
      "\n",
      "A calculator program:\n",
      "Addition: Enter +\n",
      "Subtraction: Enter -\n",
      "Multiplication: Enter *\n",
      "Division: Enter /\n",
      "\n",
      "\n",
      "Enter the operation: +\n",
      "Addition is  61.0\n",
      "\n",
      "\n",
      "Want to do it again? Y/N (yes is defualt answer)n\n"
     ]
    }
   ],
   "source": [
    "while(True):\n",
    "    try:\n",
    "        x = float(input(\"\\nEnter the first number: \"))\n",
    "        y = float(input(\"Enter the second number: \"))\n",
    "    except ValueError:\n",
    "        print(\"\\nEnter a valid value\")\n",
    "        continue\n",
    "\n",
    "    print(\"\\n\\nA calculator program:\")\n",
    "    print(\"Addition: Enter +\")\n",
    "    print(\"Subtraction: Enter -\")\n",
    "    print(\"Multiplication: Enter *\")\n",
    "    print(\"Division: Enter /\")\n",
    "\n",
    "    a = input(\"\\n\\nEnter the operation: \")\n",
    "\n",
    "    if(a == '+'):\n",
    "        print(\"Addition is \", x + y)\n",
    "    elif (a=='-'):\n",
    "        print(\"Subtraction is\",x-y)\n",
    "    elif (a=='*'):\n",
    "        print(\"Multiplication is\",x*y)\n",
    "    elif (a=='/'):\n",
    "        try:\n",
    "            print(\"Division is\",x/y)\n",
    "        except ZeroDivisionError:\n",
    "            print(\"Can't devide by zero.\")\n",
    "    else:\n",
    "        print(\"\\n\\nNot sure what to do!\")\n",
    "        \n",
    "    i = input(\"\\n\\nWant to do it again? Y/N (yes is defualt answer)\")\n",
    "    if(i == 'n' or i == 'N'):\n",
    "        break       "
   ]
  },
  {
   "cell_type": "code",
   "execution_count": 28,
   "metadata": {},
   "outputs": [],
   "source": [
    "from math import sqrt\n",
    "\n",
    "def calcArea(x,y,z):\n",
    "    s = (x+y+z)/2\n",
    "    return sqrt(s*(s-x)*(s-y)*(s-z))"
   ]
  },
  {
   "cell_type": "code",
   "execution_count": 29,
   "metadata": {},
   "outputs": [
    {
     "name": "stdout",
     "output_type": "stream",
     "text": [
      "Enter the three sides of the triangle:\n",
      "Enter the first side: 12\n",
      "Enter the second side: 35\n",
      "Enter the third side: 24\n",
      "Area of triangle is 69.25992708630294\n"
     ]
    }
   ],
   "source": [
    "def main():\n",
    "    print(\"Enter the three sides of the triangle:\")\n",
    "    \n",
    "    while(True):\n",
    "        x = float(input(\"Enter the first side: \"))\n",
    "        y = float(input(\"Enter the second side: \"))\n",
    "        z = float(input(\"Enter the third side: \"))\n",
    "        \n",
    "        if(x >= (y+z) or y >= (x+z) or z >= (x+y) or x<=0 or y<=0 or z<=0):\n",
    "            print(\"Sides are not correct. Try Again\")\n",
    "        else:\n",
    "            break\n",
    "            \n",
    "    print(\"Area of triangle is\", calcArea(x,y,z))\n",
    "\n",
    "main()"
   ]
  },
  {
   "cell_type": "code",
   "execution_count": 15,
   "metadata": {},
   "outputs": [],
   "source": [
    "from math import gcd\n",
    "\n",
    "def isCoPrime(x,y):\n",
    "    return gcd(x,y)==1"
   ]
  },
  {
   "cell_type": "code",
   "execution_count": 25,
   "metadata": {},
   "outputs": [
    {
     "name": "stdout",
     "output_type": "stream",
     "text": [
      "Enter the first number: 52\n",
      "Enter the second number: 99\n"
     ]
    }
   ],
   "source": [
    "m = int(input(\"Enter the first number: \"))\n",
    "n = int(input(\"Enter the second number: \"))"
   ]
  },
  {
   "cell_type": "code",
   "execution_count": 26,
   "metadata": {},
   "outputs": [
    {
     "name": "stdout",
     "output_type": "stream",
     "text": [
      "True\n"
     ]
    }
   ],
   "source": [
    "print(isCoPrime(m,n))"
   ]
  },
  {
   "cell_type": "code",
   "execution_count": 41,
   "metadata": {},
   "outputs": [],
   "source": [
    "def pracD():\n",
    "    s = list(input(\"Enter the string\"))\n",
    "\n",
    "    for i in range(len(s)-1):\n",
    "        if(s[i] == s[i+1]):\n",
    "            s[i+1]='*'\n",
    "#     print(s)\n",
    "    print(\"\".join(s))"
   ]
  },
  {
   "cell_type": "code",
   "execution_count": 42,
   "metadata": {},
   "outputs": [
    {
     "name": "stdout",
     "output_type": "stream",
     "text": [
      "Enter the stringBaaalloon\n",
      "Ba*al*o*n\n"
     ]
    }
   ],
   "source": [
    "pracD()"
   ]
  },
  {
   "cell_type": "code",
   "execution_count": null,
   "metadata": {},
   "outputs": [],
   "source": [
    "N2L = {\n",
    "    '1': \"One\",\n",
    "}"
   ]
  }
 ],
 "metadata": {
  "kernelspec": {
   "display_name": "Python 3",
   "language": "python",
   "name": "python3"
  },
  "language_info": {
   "codemirror_mode": {
    "name": "ipython",
    "version": 3
   },
   "file_extension": ".py",
   "mimetype": "text/x-python",
   "name": "python",
   "nbconvert_exporter": "python",
   "pygments_lexer": "ipython3",
   "version": "3.7.3"
  }
 },
 "nbformat": 4,
 "nbformat_minor": 2
}
