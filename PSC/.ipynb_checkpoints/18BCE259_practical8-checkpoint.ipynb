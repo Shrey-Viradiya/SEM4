{
 "cells": [
  {
   "cell_type": "markdown",
   "metadata": {},
   "source": [
    "# PSC Lab - Practical 8"
   ]
  },
  {
   "cell_type": "markdown",
   "metadata": {},
   "source": [
    "## Roll No: 18BCE259"
   ]
  },
  {
   "cell_type": "markdown",
   "metadata": {},
   "source": [
    "a. Design a python program which performs the linear\n",
    "regression operation on the given data to predict the house\n",
    "price. Also, visualize the data for different attributes.\n"
   ]
  },
  {
   "cell_type": "markdown",
   "metadata": {},
   "source": [
    "### For these problem we will be implementing two methods\n",
    "### 1. sklearn API\n",
    "### 2. Hill Climbing Method"
   ]
  },
  {
   "cell_type": "markdown",
   "metadata": {},
   "source": [
    "## Using sklearn API"
   ]
  },
  {
   "cell_type": "code",
   "execution_count": 1,
   "metadata": {},
   "outputs": [],
   "source": [
    "import pandas as pd\n",
    "from sklearn.linear_model import LinearRegression\n",
    "from sklearn.model_selection import train_test_split\n",
    "from sklearn.metrics import mean_absolute_error"
   ]
  },
  {
   "cell_type": "code",
   "execution_count": 2,
   "metadata": {},
   "outputs": [],
   "source": [
    "%matplotlib inline\n",
    "import matplotlib.pyplot as plt"
   ]
  },
  {
   "cell_type": "code",
   "execution_count": 3,
   "metadata": {},
   "outputs": [
    {
     "data": {
      "text/plain": [
       "Index(['Suburb', 'Address', 'Rooms', 'Type', 'Price', 'Method', 'SellerG',\n",
       "       'Date', 'Distance', 'Postcode', 'Bedroom2', 'Bathroom', 'Car',\n",
       "       'Landsize', 'BuildingArea', 'YearBuilt', 'CouncilArea', 'Lattitude',\n",
       "       'Longtitude', 'Regionname', 'Propertycount'],\n",
       "      dtype='object')"
      ]
     },
     "execution_count": 3,
     "metadata": {},
     "output_type": "execute_result"
    }
   ],
   "source": [
    "melbourne_file_path = 'Melbourne_data/melb_data.csv'\n",
    "melbourne_data = pd.read_csv(melbourne_file_path) \n",
    "melbourne_data.columns"
   ]
  },
  {
   "cell_type": "code",
   "execution_count": 4,
   "metadata": {},
   "outputs": [],
   "source": [
    "melbourne_data = melbourne_data.dropna(axis = 0)"
   ]
  },
  {
   "cell_type": "code",
   "execution_count": 5,
   "metadata": {},
   "outputs": [
    {
     "data": {
      "text/plain": [
       "(6196, 21)"
      ]
     },
     "execution_count": 5,
     "metadata": {},
     "output_type": "execute_result"
    }
   ],
   "source": [
    "melbourne_data.shape"
   ]
  },
  {
   "cell_type": "code",
   "execution_count": 6,
   "metadata": {
    "scrolled": true
   },
   "outputs": [
    {
     "data": {
      "text/html": [
       "<div>\n",
       "<style scoped>\n",
       "    .dataframe tbody tr th:only-of-type {\n",
       "        vertical-align: middle;\n",
       "    }\n",
       "\n",
       "    .dataframe tbody tr th {\n",
       "        vertical-align: top;\n",
       "    }\n",
       "\n",
       "    .dataframe thead th {\n",
       "        text-align: right;\n",
       "    }\n",
       "</style>\n",
       "<table border=\"1\" class=\"dataframe\">\n",
       "  <thead>\n",
       "    <tr style=\"text-align: right;\">\n",
       "      <th></th>\n",
       "      <th>Rooms</th>\n",
       "      <th>Price</th>\n",
       "      <th>Distance</th>\n",
       "      <th>Postcode</th>\n",
       "      <th>Bedroom2</th>\n",
       "      <th>Bathroom</th>\n",
       "      <th>Car</th>\n",
       "      <th>Landsize</th>\n",
       "      <th>BuildingArea</th>\n",
       "      <th>YearBuilt</th>\n",
       "      <th>Lattitude</th>\n",
       "      <th>Longtitude</th>\n",
       "      <th>Propertycount</th>\n",
       "    </tr>\n",
       "  </thead>\n",
       "  <tbody>\n",
       "    <tr>\n",
       "      <th>count</th>\n",
       "      <td>6196.000000</td>\n",
       "      <td>6.196000e+03</td>\n",
       "      <td>6196.000000</td>\n",
       "      <td>6196.000000</td>\n",
       "      <td>6196.000000</td>\n",
       "      <td>6196.000000</td>\n",
       "      <td>6196.000000</td>\n",
       "      <td>6196.000000</td>\n",
       "      <td>6196.000000</td>\n",
       "      <td>6196.000000</td>\n",
       "      <td>6196.000000</td>\n",
       "      <td>6196.000000</td>\n",
       "      <td>6196.000000</td>\n",
       "    </tr>\n",
       "    <tr>\n",
       "      <th>mean</th>\n",
       "      <td>2.931407</td>\n",
       "      <td>1.068828e+06</td>\n",
       "      <td>9.751097</td>\n",
       "      <td>3101.947708</td>\n",
       "      <td>2.902034</td>\n",
       "      <td>1.576340</td>\n",
       "      <td>1.573596</td>\n",
       "      <td>471.006940</td>\n",
       "      <td>141.568645</td>\n",
       "      <td>1964.081988</td>\n",
       "      <td>-37.807904</td>\n",
       "      <td>144.990201</td>\n",
       "      <td>7435.489509</td>\n",
       "    </tr>\n",
       "    <tr>\n",
       "      <th>std</th>\n",
       "      <td>0.971079</td>\n",
       "      <td>6.751564e+05</td>\n",
       "      <td>5.612065</td>\n",
       "      <td>86.421604</td>\n",
       "      <td>0.970055</td>\n",
       "      <td>0.711362</td>\n",
       "      <td>0.929947</td>\n",
       "      <td>897.449881</td>\n",
       "      <td>90.834824</td>\n",
       "      <td>38.105673</td>\n",
       "      <td>0.075850</td>\n",
       "      <td>0.099165</td>\n",
       "      <td>4337.698917</td>\n",
       "    </tr>\n",
       "    <tr>\n",
       "      <th>min</th>\n",
       "      <td>1.000000</td>\n",
       "      <td>1.310000e+05</td>\n",
       "      <td>0.000000</td>\n",
       "      <td>3000.000000</td>\n",
       "      <td>0.000000</td>\n",
       "      <td>1.000000</td>\n",
       "      <td>0.000000</td>\n",
       "      <td>0.000000</td>\n",
       "      <td>0.000000</td>\n",
       "      <td>1196.000000</td>\n",
       "      <td>-38.164920</td>\n",
       "      <td>144.542370</td>\n",
       "      <td>389.000000</td>\n",
       "    </tr>\n",
       "    <tr>\n",
       "      <th>25%</th>\n",
       "      <td>2.000000</td>\n",
       "      <td>6.200000e+05</td>\n",
       "      <td>5.900000</td>\n",
       "      <td>3044.000000</td>\n",
       "      <td>2.000000</td>\n",
       "      <td>1.000000</td>\n",
       "      <td>1.000000</td>\n",
       "      <td>152.000000</td>\n",
       "      <td>91.000000</td>\n",
       "      <td>1940.000000</td>\n",
       "      <td>-37.855438</td>\n",
       "      <td>144.926198</td>\n",
       "      <td>4383.750000</td>\n",
       "    </tr>\n",
       "    <tr>\n",
       "      <th>50%</th>\n",
       "      <td>3.000000</td>\n",
       "      <td>8.800000e+05</td>\n",
       "      <td>9.000000</td>\n",
       "      <td>3081.000000</td>\n",
       "      <td>3.000000</td>\n",
       "      <td>1.000000</td>\n",
       "      <td>1.000000</td>\n",
       "      <td>373.000000</td>\n",
       "      <td>124.000000</td>\n",
       "      <td>1970.000000</td>\n",
       "      <td>-37.802250</td>\n",
       "      <td>144.995800</td>\n",
       "      <td>6567.000000</td>\n",
       "    </tr>\n",
       "    <tr>\n",
       "      <th>75%</th>\n",
       "      <td>4.000000</td>\n",
       "      <td>1.325000e+06</td>\n",
       "      <td>12.400000</td>\n",
       "      <td>3147.000000</td>\n",
       "      <td>3.000000</td>\n",
       "      <td>2.000000</td>\n",
       "      <td>2.000000</td>\n",
       "      <td>628.000000</td>\n",
       "      <td>170.000000</td>\n",
       "      <td>2000.000000</td>\n",
       "      <td>-37.758200</td>\n",
       "      <td>145.052700</td>\n",
       "      <td>10175.000000</td>\n",
       "    </tr>\n",
       "    <tr>\n",
       "      <th>max</th>\n",
       "      <td>8.000000</td>\n",
       "      <td>9.000000e+06</td>\n",
       "      <td>47.400000</td>\n",
       "      <td>3977.000000</td>\n",
       "      <td>9.000000</td>\n",
       "      <td>8.000000</td>\n",
       "      <td>10.000000</td>\n",
       "      <td>37000.000000</td>\n",
       "      <td>3112.000000</td>\n",
       "      <td>2018.000000</td>\n",
       "      <td>-37.457090</td>\n",
       "      <td>145.526350</td>\n",
       "      <td>21650.000000</td>\n",
       "    </tr>\n",
       "  </tbody>\n",
       "</table>\n",
       "</div>"
      ],
      "text/plain": [
       "             Rooms         Price     Distance     Postcode     Bedroom2  \\\n",
       "count  6196.000000  6.196000e+03  6196.000000  6196.000000  6196.000000   \n",
       "mean      2.931407  1.068828e+06     9.751097  3101.947708     2.902034   \n",
       "std       0.971079  6.751564e+05     5.612065    86.421604     0.970055   \n",
       "min       1.000000  1.310000e+05     0.000000  3000.000000     0.000000   \n",
       "25%       2.000000  6.200000e+05     5.900000  3044.000000     2.000000   \n",
       "50%       3.000000  8.800000e+05     9.000000  3081.000000     3.000000   \n",
       "75%       4.000000  1.325000e+06    12.400000  3147.000000     3.000000   \n",
       "max       8.000000  9.000000e+06    47.400000  3977.000000     9.000000   \n",
       "\n",
       "          Bathroom          Car      Landsize  BuildingArea    YearBuilt  \\\n",
       "count  6196.000000  6196.000000   6196.000000   6196.000000  6196.000000   \n",
       "mean      1.576340     1.573596    471.006940    141.568645  1964.081988   \n",
       "std       0.711362     0.929947    897.449881     90.834824    38.105673   \n",
       "min       1.000000     0.000000      0.000000      0.000000  1196.000000   \n",
       "25%       1.000000     1.000000    152.000000     91.000000  1940.000000   \n",
       "50%       1.000000     1.000000    373.000000    124.000000  1970.000000   \n",
       "75%       2.000000     2.000000    628.000000    170.000000  2000.000000   \n",
       "max       8.000000    10.000000  37000.000000   3112.000000  2018.000000   \n",
       "\n",
       "         Lattitude   Longtitude  Propertycount  \n",
       "count  6196.000000  6196.000000    6196.000000  \n",
       "mean    -37.807904   144.990201    7435.489509  \n",
       "std       0.075850     0.099165    4337.698917  \n",
       "min     -38.164920   144.542370     389.000000  \n",
       "25%     -37.855438   144.926198    4383.750000  \n",
       "50%     -37.802250   144.995800    6567.000000  \n",
       "75%     -37.758200   145.052700   10175.000000  \n",
       "max     -37.457090   145.526350   21650.000000  "
      ]
     },
     "execution_count": 6,
     "metadata": {},
     "output_type": "execute_result"
    }
   ],
   "source": [
    "melbourne_data.describe()"
   ]
  },
  {
   "cell_type": "code",
   "execution_count": 7,
   "metadata": {},
   "outputs": [],
   "source": [
    "melbourne_features = ['Rooms', 'Bathroom', 'Landsize', 'Lattitude', 'Longtitude', 'YearBuilt']"
   ]
  },
  {
   "cell_type": "code",
   "execution_count": 8,
   "metadata": {},
   "outputs": [
    {
     "data": {
      "text/html": [
       "<div>\n",
       "<style scoped>\n",
       "    .dataframe tbody tr th:only-of-type {\n",
       "        vertical-align: middle;\n",
       "    }\n",
       "\n",
       "    .dataframe tbody tr th {\n",
       "        vertical-align: top;\n",
       "    }\n",
       "\n",
       "    .dataframe thead th {\n",
       "        text-align: right;\n",
       "    }\n",
       "</style>\n",
       "<table border=\"1\" class=\"dataframe\">\n",
       "  <thead>\n",
       "    <tr style=\"text-align: right;\">\n",
       "      <th></th>\n",
       "      <th>Rooms</th>\n",
       "      <th>Bathroom</th>\n",
       "      <th>Landsize</th>\n",
       "      <th>Lattitude</th>\n",
       "      <th>Longtitude</th>\n",
       "      <th>YearBuilt</th>\n",
       "    </tr>\n",
       "  </thead>\n",
       "  <tbody>\n",
       "    <tr>\n",
       "      <th>count</th>\n",
       "      <td>6196.000000</td>\n",
       "      <td>6196.000000</td>\n",
       "      <td>6196.000000</td>\n",
       "      <td>6196.000000</td>\n",
       "      <td>6196.000000</td>\n",
       "      <td>6196.000000</td>\n",
       "    </tr>\n",
       "    <tr>\n",
       "      <th>mean</th>\n",
       "      <td>2.931407</td>\n",
       "      <td>1.576340</td>\n",
       "      <td>471.006940</td>\n",
       "      <td>-37.807904</td>\n",
       "      <td>144.990201</td>\n",
       "      <td>1964.081988</td>\n",
       "    </tr>\n",
       "    <tr>\n",
       "      <th>std</th>\n",
       "      <td>0.971079</td>\n",
       "      <td>0.711362</td>\n",
       "      <td>897.449881</td>\n",
       "      <td>0.075850</td>\n",
       "      <td>0.099165</td>\n",
       "      <td>38.105673</td>\n",
       "    </tr>\n",
       "    <tr>\n",
       "      <th>min</th>\n",
       "      <td>1.000000</td>\n",
       "      <td>1.000000</td>\n",
       "      <td>0.000000</td>\n",
       "      <td>-38.164920</td>\n",
       "      <td>144.542370</td>\n",
       "      <td>1196.000000</td>\n",
       "    </tr>\n",
       "    <tr>\n",
       "      <th>25%</th>\n",
       "      <td>2.000000</td>\n",
       "      <td>1.000000</td>\n",
       "      <td>152.000000</td>\n",
       "      <td>-37.855438</td>\n",
       "      <td>144.926198</td>\n",
       "      <td>1940.000000</td>\n",
       "    </tr>\n",
       "    <tr>\n",
       "      <th>50%</th>\n",
       "      <td>3.000000</td>\n",
       "      <td>1.000000</td>\n",
       "      <td>373.000000</td>\n",
       "      <td>-37.802250</td>\n",
       "      <td>144.995800</td>\n",
       "      <td>1970.000000</td>\n",
       "    </tr>\n",
       "    <tr>\n",
       "      <th>75%</th>\n",
       "      <td>4.000000</td>\n",
       "      <td>2.000000</td>\n",
       "      <td>628.000000</td>\n",
       "      <td>-37.758200</td>\n",
       "      <td>145.052700</td>\n",
       "      <td>2000.000000</td>\n",
       "    </tr>\n",
       "    <tr>\n",
       "      <th>max</th>\n",
       "      <td>8.000000</td>\n",
       "      <td>8.000000</td>\n",
       "      <td>37000.000000</td>\n",
       "      <td>-37.457090</td>\n",
       "      <td>145.526350</td>\n",
       "      <td>2018.000000</td>\n",
       "    </tr>\n",
       "  </tbody>\n",
       "</table>\n",
       "</div>"
      ],
      "text/plain": [
       "             Rooms     Bathroom      Landsize    Lattitude   Longtitude  \\\n",
       "count  6196.000000  6196.000000   6196.000000  6196.000000  6196.000000   \n",
       "mean      2.931407     1.576340    471.006940   -37.807904   144.990201   \n",
       "std       0.971079     0.711362    897.449881     0.075850     0.099165   \n",
       "min       1.000000     1.000000      0.000000   -38.164920   144.542370   \n",
       "25%       2.000000     1.000000    152.000000   -37.855438   144.926198   \n",
       "50%       3.000000     1.000000    373.000000   -37.802250   144.995800   \n",
       "75%       4.000000     2.000000    628.000000   -37.758200   145.052700   \n",
       "max       8.000000     8.000000  37000.000000   -37.457090   145.526350   \n",
       "\n",
       "         YearBuilt  \n",
       "count  6196.000000  \n",
       "mean   1964.081988  \n",
       "std      38.105673  \n",
       "min    1196.000000  \n",
       "25%    1940.000000  \n",
       "50%    1970.000000  \n",
       "75%    2000.000000  \n",
       "max    2018.000000  "
      ]
     },
     "execution_count": 8,
     "metadata": {},
     "output_type": "execute_result"
    }
   ],
   "source": [
    "X = melbourne_data[melbourne_features]\n",
    "X.describe()"
   ]
  },
  {
   "cell_type": "code",
   "execution_count": 9,
   "metadata": {},
   "outputs": [],
   "source": [
    "Y = melbourne_data['Price']"
   ]
  },
  {
   "cell_type": "code",
   "execution_count": 10,
   "metadata": {},
   "outputs": [],
   "source": [
    "X_train, X_test, y_train, y_test = train_test_split(X, Y, test_size=0.2, random_state=42)"
   ]
  },
  {
   "cell_type": "code",
   "execution_count": 11,
   "metadata": {},
   "outputs": [],
   "source": [
    "model = LinearRegression(n_jobs = -1)"
   ]
  },
  {
   "cell_type": "code",
   "execution_count": 12,
   "metadata": {},
   "outputs": [
    {
     "data": {
      "text/plain": [
       "LinearRegression(copy_X=True, fit_intercept=True, n_jobs=-1, normalize=False)"
      ]
     },
     "execution_count": 12,
     "metadata": {},
     "output_type": "execute_result"
    }
   ],
   "source": [
    "model.fit(X_train, y_train)"
   ]
  },
  {
   "cell_type": "code",
   "execution_count": 13,
   "metadata": {
    "scrolled": false
   },
   "outputs": [
    {
     "data": {
      "image/png": "[encoded data removed]",
      "text/plain": [
       "<Figure size 1152x648 with 1 Axes>"
      ]
     },
     "metadata": {
      "needs_background": "light"
     },
     "output_type": "display_data"
    }
   ],
   "source": [
    "fig = plt.figure(figsize = (16,9))\n",
    "plt.scatter(x = ['Rooms', 'Bathroom', 'Landsize', 'Lattitude', 'Longtitude', 'YearBuilt'],y = model.coef_)\n",
    "plt.grid(True)"
   ]
  },
  {
   "cell_type": "code",
   "execution_count": 14,
   "metadata": {
    "scrolled": true
   },
   "outputs": [
    {
     "data": {
      "text/plain": [
       "{'fit_intercept': True,\n",
       " 'normalize': False,\n",
       " 'copy_X': True,\n",
       " 'n_jobs': -1,\n",
       " 'coef_': array([ 1.99679686e+05,  3.41740672e+05,  2.28203372e+01, -1.32317153e+06,\n",
       "         6.63274139e+05, -5.85561457e+03]),\n",
       " '_residues': 1191707371245728.0,\n",
       " 'rank_': 6,\n",
       " 'singular_': array([6.77967170e+04, 2.69463568e+03, 7.68816101e+01, 3.38961451e+01,\n",
       "        7.39445575e+00, 4.60121263e+00]),\n",
       " 'intercept_': -134756740.5838642}"
      ]
     },
     "execution_count": 14,
     "metadata": {},
     "output_type": "execute_result"
    }
   ],
   "source": [
    "model.__dict__"
   ]
  },
  {
   "cell_type": "code",
   "execution_count": 15,
   "metadata": {},
   "outputs": [],
   "source": [
    "y_predict = model.predict(X_test)"
   ]
  },
  {
   "cell_type": "code",
   "execution_count": 16,
   "metadata": {
    "scrolled": true
   },
   "outputs": [
    {
     "name": "stdout",
     "output_type": "stream",
     "text": [
      "313957.25059841236\n"
     ]
    }
   ],
   "source": [
    "print(mean_absolute_error(y_test, y_predict))"
   ]
  },
  {
   "cell_type": "markdown",
   "metadata": {},
   "source": [
    "## Hill Climbing"
   ]
  },
  {
   "cell_type": "code",
   "execution_count": null,
   "metadata": {},
   "outputs": [],
   "source": [
    "import random\n",
    "import numpy as np"
   ]
  },
  {
   "cell_type": "code",
   "execution_count": null,
   "metadata": {},
   "outputs": [],
   "source": [
    "# building model\n",
    "\n",
    "# we have ['Rooms', 'Bathroom', 'Landsize', 'Lattitude', 'Longtitude', 'YearBuilt'] as features\n",
    "# y = b0 + b1*x1 + b2*x2 + b3*x3 + b4*x4 + b5*x5 + b6*x6\n",
    "\n",
    "# b0, b1, b2, b3, b4, b5, b6 = 0,0,0,0,0,0,0\n",
    "\n",
    "b = np.array([[0,0,0,0,0,0,0]] ,dtype=np.float64)\n",
    "b = b.T"
   ]
  },
  {
   "cell_type": "code",
   "execution_count": null,
   "metadata": {},
   "outputs": [],
   "source": [
    "b"
   ]
  },
  {
   "cell_type": "code",
   "execution_count": null,
   "metadata": {},
   "outputs": [],
   "source": [
    "melbourne_data['ones'] = 1"
   ]
  },
  {
   "cell_type": "code",
   "execution_count": null,
   "metadata": {},
   "outputs": [],
   "source": [
    "data = np.array(melbourne_data[['ones','Rooms', 'Bathroom', 'Landsize', 'Lattitude', 'Longtitude', 'YearBuilt']])"
   ]
  },
  {
   "cell_type": "code",
   "execution_count": null,
   "metadata": {},
   "outputs": [],
   "source": [
    "np_price = np.array([melbourne_data['Price']])"
   ]
  },
  {
   "cell_type": "code",
   "execution_count": null,
   "metadata": {},
   "outputs": [],
   "source": [
    "np_price"
   ]
  },
  {
   "cell_type": "code",
   "execution_count": null,
   "metadata": {},
   "outputs": [],
   "source": [
    "# number of iterations to perform\n",
    "epochs = 10_000_000"
   ]
  },
  {
   "cell_type": "code",
   "execution_count": null,
   "metadata": {},
   "outputs": [],
   "source": [
    "best_loss = 10000000000000000000.0  # Initialize with a really large value"
   ]
  },
  {
   "cell_type": "markdown",
   "metadata": {},
   "source": [
    "## The cell below is going to take computation time"
   ]
  },
  {
   "cell_type": "code",
   "execution_count": null,
   "metadata": {},
   "outputs": [],
   "source": [
    "# # for i in range(epochs):\n",
    "#     if i%1000 == 0:\n",
    "#         print(f\"{ i/epochs * 100} % complete\")\n",
    "#     random_b = random.choice(range(7))\n",
    "\n",
    "#     random_adjust = np.random.normal()\n",
    "\n",
    "#     if random_b == 0:\n",
    "#         b[0][0] += random_adjust\n",
    "#     elif random_b == 1:\n",
    "#         b[1][0] += random_adjust\n",
    "#     elif random_b == 2:\n",
    "#         b[2][0] += random_adjust\n",
    "#     elif random_b == 3:\n",
    "#         b[3][0] += random_adjust\n",
    "#     elif random_b == 4:\n",
    "#         b[4][0] += random_adjust\n",
    "#     elif random_b == 5:\n",
    "#         b[5][0] += random_adjust\n",
    "#     elif random_b == 6:\n",
    "#         b[6][0] += random_adjust\n",
    "\n",
    "#     # Calculate loss, which is total mean squared error\n",
    "#     new_loss = 0.0\n",
    "    \n",
    "#     dot_pr = data.dot(b)\n",
    "#     dot_pr = dot_pr.T\n",
    "#     temp = np_price - dot_pr\n",
    "#     temp = temp**2\n",
    "    \n",
    "#     new_loss = np.sum(temp)\n",
    "    \n",
    "# #     for i, p in melbourne_data.iterrows():\n",
    "# #         new_loss += (p['Price'] - (b0 + b1 * p['Rooms'] + b2 * p['Bathroom'] + b3 * p['Landsize'] + b4 * p['Lattitude'] + b5 * p['Longtitude'] + b6 * p['YearBuilt'])) ** 2\n",
    "\n",
    "#     # If loss has improved, keep new values. Otherwise revert.\n",
    "#     if new_loss < best_loss:\n",
    "# #         print(\"z = {0} + {1}x1 + {2}x2 + {3}x3 + {4}x4 + {5}x5 + {6}x6\".format(b[0][0], b[1][0], b[2][0], b[3][0],b[4][0], b[5][0], b[6][0]))\n",
    "#         best_loss = new_loss\n",
    "#     else:\n",
    "#         if random_b == 0:\n",
    "#             b[0][0] -= random_adjust\n",
    "#         elif random_b == 1:\n",
    "#             b[1][0] -= random_adjust\n",
    "#         elif random_b == 2:\n",
    "#             b[2][0] -= random_adjust\n",
    "#         elif random_b == 3:\n",
    "#             b[3][0] -= random_adjust\n",
    "#         elif random_b == 4:\n",
    "#             b[4][0] -= random_adjust\n",
    "#         elif random_b == 5:\n",
    "#             b[5][0] -= random_adjust\n",
    "#         elif random_b == 6:\n",
    "#             b[6][0] -= random_adjust"
   ]
  },
  {
   "cell_type": "code",
   "execution_count": null,
   "metadata": {},
   "outputs": [],
   "source": [
    "# print(\"z = {0} + {1}x1 + {2}x2 + {3}x3 + {4}x4 + {5}x5 + {6}x6\".format(b[0][0], b[1][0], b[2][0], b[3][0],b[4][0], b[5][0], b[6][0]))"
   ]
  },
  {
   "cell_type": "code",
   "execution_count": null,
   "metadata": {},
   "outputs": [],
   "source": [
    "# model.coef_"
   ]
  },
  {
   "cell_type": "code",
   "execution_count": null,
   "metadata": {},
   "outputs": [],
   "source": [
    "# dot_pr = data.dot(b)\n",
    "# y_predict_hc = dot_pr.T"
   ]
  },
  {
   "cell_type": "code",
   "execution_count": null,
   "metadata": {},
   "outputs": [],
   "source": [
    "# mean_absolute_error(np_price, y_predict_hc)"
   ]
  },
  {
   "cell_type": "markdown",
   "metadata": {},
   "source": [
    "# 8b. Design a python program which implement the bisection and false positioning method."
   ]
  },
  {
   "cell_type": "code",
   "execution_count": 17,
   "metadata": {},
   "outputs": [],
   "source": [
    "def func(x):\n",
    "    return (x**2) - (5*x) + 1"
   ]
  },
  {
   "cell_type": "code",
   "execution_count": 18,
   "metadata": {},
   "outputs": [],
   "source": [
    "def falsePos(x0,x1,e,func):\n",
    "    print(\"False Position Method\\n================================\\n\")\n",
    "    step = 1\n",
    "    condition = True\n",
    "    while condition:\n",
    "        c = x0 - (x1-x0) * func(x0)/( func(x1) - func(x0) )\n",
    "        print(f'Iteration-{step}, c = {c} and f(c) = {func(c)}')\n",
    "\n",
    "        if func(x0) * func(c) < 0:\n",
    "            x1 = c\n",
    "        else:\n",
    "            x0 = c\n",
    "\n",
    "        step = step + 1\n",
    "        condition = abs(func(c)) > e\n",
    "\n",
    "    print(f'\\nRequired root is: {c}')\n",
    "    print(f\"Steps required: {step-1}\")"
   ]
  },
  {
   "cell_type": "code",
   "execution_count": 19,
   "metadata": {},
   "outputs": [],
   "source": [
    "def bisection(x0,x1,e,func):\n",
    "    print(\"Bisection Position Method\\n================================\\n\")\n",
    "    step = 1\n",
    "    condition = True\n",
    "    while condition:\n",
    "        c = (x0 + x1)/2\n",
    "        print(f'Iteration-{step}, c = {c} and f(c) = {func(c)}')\n",
    "\n",
    "        if func(x0) * func(c) < 0:\n",
    "            x1 = c\n",
    "        else:\n",
    "            x0 = c\n",
    "\n",
    "        step = step + 1\n",
    "        condition = abs(func(c)) > e\n",
    "\n",
    "    print(f'\\nRequired root is: {c}')\n",
    "    print(f\"Steps required: {step-1}\")"
   ]
  },
  {
   "cell_type": "code",
   "execution_count": 20,
   "metadata": {},
   "outputs": [],
   "source": [
    "def findRoot(func):\n",
    "    x0 = float(input(\"Enter x0: \"))\n",
    "    x1 = float(input(\"Enter x1: \"))\n",
    "    e = float(input(\"Enter acceptable error, e: \"))\n",
    "    \n",
    "    if func(x0) * func(x1) > 0.0:\n",
    "        print('Given guess values do not bracket the root.')\n",
    "        print('Try Again with different guess values.')\n",
    "    else:\n",
    "        falsePos(x0,x1,e,func)\n",
    "        bisection(x0,x1,e,func)"
   ]
  },
  {
   "cell_type": "code",
   "execution_count": 21,
   "metadata": {
    "scrolled": true
   },
   "outputs": [
    {
     "name": "stdout",
     "output_type": "stream",
     "text": [
      "Enter x0: 0\n",
      "Enter x1: 2.5\n",
      "Enter acceptable error, e: 0.000000001\n",
      "False Position Method\n",
      "================================\n",
      "\n",
      "Iteration-1, c = 0.4 and f(c) = -0.8399999999999999\n",
      "Iteration-2, c = 0.2173913043478261 and f(c) = -0.03969754253308144\n",
      "Iteration-3, c = 0.20909090909090908 and f(c) = -0.001735537190082681\n",
      "Iteration-4, c = 0.20872865275142313 and f(c) = -7.56132776913443e-05\n",
      "Iteration-5, c = 0.20871287128712873 and f(c) = -3.2937947260780476e-06\n",
      "Iteration-6, c = 0.20871218383203835 and f(c) = -1.4348025323407398e-07\n",
      "Iteration-7, c = 0.20871215388596565 and f(c) = -6.250109096939127e-09\n",
      "Iteration-8, c = 0.20871215258149192 and f(c) = -2.722597702842222e-10\n",
      "\n",
      "Required root is: 0.20871215258149192\n",
      "Steps required: 8\n",
      "Bisection Position Method\n",
      "================================\n",
      "\n",
      "Iteration-1, c = 1.25 and f(c) = -3.6875\n",
      "Iteration-2, c = 0.625 and f(c) = -1.734375\n",
      "Iteration-3, c = 0.3125 and f(c) = -0.46484375\n",
      "Iteration-4, c = 0.15625 and f(c) = 0.2431640625\n",
      "Iteration-5, c = 0.234375 and f(c) = -0.116943359375\n",
      "Iteration-6, c = 0.1953125 and f(c) = 0.06158447265625\n",
      "Iteration-7, c = 0.21484375 and f(c) = -0.0280609130859375\n",
      "Iteration-8, c = 0.205078125 and f(c) = 0.016666412353515625\n",
      "Iteration-9, c = 0.2099609375 and f(c) = -0.005721092224121094\n",
      "Iteration-10, c = 0.20751953125 and f(c) = 0.0054666996002197266\n",
      "Iteration-11, c = 0.208740234375 and f(c) = -0.00012868642807006836\n",
      "Iteration-12, c = 0.2081298828125 and f(c) = 0.002668634057044983\n",
      "Iteration-13, c = 0.20843505859375 and f(c) = 0.0012698806822299957\n",
      "Iteration-14, c = 0.208587646484375 and f(c) = 0.0005705738440155983\n",
      "Iteration-15, c = 0.2086639404296875 and f(c) = 0.00022093788720667362\n",
      "Iteration-16, c = 0.20870208740234375 and f(c) = 4.6124274376779795e-05\n",
      "Iteration-17, c = 0.20872116088867188 and f(c) = -4.128144064452499e-05\n",
      "Iteration-18, c = 0.2087116241455078 and f(c) = 2.4213259166572243e-06\n",
      "Iteration-19, c = 0.20871639251708984 and f(c) = -1.9430080101301428e-05\n",
      "Iteration-20, c = 0.20871400833129883 and f(c) = -8.504382776663988e-06\n",
      "Iteration-21, c = 0.20871281623840332 and f(c) = -3.0415298510888533e-06\n",
      "Iteration-22, c = 0.20871222019195557 and f(c) = -3.101023224871824e-07\n",
      "Iteration-23, c = 0.2087119221687317 and f(c) = 1.055611708267179e-06\n",
      "Iteration-24, c = 0.20871207118034363 and f(c) = 3.727546706855378e-07\n",
      "Iteration-25, c = 0.2087121456861496 and f(c) = 3.132616854806258e-08\n",
      "Iteration-26, c = 0.20871218293905258 and f(c) = -1.3938807841284984e-07\n",
      "Iteration-27, c = 0.2087121643126011 and f(c) = -5.4030955265460534e-08\n",
      "Iteration-28, c = 0.20871215499937534 and f(c) = -1.1352393469721278e-08\n",
      "Iteration-29, c = 0.20871215034276247 and f(c) = 9.986887539170652e-09\n",
      "Iteration-30, c = 0.2087121526710689 and f(c) = -6.827529652753128e-10\n",
      "\n",
      "Required root is: 0.2087121526710689\n",
      "Steps required: 30\n"
     ]
    }
   ],
   "source": [
    "findRoot(func)"
   ]
  },
  {
   "cell_type": "markdown",
   "metadata": {},
   "source": [
    "# 8c. Design a python program which generate the 100 random variable and find out the mean, medium and mode for the same."
   ]
  },
  {
   "cell_type": "code",
   "execution_count": 22,
   "metadata": {},
   "outputs": [],
   "source": [
    "import numpy as np\n",
    "from scipy import stats"
   ]
  },
  {
   "cell_type": "code",
   "execution_count": 23,
   "metadata": {},
   "outputs": [],
   "source": [
    "rn = np.random.randint(100,size=100)"
   ]
  },
  {
   "cell_type": "code",
   "execution_count": 24,
   "metadata": {},
   "outputs": [
    {
     "data": {
      "text/plain": [
       "array([71,  8, 27, 61, 94,  8,  3, 61, 89, 11, 98, 92, 32, 58,  9, 76, 42,\n",
       "       13, 75, 75, 23, 70, 59, 43, 37, 67, 49, 57, 57, 16, 82,  7, 88, 92,\n",
       "       97, 25, 20, 88, 87, 93, 85, 36, 68, 54, 41, 77, 35, 37, 30, 86, 84,\n",
       "       47, 47, 30, 39, 82, 22,  7, 59, 29, 38, 44, 78, 58, 25, 98, 68, 36,\n",
       "       51, 16, 53, 15, 38, 11, 90, 22, 91, 10, 77, 36, 90, 74,  7, 93, 25,\n",
       "       65, 22, 47, 58, 12,  6,  9, 36, 30, 60, 47, 12, 49, 54, 10])"
      ]
     },
     "execution_count": 24,
     "metadata": {},
     "output_type": "execute_result"
    }
   ],
   "source": [
    "rn"
   ]
  },
  {
   "cell_type": "code",
   "execution_count": 25,
   "metadata": {},
   "outputs": [],
   "source": [
    "rn_mean, rn_median, rn_mode = np.mean(rn), np.median(rn), stats.mode(rn)"
   ]
  },
  {
   "cell_type": "code",
   "execution_count": 26,
   "metadata": {},
   "outputs": [
    {
     "data": {
      "text/plain": [
       "ModeResult(mode=array([36]), count=array([4]))"
      ]
     },
     "execution_count": 26,
     "metadata": {},
     "output_type": "execute_result"
    }
   ],
   "source": [
    "rn_mode"
   ]
  }
 ],
 "metadata": {
  "kernelspec": {
   "display_name": "Python 3",
   "language": "python",
   "name": "python3"
  },
  "language_info": {
   "codemirror_mode": {
    "name": "ipython",
    "version": 3
   },
   "file_extension": ".py",
   "mimetype": "text/x-python",
   "name": "python",
   "nbconvert_exporter": "python",
   "pygments_lexer": "ipython3",
   "version": "3.6.9"
  }
 },
 "nbformat": 4,
 "nbformat_minor": 4
}
