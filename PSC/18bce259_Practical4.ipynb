{
 "cells": [
  {
   "cell_type": "markdown",
   "metadata": {},
   "source": [
    "# PSC Lab - Practical 4\n",
    "## Roll No: 18BCE259"
   ]
  },
  {
   "cell_type": "markdown",
   "metadata": {},
   "source": [
    "### Prac 1"
   ]
  },
  {
   "cell_type": "markdown",
   "metadata": {},
   "source": [
    "Define a class Bank that keeps track of bank customers. The class should contain the following data member:\n"
   ]
  },
  {
   "cell_type": "markdown",
   "metadata": {},
   "source": [
    "<img src=\"./assets/CustomerModel.JPG\" align=\"left\"/>"
   ]
  },
  {
   "cell_type": "markdown",
   "metadata": {},
   "source": [
    "The class should support the following methods:\n",
    "\n",
    "(a) __init__ for initializing the data members.\n",
    "\n",
    "(b) deposit for depositing money in the members.\n",
    "\n",
    "(c) withdrawal for withdrawing money from the account\n",
    "\n",
    "(d) find Interest that determines the interest on the basis of amount in the account"
   ]
  },
  {
   "cell_type": "markdown",
   "metadata": {},
   "source": [
    "<img src=\"./assets/AdditionalTable.JPG\" align=\"left\"/>"
   ]
  },
  {
   "cell_type": "code",
   "execution_count": 1,
   "metadata": {},
   "outputs": [],
   "source": [
    "class Bank():\n",
    "    def __init__(self,name,accountNum,accType,amount):\n",
    "        self.name = name\n",
    "        self.accountNum = accountNum\n",
    "        self.type = accType\n",
    "        self.amount = amount\n",
    "        self.interest=0\n",
    "        \n",
    "    def deposit(self, amount):\n",
    "        if(amount <= 0):\n",
    "            print(\"please enter a valid amount\")\n",
    "        else:\n",
    "            self.amount+=amount\n",
    "    \n",
    "    def withdraw(self,amount):\n",
    "        if(self.amount <= 0):\n",
    "            print(\"please enter a valid amount\")\n",
    "        elif( amount > self.amount):\n",
    "            print(\"insufficient funds\")\n",
    "        else:\n",
    "            self.amount-=amount\n",
    "            \n",
    "    def findInterest(self):\n",
    "        if(self.amount >= 500000):\n",
    "            self.interest = self.amount*0.08\n",
    "        elif(self.amount >= 300000):\n",
    "            self.interest = self.amount*0.07\n",
    "        elif(self.amount >= 100000):\n",
    "            self.interest = self.amount*0.05\n",
    "        else:\n",
    "            self.interest = self.amount*0.03\n",
    "            \n",
    "    def __repr__(self):\n",
    "        return f\"Account Holder Name: _ {self.name} _ with account number _ {self.accountNum} _ of _ {self.type} _ account\"\n",
    "            "
   ]
  },
  {
   "cell_type": "code",
   "execution_count": 2,
   "metadata": {},
   "outputs": [],
   "source": [
    "p1 = Bank('Shrey',1452369854,'Savings',748512)"
   ]
  },
  {
   "cell_type": "code",
   "execution_count": 3,
   "metadata": {},
   "outputs": [
    {
     "data": {
      "text/plain": [
       "Account Holder Name: _ Shrey _ with account number _ 1452369854 _ of _ Savings _ account"
      ]
     },
     "execution_count": 3,
     "metadata": {},
     "output_type": "execute_result"
    }
   ],
   "source": [
    "p1"
   ]
  },
  {
   "cell_type": "code",
   "execution_count": 4,
   "metadata": {},
   "outputs": [
    {
     "name": "stdout",
     "output_type": "stream",
     "text": [
      "0\n"
     ]
    }
   ],
   "source": [
    "print(p1.interest)"
   ]
  },
  {
   "cell_type": "code",
   "execution_count": 5,
   "metadata": {},
   "outputs": [],
   "source": [
    "p1.findInterest()"
   ]
  },
  {
   "cell_type": "code",
   "execution_count": 6,
   "metadata": {},
   "outputs": [
    {
     "name": "stdout",
     "output_type": "stream",
     "text": [
      "59880.96\n"
     ]
    }
   ],
   "source": [
    "print(p1.interest)"
   ]
  },
  {
   "cell_type": "code",
   "execution_count": 7,
   "metadata": {},
   "outputs": [
    {
     "name": "stdout",
     "output_type": "stream",
     "text": [
      "__main__\n"
     ]
    }
   ],
   "source": [
    "print(__name__)"
   ]
  },
  {
   "cell_type": "code",
   "execution_count": 8,
   "metadata": {},
   "outputs": [
    {
     "data": {
      "text/plain": [
       "748512"
      ]
     },
     "execution_count": 8,
     "metadata": {},
     "output_type": "execute_result"
    }
   ],
   "source": [
    "p1.amount"
   ]
  },
  {
   "cell_type": "code",
   "execution_count": 9,
   "metadata": {},
   "outputs": [],
   "source": [
    "p1.withdraw(5000)"
   ]
  },
  {
   "cell_type": "markdown",
   "metadata": {},
   "source": [
    "### Prac2"
   ]
  },
  {
   "cell_type": "markdown",
   "metadata": {},
   "source": [
    "Define a base class Person, having attributes name, birthdate and\n",
    "city. Define the class Student that derives from Person class which\n",
    "is having attributes like rollno, branch, totalMarks and year as data\n",
    "member. The class should contain the instance method __init__ and\n",
    "the abstract method percentage. Define two classes Grad and\n",
    "PostGrad which inherit from the base class Student. Both the classes\n",
    "should define their __init__ method which asks user t enter\n",
    "totalMarks value and should override the abstract method\n",
    "percentage of the superclass. Note that totalMarks obtained are out\n",
    "of 600 and 400 for Grad and PostGrad classes respectively."
   ]
  },
  {
   "cell_type": "code",
   "execution_count": 10,
   "metadata": {},
   "outputs": [],
   "source": [
    "from datetime import datetime\n",
    "import datetime\n",
    "from abc import abstractmethod\n",
    "\n",
    "class Person(object):\n",
    "    \n",
    "    def __init__(self):\n",
    "        self.name = None\n",
    "        self.birthdate = None\n",
    "        self.city = None\n",
    "        \n",
    "    def __init__(self,name,birthdate,city):\n",
    "        self.name = name;\n",
    "        self.birthdate = birthdate\n",
    "        self.city = city\n",
    "        \n",
    "    \n",
    "        \n",
    "class Student(Person):\n",
    "    def __init__(self):\n",
    "        super().__init__()\n",
    "        self.rollno = None\n",
    "        self.branch = None\n",
    "        self.totalmarks = None\n",
    "        self.year = None\n",
    "    \n",
    "    def __init__(self,rollno,branch,year):\n",
    "        super().__init__()\n",
    "        self.rollno = rollno\n",
    "        self.branch = branch\n",
    "        self.totalmarks = None\n",
    "        self.year = year\n",
    "        \n",
    "    def __init__(self,name,birthdate,city,rollno,branch,year):\n",
    "        super().__init__(name,birthdate,city)\n",
    "        self.rollno = rollno\n",
    "        self.branch = branch\n",
    "        self.totalmarks = None\n",
    "        self.year = year\n",
    "        \n",
    "    @abstractmethod\n",
    "    def percentage(self):\n",
    "        pass"
   ]
  },
  {
   "cell_type": "code",
   "execution_count": 11,
   "metadata": {},
   "outputs": [],
   "source": [
    "class Grad(Student):\n",
    "    def percentage(self):\n",
    "        self.percentage = self.totalmarks/6\n",
    "    \n",
    "    def __init__(self,name,birthdate,city,rollno,branch,year):\n",
    "        super().__init__(name,birthdate,city,rollno,branch,year)\n",
    "        \n",
    "        while True:\n",
    "            try:\n",
    "                temp = int(input(\"Enter the Total Marks: \"))\n",
    "                if(temp < 0 or temp > 600):\n",
    "                    raise ValueError(\"Not Valid Values\")\n",
    "                else:\n",
    "                    self.totalmarks=temp\n",
    "                    self.percentage()\n",
    "                    break\n",
    "            except ValueError:\n",
    "                print(\"Not Valid Value Given. Try Again\")\n",
    "            except Exception:\n",
    "                print(\"Another Exception Occured. Please check the input\")\n",
    "                raise\n",
    "                \n",
    "    def __repr__(self):\n",
    "        return f\"Graduate Student__Name: {self.name} and roll no {self.rollno} with academic score of {self.percentage} %\"\n",
    "                \n",
    "    "
   ]
  },
  {
   "cell_type": "code",
   "execution_count": 12,
   "metadata": {},
   "outputs": [],
   "source": [
    "class PostGrad(Student):\n",
    "    def percentage(self):\n",
    "        self.percentage = self.totalmarks/4\n",
    "        \n",
    "    def __init__(self,name,birthdate,city,rollno,branch,year):\n",
    "        super().__init__(name,birthdate,city,rollno,branch,year)\n",
    "        \n",
    "        while True:\n",
    "            try:\n",
    "                temp = int(input(\"Enter the Total Marks: \"))\n",
    "                if(temp < 0 or temp > 400):\n",
    "                    raise ValueError(\"Not Valid Values\")\n",
    "                else:\n",
    "                    self.totalmarks=temp\n",
    "                    self.percentage()\n",
    "                    break\n",
    "            except ValueError:\n",
    "                print(\"Not Valid Value Given. Try Again\")\n",
    "            except Exception:\n",
    "                print(\"Another Exception Occured. Please check the input\")\n",
    "               \n",
    "    def __repr__(self):\n",
    "        return f\"Post Graduate Student__Name: {self.name} and roll no {self.rollno} with academic score of {self.percentage} %\"\n",
    "    "
   ]
  },
  {
   "cell_type": "code",
   "execution_count": 13,
   "metadata": {
    "scrolled": false
   },
   "outputs": [
    {
     "name": "stdout",
     "output_type": "stream",
     "text": [
      "Enter the Total Marks: 576\n"
     ]
    }
   ],
   "source": [
    "s = Grad('Shrey Viradiya',datetime.date(year = 2000,month = 10,day =19),'Ahmedabad','18BCE259','CSE',datetime.date.today().year)"
   ]
  },
  {
   "cell_type": "code",
   "execution_count": 14,
   "metadata": {},
   "outputs": [
    {
     "name": "stdout",
     "output_type": "stream",
     "text": [
      "{'name': 'Shrey Viradiya', 'birthdate': datetime.date(2000, 10, 19), 'city': 'Ahmedabad', 'rollno': '18BCE259', 'branch': 'CSE', 'totalmarks': 576, 'year': 2020, 'percentage': 96.0}\n"
     ]
    }
   ],
   "source": [
    "print(s.__dict__)"
   ]
  },
  {
   "cell_type": "code",
   "execution_count": 15,
   "metadata": {},
   "outputs": [
    {
     "name": "stdout",
     "output_type": "stream",
     "text": [
      "Enter the Total Marks: 386\n"
     ]
    }
   ],
   "source": [
    "s2 = PostGrad('Adam Admirer',datetime.date(year = 1996,month = 1,day = 12),'Ahmedabad','19MCE042','CSE',datetime.date.today().year)"
   ]
  },
  {
   "cell_type": "code",
   "execution_count": 16,
   "metadata": {},
   "outputs": [
    {
     "name": "stdout",
     "output_type": "stream",
     "text": [
      "{'name': 'Adam Admirer', 'birthdate': datetime.date(1996, 1, 12), 'city': 'Ahmedabad', 'rollno': '19MCE042', 'branch': 'CSE', 'totalmarks': 386, 'year': 2020, 'percentage': 96.5}\n"
     ]
    }
   ],
   "source": [
    "print(s2.__dict__)"
   ]
  },
  {
   "cell_type": "code",
   "execution_count": 17,
   "metadata": {},
   "outputs": [
    {
     "name": "stdout",
     "output_type": "stream",
     "text": [
      "Graduate Student__Name: Shrey Viradiya and roll no 18BCE259 with academic score of 96.0 %\n"
     ]
    }
   ],
   "source": [
    "print(s)"
   ]
  },
  {
   "cell_type": "code",
   "execution_count": 18,
   "metadata": {},
   "outputs": [
    {
     "name": "stdout",
     "output_type": "stream",
     "text": [
      "Post Graduate Student__Name: Adam Admirer and roll no 19MCE042 with academic score of 96.5 %\n"
     ]
    }
   ],
   "source": [
    "\n",
    "print(s2)"
   ]
  }
 ],
 "metadata": {
  "kernelspec": {
   "display_name": "Python 3",
   "language": "python",
   "name": "python3"
  },
  "language_info": {
   "codemirror_mode": {
    "name": "ipython",
    "version": 3
   },
   "file_extension": ".py",
   "mimetype": "text/x-python",
   "name": "python",
   "nbconvert_exporter": "python",
   "pygments_lexer": "ipython3",
   "version": "3.7.3"
  }
 },
 "nbformat": 4,
 "nbformat_minor": 2
}
