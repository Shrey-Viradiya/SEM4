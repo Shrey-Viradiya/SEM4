{
 "cells": [
  {
   "cell_type": "code",
   "execution_count": 1,
   "metadata": {},
   "outputs": [
    {
     "name": "stdout",
     "output_type": "stream",
     "text": [
      "Line 1 - Value of c is  31\n",
      "Line 2 - Value of c is  11\n",
      "Line 3 - Value of c is  210\n",
      "Line 4 - Value of c is  2.1\n",
      "Line 5 - Value of c is  1\n",
      "Line 6 - Value of c is  8\n",
      "Line 7 - Value of c is  2\n"
     ]
    }
   ],
   "source": [
    "#Arithmetic operator\n",
    "a = 21\n",
    "b = 10\n",
    "c = 0\n",
    "\n",
    "c = a + b\n",
    "print (\"Line 1 - Value of c is \", c)\n",
    "\n",
    "c = a - b\n",
    "print (\"Line 2 - Value of c is \", c )\n",
    "\n",
    "c = a * b\n",
    "print (\"Line 3 - Value of c is \", c )\n",
    "\n",
    "c = a / b\n",
    "print (\"Line 4 - Value of c is \", c )\n",
    "\n",
    "c = a % b\n",
    "print (\"Line 5 - Value of c is \", c)\n",
    "\n",
    "a = 2\n",
    "b = 3\n",
    "c = a**b \n",
    "print (\"Line 6 - Value of c is \", c)\n",
    "\n",
    "a = 10\n",
    "b = 5\n",
    "c = a//b \n",
    "print (\"Line 7 - Value of c is \", c)"
   ]
  },
  {
   "cell_type": "code",
   "execution_count": 4,
   "metadata": {},
   "outputs": [
    {
     "name": "stdout",
     "output_type": "stream",
     "text": [
      "Line 1 - a is not equal to b\n",
      "Line 2 - a is not equal to b\n",
      "Line 4 - a is not less than b\n",
      "Line 5 - a is greater than b\n",
      "Line 6 - a is either less than or equal to  b\n",
      "Line 7 - b is either greater than  or equal to b\n"
     ]
    }
   ],
   "source": [
    "#relational operator\n",
    "a = 21\n",
    "b = 10\n",
    "c = 0\n",
    "\n",
    "if ( a == b ):\n",
    "   print (\"Line 1 - a is equal to b\")\n",
    "else:\n",
    "   print (\"Line 1 - a is not equal to b\")\n",
    "\n",
    "if ( a != b ):\n",
    "   print (\"Line 2 - a is not equal to b\")\n",
    "else:\n",
    "   print (\"Line 2 - a is equal to b\")\n",
    "\n",
    "if ( a < b ):\n",
    "   print (\"Line 4 - a is less than b\") \n",
    "else:\n",
    "   print (\"Line 4 - a is not less than b\")\n",
    "\n",
    "if ( a > b ):\n",
    "   print (\"Line 5 - a is greater than b\")\n",
    "else:\n",
    "   print (\"Line 5 - a is not greater than b\")\n",
    "\n",
    "a = 5;\n",
    "b = 20;\n",
    "if ( a <= b ):\n",
    "   print (\"Line 6 - a is either less than or equal to  b\")\n",
    "else:\n",
    "   print (\"Line 6 - a is neither less than nor equal to  b\")\n",
    "\n",
    "if ( b >= a ):\n",
    "   print (\"Line 7 - b is either greater than  or equal to b\")\n",
    "else:\n",
    "   print (\"Line 7 - b is neither greater than  nor equal to b\")"
   ]
  },
  {
   "cell_type": "code",
   "execution_count": 5,
   "metadata": {},
   "outputs": [
    {
     "name": "stdout",
     "output_type": "stream",
     "text": [
      "Line 1 - a is not available in the given list\n",
      "Line 2 - b is not available in the given list\n",
      "Line 3 - a is available in the given list\n"
     ]
    }
   ],
   "source": [
    "#Membership Operators\n",
    "a = 10\n",
    "b = 20\n",
    "list = [1, 2, 3, 4, 5 ];\n",
    "\n",
    "if ( a in list ):\n",
    "   print (\"Line 1 - a is available in the given list\")\n",
    "else:\n",
    "   print (\"Line 1 - a is not available in the given list\")\n",
    "\n",
    "if ( b not in list ):\n",
    "   print (\"Line 2 - b is not available in the given list\")\n",
    "else:\n",
    "   print (\"Line 2 - b is available in the given list\")\n",
    "\n",
    "a = 2\n",
    "if ( a in list ):\n",
    "   print (\"Line 3 - a is available in the given list\")\n",
    "else:\n",
    "   print (\"Line 3 - a is not available in the given list\")"
   ]
  },
  {
   "cell_type": "code",
   "execution_count": 6,
   "metadata": {},
   "outputs": [
    {
     "name": "stdout",
     "output_type": "stream",
     "text": [
      "Line 1 - a and b have same identity\n",
      "Line 2 - a and b have same identity\n",
      "Line 3 - a and b do not have same identity\n",
      "Line 4 - a and b do not have same identity\n"
     ]
    }
   ],
   "source": [
    "#Identity Operators\n",
    "\n",
    "a = 20\n",
    "b = 20\n",
    "\n",
    "if ( a is b ):\n",
    "   print (\"Line 1 - a and b have same identity\")\n",
    "else:\n",
    "   print (\"Line 1 - a and b do not have same identity\")\n",
    "if ( id(a) == id(b) ):\n",
    "   print (\"Line 2 - a and b have same identity\")\n",
    "else:\n",
    "   print (\"Line 2 - a and b do not have same identity\")\n",
    "\n",
    "b = 30\n",
    "if ( a is b ):\n",
    "   print (\"Line 3 - a and b have same identity\")\n",
    "else:\n",
    "   print (\"Line 3 - a and b do not have same identity\")\n",
    "\n",
    "if ( a is not b ):\n",
    "   print (\"Line 4 - a and b do not have same identity\")\n",
    "else:\n",
    "   print (\"Line 4 - a and b have same identity\")"
   ]
  },
  {
   "cell_type": "code",
   "execution_count": 22,
   "metadata": {},
   "outputs": [
    {
     "name": "stdout",
     "output_type": "stream",
     "text": [
      "A random number from list is : 1\n",
      "A random number from range is : 25\n"
     ]
    }
   ],
   "source": [
    "import random \n",
    "  \n",
    "# using choice() to generate a random number from a  \n",
    "# given list of numbers. \n",
    "print (\"A random number from list is : \", end=\"\") \n",
    "print (random.choice([1, 4, 8, 10, 3])) \n",
    "  \n",
    "# using randrange() to generate in range from 20 \n",
    "# to 50. The last parameter 5 is step size to skip \n",
    "# three numbers when selecting. \n",
    "print (\"A random number from range is : \",end=\"\") \n",
    "print (random.randrange(20, 50, 5)) "
   ]
  },
  {
   "cell_type": "code",
   "execution_count": 23,
   "metadata": {},
   "outputs": [
    {
     "name": "stdout",
     "output_type": "stream",
     "text": [
      "A random number between 0 and 1 is : 0.6306259157317371\n",
      "The mapped random number with 5 is : 0.6229016948897019\n",
      "The mapped random number with 7 is : 0.32383276483316237\n",
      "The mapped random number with 5 is : 0.6229016948897019\n"
     ]
    }
   ],
   "source": [
    "import random \n",
    "  \n",
    "# using random() to generate a random number \n",
    "# between 0 and 1 \n",
    "print (\"A random number between 0 and 1 is : \", end=\"\") \n",
    "print (random.random()) \n",
    "  \n",
    "# using seed() to seed a random number \n",
    "random.seed(5) \n",
    "  \n",
    "# printing mapped random number \n",
    "print (\"The mapped random number with 5 is : \", end=\"\") \n",
    "print (random.random()) \n",
    "  \n",
    "# using seed() to seed different random number \n",
    "random.seed(7) \n",
    "  \n",
    "# printing mapped random number \n",
    "print (\"The mapped random number with 7 is : \", end=\"\") \n",
    "print (random.random()) \n",
    "  \n",
    "# using seed() to seed to 5 again \n",
    "random.seed(5) \n",
    "  \n",
    "# printing mapped random number \n",
    "print (\"The mapped random number with 5 is : \",end=\"\") \n",
    "print (random.random()) \n",
    "  \n",
    "# using seed() to seed to 7 again  \n",
    "random.seed(7) \n",
    "\n"
   ]
  },
  {
   "cell_type": "code",
   "execution_count": null,
   "metadata": {},
   "outputs": [],
   "source": []
  }
 ],
 "metadata": {
  "kernelspec": {
   "display_name": "Python 3",
   "language": "python",
   "name": "python3"
  },
  "language_info": {
   "codemirror_mode": {
    "name": "ipython",
    "version": 3
   },
   "file_extension": ".py",
   "mimetype": "text/x-python",
   "name": "python",
   "nbconvert_exporter": "python",
   "pygments_lexer": "ipython3",
   "version": "3.6.5"
  }
 },
 "nbformat": 4,
 "nbformat_minor": 4
}
