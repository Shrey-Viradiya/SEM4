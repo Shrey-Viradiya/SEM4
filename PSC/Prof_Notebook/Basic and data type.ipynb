{
 "cells": [
  {
   "cell_type": "code",
   "execution_count": 1,
   "metadata": {},
   "outputs": [
    {
     "name": "stdout",
     "output_type": "stream",
     "text": [
      "\"62\"\n",
      "\"   62\"\n",
      "\"00062\"\n",
      "\"1.89877e+08\"\n",
      "\"1.89877E+08\"\n",
      "\"1.898765e+08\"\n",
      "\"1.898765E+08\"\n",
      "\"            1.90E+08\"\n",
      "\"                   1.89877e+08\"\n",
      "\"1.89877e+08                   \"\n",
      "\"1.899e+08                     \"\n",
      "62\n",
      "189876545.76546755\n",
      "5.1 % of 346.00 Euro is 17.65 Euro\n"
     ]
    }
   ],
   "source": [
    "i = 62\n",
    "r = 189876545.7654675432\n",
    "\n",
    "# Print out numbers with quotes \"\" such that we see the\n",
    "# width of the field\n",
    "print ('\"%d\"'  %i)     # minimum field\n",
    "print ('\"%5d\"' % i )     # field of width 5 characters\n",
    "print ('\"%05d\"' % i)    # pad with zeros\n",
    "\n",
    "print ('\"%g\"' % r)       # r is big number so this is scientific notation\n",
    "print ('\"%G\"' % r)       # E in the exponent\n",
    "print ('\"%e\"' % r )      # compact scientific notation\n",
    "print ('\"%E\"' % r)       # compact scientific notation\n",
    "print ('\"%20.2E\"' % r )  # 2 decimals, field of width 20\n",
    "print ('\"%30g\"' % r)     # field of width 30 (right-adjusted)\n",
    "print ('\"%-30g\"' % r)    # left-adjust number\n",
    "print ('\"%-30.4g\"' % r ) # 3 decimals\n",
    "\n",
    "print ('%s' % i)   # can convert i to string automatically\n",
    "print ('%s' % r)\n",
    "\n",
    "# Use %% to print the percentage sign\n",
    "print ('%g %% of %.2f Euro is %.2f Euro' % \\\n",
    "      (5.1, 346, 5.1/100*346))\n"
   ]
  },
  {
   "cell_type": "code",
   "execution_count": 2,
   "metadata": {},
   "outputs": [
    {
     "name": "stdout",
     "output_type": "stream",
     "text": [
      "<class 'str'>\n",
      "<class 'int'>\n",
      "<class 'float'>\n",
      "<class 'complex'>\n",
      "<class 'list'>\n",
      "<class 'tuple'>\n",
      "<class 'dict'>\n"
     ]
    }
   ],
   "source": [
    "x = \"Hello World\"\n",
    "print(type(x))\n",
    "x = 20\n",
    "print(type(x))\n",
    "x = 20.5\n",
    "print(type(x))\n",
    "x = 1j\n",
    "print(type(x))\n",
    "x = [\"apple\", \"banana\", \"cherry\"]\n",
    "print(type(x))\n",
    "x = (\"apple\", \"banana\", \"cherry\")\n",
    "print(type(x))\n",
    "x = {\"name\" : \"John\", \"age\" : 36}\n",
    "print(type(x))\n",
    " \n"
   ]
  },
  {
   "cell_type": "code",
   "execution_count": 3,
   "metadata": {},
   "outputs": [
    {
     "name": "stdout",
     "output_type": "stream",
     "text": [
      "Hello World!\n",
      "H\n",
      "llo\n",
      "llo World!\n",
      "Hello World!Hello World!\n",
      "Hello World!TEST\n"
     ]
    }
   ],
   "source": [
    "str = 'Hello World!'\n",
    "print (str)          # Prints complete string\n",
    "print (str[0])       # Prints first character of the string\n",
    "print (str[2:5])     # Prints characters starting at index 2 to 4\n",
    "                    # first index is inclusive while end is exclusive\n",
    "print (str[2:])     # Prints string starting from 3rd character\n",
    "print (str * 2)      # Prints string two times\n",
    "print (str + \"TEST\") "
   ]
  },
  {
   "cell_type": "code",
   "execution_count": 4,
   "metadata": {},
   "outputs": [
    {
     "name": "stdout",
     "output_type": "stream",
     "text": [
      "!\n",
      "\n",
      "Hello World!\n"
     ]
    }
   ],
   "source": [
    "str = 'Hello World!'\n",
    "\n",
    "print (str[-1])          \n",
    "print (str[-1:-3])       \n",
    "print (str[-12:])     "
   ]
  },
  {
   "cell_type": "code",
   "execution_count": 5,
   "metadata": {},
   "outputs": [
    {
     "name": "stdout",
     "output_type": "stream",
     "text": [
      "V\tS\tUX"
     ]
    }
   ],
   "source": [
    "print('V','S','U', sep= '\\t', end='X')"
   ]
  },
  {
   "cell_type": "code",
   "execution_count": 6,
   "metadata": {},
   "outputs": [
    {
     "name": "stdout",
     "output_type": "stream",
     "text": [
      "a=5\n",
      "a=5 and b=2\n",
      "a=2 and b=5\n",
      "a=5 and b=2\n",
      "bin=1100, oct=14, hex=c\n",
      "bin=1100, oct=12, hex=a\n",
      "bin=1100, oct=12, hex=C\n"
     ]
    }
   ],
   "source": [
    "a=5;b=2\n",
    "print('a={0}'.format(a)) #a=5\n",
    "print('a={0} and b={1}'.format(a, b)) #a=5 and b=2\n",
    "print('a={1} and b={0}'.format(a, b)) #a=2 and b=5\n",
    "print('a={} and b={}'.format(a, b))\t#a=5 and b=2 #auto field numbering\n",
    "print('bin={0:b}, oct={0:o}, hex={0:x}'.format(12)) #bin=1100, oct=14, hex=c\n",
    "print('bin={0:b}, oct={1:o}, hex={1:x}'.format(12,10)) #bin=1100, oct=12, hex=a\n",
    "print('bin={0:b}, oct={1:o}, hex={0:X}'.format(12,10,10)) #bin=1100, oct=12, hex=A"
   ]
  },
  {
   "cell_type": "code",
   "execution_count": 7,
   "metadata": {},
   "outputs": [
    {
     "name": "stdout",
     "output_type": "stream",
     "text": [
      "Every Operating Systems should know the use of Source Open programming and programmer\n"
     ]
    }
   ],
   "source": [
    "print(\"Every {3} should know the use of {2} {1} programming and {0}\".format(\"programmer\", \"Open\", \"Source\", \"Operating Systems\")) "
   ]
  },
  {
   "cell_type": "code",
   "execution_count": 8,
   "metadata": {},
   "outputs": [
    {
     "name": "stdout",
     "output_type": "stream",
     "text": [
      "a=5 and b=2\n",
      "a=  5 and b=    2\n",
      "a=  5 and b=    2\n",
      "a=5   and b=2    \n",
      "a=5          and b=2    \n",
      "a=005 and b=00002\n",
      "a= 5  and b=  2  \n",
      "a=123.456790\n",
      "a=1212312.4568\n"
     ]
    }
   ],
   "source": [
    "print(\"a={0:d} and b={1:d}\".format(a, b)) \t\t\t#a=5 and b=2\n",
    "print(\"a={0:3d} and b={1:5d}\".format(a, b)) \t\t#a=  5 and b=    2\n",
    "print(\"a={0:>3d} and b={1:>5d}\".format(a, b)) \t\t#a=  5 and b=    2\n",
    "print(\"a={0:<3d} and b={1:<5d}\".format(a, b))\t\t#a=5   and b=2\n",
    "print(\"a={:<{}d} and b={:<{}d}\".format(a,10,b,5))\t\t#???  \n",
    "print(\"a={0:03d} and b={1:05d}\".format(a, b)) \t\t#a=005 and b=00002\n",
    "print(\"a={0:^3d} and b={1:^5d}\".format(a, b)) \t\t#a= 5  and b=  2  \n",
    "print(\"a={:f}\".format(123.4567898)) \t\t\t\t#a=123.456790\n",
    "print(\"a={:8.4f}\".format(1212312.4567898)) \t\t\t#a= 123.457"
   ]
  },
  {
   "cell_type": "code",
   "execution_count": null,
   "metadata": {},
   "outputs": [],
   "source": []
  },
  {
   "cell_type": "code",
   "execution_count": null,
   "metadata": {},
   "outputs": [],
   "source": []
  }
 ],
 "metadata": {
  "kernelspec": {
   "display_name": "Python 3",
   "language": "python",
   "name": "python3"
  },
  "language_info": {
   "codemirror_mode": {
    "name": "ipython",
    "version": 3
   },
   "file_extension": ".py",
   "mimetype": "text/x-python",
   "name": "python",
   "nbconvert_exporter": "python",
   "pygments_lexer": "ipython3",
   "version": "3.7.3"
  }
 },
 "nbformat": 4,
 "nbformat_minor": 4
}
