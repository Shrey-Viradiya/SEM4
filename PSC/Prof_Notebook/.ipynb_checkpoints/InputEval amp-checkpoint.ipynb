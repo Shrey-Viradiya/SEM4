{
 "cells": [
  {
   "cell_type": "code",
   "execution_count": 3,
   "metadata": {},
   "outputs": [
    {
     "name": "stdout",
     "output_type": "stream",
     "text": [
      "Enter a:asd\n",
      "<class 'str'>\n",
      "asd\n",
      "Enter a:101\n",
      "<class 'int'>\n",
      "101\n"
     ]
    }
   ],
   "source": [
    "a=input(\"Enter a:\")\n",
    "print(type(a))\n",
    "print(a)\n",
    "a=int(input(\"Enter a:\"))\n",
    "print(type(a))\n",
    "print(a)"
   ]
  },
  {
   "cell_type": "code",
   "execution_count": 1,
   "metadata": {},
   "outputs": [
    {
     "name": "stdout",
     "output_type": "stream",
     "text": [
      "Enter any number of your choice:10 + 10\n",
      "10 + 10\n",
      "<class 'str'>\n"
     ]
    }
   ],
   "source": [
    "input = input(\"Enter any number of your choice:\")   # enter 10 + 10\n",
    "print(input)\n",
    "print(type(input))"
   ]
  },
  {
   "cell_type": "code",
   "execution_count": 2,
   "metadata": {},
   "outputs": [
    {
     "name": "stdout",
     "output_type": "stream",
     "text": [
      "Enter any number of your choice10 + 10\n",
      "20\n",
      "<class 'int'>\n"
     ]
    }
   ],
   "source": [
    "eval = eval(input(\"Enter any number of your choice\"))\n",
    "print(eval)\n",
    "print(type(eval))"
   ]
  },
  {
   "cell_type": "code",
   "execution_count": 2,
   "metadata": {},
   "outputs": [
    {
     "name": "stdout",
     "output_type": "stream",
     "text": [
      "Enter what operation x has to perform: x + x + 100 - 35 + 5 * 80 \n",
      "x + x + 100 - 35 + 5 * 80 \n",
      "<class 'str'>\n",
      "x10\n",
      "<class 'int'>\n",
      "485\n",
      "<class 'int'>\n"
     ]
    }
   ],
   "source": [
    "evaluate = input(\"Enter what operation x has to perform: \") \n",
    "# enter x + x + 100 - 35 + 5 * 80\n",
    "print(evaluate)\n",
    "print(type(evaluate))\n",
    "\n",
    "x = int(input(\"x\"))\n",
    "print(type(x))\n",
    "\n",
    "expression = eval(evaluate)\n",
    "print(expression)\n",
    "print(type(expression))"
   ]
  },
  {
   "cell_type": "code",
   "execution_count": 2,
   "metadata": {},
   "outputs": [
    {
     "name": "stdout",
     "output_type": "stream",
     "text": [
      "79076040\n",
      "20\n",
      "8790880264880\n",
      "8790880265200\n",
      "----\n",
      "8790880265200\n",
      "8790880265520\n"
     ]
    }
   ],
   "source": [
    "a=[10,20]\n",
    "print(id(a))\n",
    "print(a[1])\n",
    "print(id(a[0]))\n",
    "print(id(a[1]))\n",
    "a[0]=20\n",
    "a[1]=30\n",
    "print(\"----\")\n",
    "print(id(a[0]))\n",
    "print(id(a[1]))"
   ]
  },
  {
   "cell_type": "code",
   "execution_count": null,
   "metadata": {},
   "outputs": [],
   "source": []
  }
 ],
 "metadata": {
  "kernelspec": {
   "display_name": "Python 3",
   "language": "python",
   "name": "python3"
  },
  "language_info": {
   "codemirror_mode": {
    "name": "ipython",
    "version": 3
   },
   "file_extension": ".py",
   "mimetype": "text/x-python",
   "name": "python",
   "nbconvert_exporter": "python",
   "pygments_lexer": "ipython3",
   "version": "3.7.3"
  }
 },
 "nbformat": 4,
 "nbformat_minor": 2
}
