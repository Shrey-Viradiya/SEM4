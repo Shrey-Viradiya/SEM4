{
 "cells": [
  {
   "cell_type": "code",
   "execution_count": 1,
   "metadata": {},
   "outputs": [
    {
     "name": "stdout",
     "output_type": "stream",
     "text": [
      "1.2342\n"
     ]
    }
   ],
   "source": [
    "print (5*0.6 - 0.5*9.81*0.6**2)"
   ]
  },
  {
   "cell_type": "code",
   "execution_count": 2,
   "metadata": {},
   "outputs": [
    {
     "name": "stdout",
     "output_type": "stream",
     "text": [
      "1.2342\n"
     ]
    }
   ],
   "source": [
    "v0 = 5\n",
    "g = 9.81\n",
    "t = 0.6\n",
    "y = v0*t - 0.5*g*t**2\n",
    "print (y)"
   ]
  },
  {
   "cell_type": "code",
   "execution_count": 6,
   "metadata": {},
   "outputs": [
    {
     "name": "stdout",
     "output_type": "stream",
     "text": [
      "At t=0.6 s, the height of the ball is 1.23 m.\n"
     ]
    }
   ],
   "source": [
    "v0 = 5\n",
    "g = 9.81\n",
    "t = 0.6\n",
    "y = v0*t - 0.5*g*t**2\n",
    "print ('At t=%g s, the height of the ball is %.2f m.' % (t, y))"
   ]
  },
  {
   "cell_type": "code",
   "execution_count": 14,
   "metadata": {},
   "outputs": [
    {
     "name": "stdout",
     "output_type": "stream",
     "text": [
      " \n",
      "At t=0.600000 s, a ball with \n",
      "initial velocity v0=5.000E+00 m/s \n",
      "is located at the height 1.23 m. \n",
      "\n"
     ]
    }
   ],
   "source": [
    "v0 = 5\n",
    "g = 9.81\n",
    "t = 0.6\n",
    "y = v0*t - 0.5*g*t**2\n",
    "\n",
    "print (\"\"\" \n",
    "At t=%f s, a ball with \n",
    "initial velocity v0=%.3E m/s \n",
    "is located at the height %.2f m. \n",
    "\"\"\" % (t, v0, y))"
   ]
  },
  {
   "cell_type": "code",
   "execution_count": 19,
   "metadata": {},
   "outputs": [
    {
     "name": "stdout",
     "output_type": "stream",
     "text": [
      "y(t) is\n",
      "the position of\n",
      "our ball.\n",
      "y(t) is\n",
      "the position of\n",
      "our ball\n"
     ]
    }
   ],
   "source": [
    "# use of \\n\n",
    "print ( \"\"\"y(t) is\n",
    "the position of\n",
    "our ball.\"\"\")\n",
    "print ('y(t) is\\nthe position of\\nour ball')"
   ]
  },
  {
   "cell_type": "code",
   "execution_count": 22,
   "metadata": {},
   "outputs": [
    {
     "name": "stdout",
     "output_type": "stream",
     "text": [
      "0.034199999999999786\n",
      "0.034199999999999786\n"
     ]
    }
   ],
   "source": [
    "#use of ;\n",
    "v0 = 3; g = 9.81; t = 0.6\n",
    "y = v0*t - 0.5*g*t**2\n",
    "print (y)\n",
    "#OR\n",
    "v0=3;g=9.81;t=0.6;y=v0*t-0.5*g*t**2;print (y)"
   ]
  },
  {
   "cell_type": "code",
   "execution_count": 62,
   "metadata": {},
   "outputs": [
    {
     "name": "stdout",
     "output_type": "stream",
     "text": [
      "\"62\"\n",
      "\"   62\"\n",
      "\"00062\"\n",
      "\"1.89877e+08\"\n",
      "\"1.89877E+08\"\n",
      "\"1.898765e+08\"\n",
      "\"1.898765E+08\"\n",
      "\"            1.90E+08\"\n",
      "\"                   1.89877e+08\"\n",
      "\"1.89877e+08                   \"\n",
      "\"1.899e+08                     \"\n",
      "62\n",
      "189876545.76546755\n",
      "5.1 % of 346.00 Euro is 17.65 Euro\n"
     ]
    }
   ],
   "source": [
    "i = 62\n",
    "r = 189876545.7654675432\n",
    "\n",
    "# Print out numbers with quotes \"\" such that we see the\n",
    "# width of the field\n",
    "print ('\"%d\"'  %i)     # minimum field\n",
    "print ('\"%5d\"' % i )     # field of width 5 characters\n",
    "print ('\"%05d\"' % i)    # pad with zeros\n",
    "\n",
    "print ('\"%g\"' % r)       # r is big number so this is scientific notation\n",
    "print ('\"%G\"' % r)       # E in the exponent\n",
    "print ('\"%e\"' % r )      # compact scientific notation\n",
    "print ('\"%E\"' % r)       # compact scientific notation\n",
    "print ('\"%20.2E\"' % r )  # 2 decimals, field of width 20\n",
    "print ('\"%30g\"' % r)     # field of width 30 (right-adjusted)\n",
    "print ('\"%-30g\"' % r)    # left-adjust number\n",
    "print ('\"%-30.4g\"' % r ) # 3 decimals\n",
    "\n",
    "print ('%s' % i)   # can convert i to string automatically\n",
    "print ('%s' % r)\n",
    "\n",
    "# Use %% to print the percentage sign\n",
    "print ('%g %% of %.2f Euro is %.2f Euro' % \\\n",
    "      (5.1, 346, 5.1/100*346))\n"
   ]
  },
  {
   "cell_type": "code",
   "execution_count": 26,
   "metadata": {
    "scrolled": true
   },
   "outputs": [
    {
     "name": "stdout",
     "output_type": "stream",
     "text": [
      "<class 'str'>\n",
      "<class 'int'>\n",
      "<class 'float'>\n",
      "<class 'complex'>\n",
      "<class 'list'>\n",
      "<class 'tuple'>\n",
      "<class 'dict'>\n"
     ]
    }
   ],
   "source": [
    "x = \"Hello World\"\n",
    "print(type(x))\n",
    "x = 20\n",
    "print(type(x))\n",
    "x = 20.5\n",
    "print(type(x))\n",
    "x = 1j\n",
    "print(type(x))\n",
    "x = [\"apple\", \"banana\", \"cherry\"]\n",
    "print(type(x))\n",
    "x = (\"apple\", \"banana\", \"cherry\")\n",
    "print(type(x))\n",
    "x = {\"name\" : \"John\", \"age\" : 36}\n",
    "print(type(x))\n",
    " \n"
   ]
  },
  {
   "cell_type": "code",
   "execution_count": 57,
   "metadata": {},
   "outputs": [
    {
     "ename": "TypeError",
     "evalue": "'str' object is not callable",
     "output_type": "error",
     "traceback": [
      "\u001b[1;31m---------------------------------------------------------------------------\u001b[0m",
      "\u001b[1;31mTypeError\u001b[0m                                 Traceback (most recent call last)",
      "\u001b[1;32m<ipython-input-57-4bbf03532c00>\u001b[0m in \u001b[0;36m<module>\u001b[1;34m\u001b[0m\n\u001b[1;32m----> 1\u001b[1;33m \u001b[0mx\u001b[0m \u001b[1;33m=\u001b[0m \u001b[0mstr\u001b[0m\u001b[1;33m(\u001b[0m\u001b[1;34m\"s1\"\u001b[0m\u001b[1;33m)\u001b[0m\u001b[1;33m\u001b[0m\u001b[1;33m\u001b[0m\u001b[0m\n\u001b[0m\u001b[0;32m      2\u001b[0m \u001b[0my\u001b[0m \u001b[1;33m=\u001b[0m \u001b[0mstr\u001b[0m\u001b[1;33m(\u001b[0m\u001b[1;36m2\u001b[0m\u001b[1;33m)\u001b[0m\u001b[1;33m\u001b[0m\u001b[1;33m\u001b[0m\u001b[0m\n\u001b[0;32m      3\u001b[0m \u001b[0mz\u001b[0m \u001b[1;33m=\u001b[0m \u001b[0mstr\u001b[0m\u001b[1;33m(\u001b[0m\u001b[1;36m3.0\u001b[0m\u001b[1;33m)\u001b[0m\u001b[1;33m\u001b[0m\u001b[1;33m\u001b[0m\u001b[0m\n\u001b[0;32m      4\u001b[0m \u001b[0mprint\u001b[0m\u001b[1;33m(\u001b[0m\u001b[0mx\u001b[0m\u001b[1;33m)\u001b[0m\u001b[1;33m\u001b[0m\u001b[1;33m\u001b[0m\u001b[0m\n\u001b[0;32m      5\u001b[0m \u001b[0mprint\u001b[0m\u001b[1;33m(\u001b[0m\u001b[0my\u001b[0m\u001b[1;33m)\u001b[0m\u001b[1;33m\u001b[0m\u001b[1;33m\u001b[0m\u001b[0m\n",
      "\u001b[1;31mTypeError\u001b[0m: 'str' object is not callable"
     ]
    }
   ],
   "source": [
    "x = str(\"s1\")\n",
    "y = str(2)\n",
    "z = str(3.0)\n",
    "print(x)\n",
    "print(y)\n",
    "print(z)"
   ]
  },
  {
   "cell_type": "code",
   "execution_count": 64,
   "metadata": {
    "scrolled": false
   },
   "outputs": [
    {
     "name": "stdout",
     "output_type": "stream",
     "text": [
      "Hello World!\n",
      "H\n",
      "llo\n",
      "llo World!\n",
      "Hello World!Hello World!Hello World!Hello World!\n",
      "Hello World!TEST\n",
      "orl\n",
      "orld!\n",
      "lo, Wo\n",
      "ello, W\n",
      "\n",
      "13\n"
     ]
    }
   ],
   "source": [
    "str1 = 'Hello World!'\n",
    "print (str1)          # Prints complete string\n",
    "print (str1[0])       # Prints first character of the string\n",
    "print (str1[2:5])     # Prints characters starting at index 2 to 4\n",
    "                    # first index is inclusive while end is exclusive\n",
    "print (str1[2:])     # Prints string starting from 3rd character\n",
    "print (str1 * 4)      # Prints string two times\n",
    "print (str1 + \"TEST\") \n",
    "b = \"Hello, World!\"\n",
    "print(b[-5:-2])\n",
    "print(b[-5:])\n",
    "print(b[-10:9])\n",
    "print(b[1:-5])\n",
    "print(b[-2:-5])\n",
    "print(len(b))  #To get the length of a string, use the len() function."
   ]
  },
  {
   "cell_type": "code",
   "execution_count": 65,
   "metadata": {},
   "outputs": [
    {
     "name": "stdout",
     "output_type": "stream",
     "text": [
      "Hello, Wor,ld!\n",
      " hello, wor,ld! \n",
      " HELLO, WOR,LD! \n",
      " Jello, Wor,ld! \n",
      "[' Hello', ' Wor', 'ld! ']\n",
      "HelloWorld\n"
     ]
    }
   ],
   "source": [
    "a = \" Hello, Wor,ld! \"\n",
    "print(a.strip()) # returns \"Hello, World!\"\n",
    "#a=a.strip()\n",
    "#The strip() method removes any whitespace from the beginning or the end:\n",
    "print(a.lower())\n",
    "print(a.upper())\n",
    "\n",
    "print(a.replace(\"H\", \"J\"))\n",
    "print(a.split(\",\")) # returns ['Hello', ' World!'] \n",
    "#The split() method splits the string into substrings if it finds instances of the separator:\n",
    "a = \"Hello\"\n",
    "b = \"World\"\n",
    "c = a + b\n",
    "print(c)"
   ]
  },
  {
   "cell_type": "code",
   "execution_count": 55,
   "metadata": {},
   "outputs": [
    {
     "name": "stdout",
     "output_type": "stream",
     "text": [
      "!\n",
      "ld\n",
      "Hello World!\n"
     ]
    }
   ],
   "source": [
    "str1 = 'Hello World!'\n",
    "\n",
    "print (str1[-1])          \n",
    "print (str1[-3:-1])       \n",
    "print (str1[-12:])     "
   ]
  },
  {
   "cell_type": "code",
   "execution_count": 36,
   "metadata": {},
   "outputs": [
    {
     "name": "stdout",
     "output_type": "stream",
     "text": [
      "V\tS\tU\n"
     ]
    }
   ],
   "source": [
    "print('V','S','U', sep= '\\t', end='\\n')"
   ]
  },
  {
   "cell_type": "code",
   "execution_count": 42,
   "metadata": {},
   "outputs": [
    {
     "name": "stdout",
     "output_type": "stream",
     "text": [
      "a=5\n",
      "a=5 and b=2\n",
      "a=2 and b=5\n",
      "a=5 and b=2\n",
      "bin=1100, oct=14, hex=c\n",
      "bin=1100, oct=12, hex=a\n",
      "bin=1100, oct=12, hex=A\n"
     ]
    }
   ],
   "source": [
    "a=5;b=2\n",
    "print('a={0}'.format(a)) #a=5\n",
    "print('a={0} and b={1}'.format(a, b)) #a=5 and b=2\n",
    "print('a={1} and b={0}'.format(a, b)) #a=2 and b=5\n",
    "print('a={} and b={}'.format(a, b))\t#a=5 and b=2 #auto field numbering\n",
    "print('bin={0:b}, oct={0:o}, hex={0:x}'.format(12)) #bin=1100, oct=14, hex=c\n",
    "print('bin={0:b}, oct={1:o}, hex={1:x}'.format(12,10)) #bin=1100, oct=12, hex=a\n",
    "print('bin={:b}, oct={:o}, hex={:X}'.format(12,10,10)) #bin=1100, oct=12, hex=A\n"
   ]
  },
  {
   "cell_type": "code",
   "execution_count": 9,
   "metadata": {},
   "outputs": [
    {
     "name": "stdout",
     "output_type": "stream",
     "text": [
      "V,\tS,\tUX"
     ]
    }
   ],
   "source": [
    "print('V','S','U', sep=\",\\t\", end='X')"
   ]
  },
  {
   "cell_type": "code",
   "execution_count": 1,
   "metadata": {},
   "outputs": [
    {
     "name": "stdout",
     "output_type": "stream",
     "text": [
      "a=5 and b=2\n",
      "a=  5 and b=    2\n",
      "a=  5 and b=    2\n",
      "a=5   and b=2    \n",
      "a=5   and b=2    \n",
      "a=005 and b=00002\n",
      "a= 5  and b=  2  \n",
      "a=123.456790\n",
      "a= 123.457\n"
     ]
    }
   ],
   "source": [
    "a=5\n",
    "b=2\n",
    "print(\"a={0:d} and b={1:d}\".format(a, b)) \t\t\t#a=5 and b=2\n",
    "print(\"a={0:3d} and b={1:5d}\".format(a, b)) \t\t#a=  5 and b=    2\n",
    "print(\"a={0:>3d} and b={1:>5d}\".format(a, b)) \t\t#a=  5 and b=    2\n",
    "print(\"a={0:<3d} and b={1:<5d}\".format(a, b))\t\t#a=5   and b=2\n",
    "print(\"a={:<{}d} and b={:<{}d}\".format(a,3,b,5))\t\t#???  \n",
    "print(\"a={0:03d} and b={1:05d}\".format(a, b)) \t\t#a=005 and b=00002\n",
    "print(\"a={0:^3d} and b={1:^5d}\".format(a, b)) \t\t#a= 5  and b=  2  \n",
    "print(\"a={:f}\".format(123.4567898990)) \t\t\t\t#a=123.456790\n",
    "print(\"a={:8.3f}\".format(123.4567898)) \t\t\t#a= 123.457"
   ]
  },
  {
   "cell_type": "code",
   "execution_count": 25,
   "metadata": {},
   "outputs": [
    {
     "name": "stdout",
     "output_type": "stream",
     "text": [
      "     2 4        8        16\n",
      "     3 9        27       81\n",
      "     4 16       64      256\n",
      "     5 25      125      625\n"
     ]
    }
   ],
   "source": [
    "for i in range (2, 6): \n",
    "        # Using formatters to give 6  \n",
    "        # spaces to each set of values \n",
    "        print(\"{:>6d} {:<6d} {:^6d} {:6d}\"\n",
    "        .format(i, i ** 2, i ** 3, i ** 4)) "
   ]
  },
  {
   "cell_type": "code",
   "execution_count": 2,
   "metadata": {},
   "outputs": [
    {
     "name": "stdout",
     "output_type": "stream",
     "text": [
      "<class 'int'>\n"
     ]
    }
   ],
   "source": [
    "a=10\n",
    "print(type(a))"
   ]
  },
  {
   "cell_type": "code",
   "execution_count": 10,
   "metadata": {},
   "outputs": [
    {
     "name": "stdout",
     "output_type": "stream",
     "text": [
      "35000.0 120000.0 -8.77e+101 1234354.1234567892\n",
      "<class 'float'>\n",
      "<class 'float'>\n",
      "<class 'float'>\n"
     ]
    }
   ],
   "source": [
    "x = 35e3\n",
    "y = 12E4\n",
    "z = -87.7e100\n",
    "a=1234354.123456789185677\n",
    "print(x,y,z,a)\n",
    "print(type(x))\n",
    "print(type(y))\n",
    "print(type(z))"
   ]
  },
  {
   "cell_type": "code",
   "execution_count": 12,
   "metadata": {},
   "outputs": [
    {
     "name": "stdout",
     "output_type": "stream",
     "text": [
      "(3+5j) 5j (-0-5j)\n",
      "<class 'complex'>\n",
      "<class 'complex'>\n",
      "<class 'complex'>\n"
     ]
    }
   ],
   "source": [
    "x = 3+5j\n",
    "y = 5j\n",
    "z = -5j\n",
    "print(x,y,z)\n",
    "print(type(x))\n",
    "print(type(y))\n",
    "print(type(z))"
   ]
  },
  {
   "cell_type": "code",
   "execution_count": 66,
   "metadata": {},
   "outputs": [
    {
     "name": "stdout",
     "output_type": "stream",
     "text": [
      "2\n",
      "2\n",
      "(1+2j)\n",
      "<class 'int'>\n",
      "<class 'int'>\n",
      "<class 'complex'>\n"
     ]
    }
   ],
   "source": [
    "x = 1 # int\n",
    "y = 2.8 # float\n",
    "z = 1j # complex\n",
    "#convert from int to float:\n",
    "a = float(x)\n",
    "#convert from float to int:\n",
    "b = int(y)\n",
    "#convert from int to complex:\n",
    "a=2\n",
    "c = complex(x,a)\n",
    "print(a)\n",
    "print(b)\n",
    "print(c)\n",
    "print(type(a))\n",
    "print(type(b))\n",
    "print(type(c))"
   ]
  },
  {
   "cell_type": "code",
   "execution_count": 15,
   "metadata": {},
   "outputs": [
    {
     "name": "stdout",
     "output_type": "stream",
     "text": [
      "Lorem ipsum dolor sit amet,\n",
      "consectetur adipiscing elit,\n",
      "sed do eiusmod tempor incididunt\n",
      "ut labore et dolore magna aliqua.\n"
     ]
    }
   ],
   "source": [
    "a = \"\"\"Lorem ipsum dolor sit amet,\n",
    "consectetur adipiscing elit,\n",
    "sed do eiusmod tempor incididunt\n",
    "ut labore et dolore magna aliqua.\"\"\"\n",
    "print(a)"
   ]
  },
  {
   "cell_type": "code",
   "execution_count": 16,
   "metadata": {},
   "outputs": [
    {
     "name": "stdout",
     "output_type": "stream",
     "text": [
      "Lorem ipsum dolor sit amet,\n",
      "consectetur adipiscing elit,\n",
      "sed do eiusmod tempor incididunt\n",
      "ut labore et dolore magna aliqua.\n"
     ]
    }
   ],
   "source": [
    "a = '''Lorem ipsum dolor sit amet,\n",
    "consectetur adipiscing elit,\n",
    "sed do eiusmod tempor incididunt\n",
    "ut labore et dolore magna aliqua.'''\n",
    "print(a)"
   ]
  },
  {
   "cell_type": "code",
   "execution_count": 17,
   "metadata": {},
   "outputs": [
    {
     "name": "stdout",
     "output_type": "stream",
     "text": [
      "e\n"
     ]
    }
   ],
   "source": [
    "a = \"Hello, World!\"\n",
    "print(a[1])"
   ]
  },
  {
   "cell_type": "code",
   "execution_count": 50,
   "metadata": {
    "scrolled": true
   },
   "outputs": [
    {
     "name": "stdout",
     "output_type": "stream",
     "text": [
      "1 2 3\n",
      "1.0 2.8 3.0 4.2\n"
     ]
    }
   ],
   "source": [
    "x = int(1)   # x will be 1\n",
    "y = int(2.8) # y will be 2\n",
    "z = int(\"3\") # z will be 3\n",
    "print(x,y,z)\n",
    "x = float(1)     # x will be 1.0\n",
    "y = float(2.8)   # y will be 2.8\n",
    "z = float(\"3\")   # z will be 3.0\n",
    "w = float(\"4.2\") # w will be 4.2\n",
    "print(x,y,z,w)\n"
   ]
  },
  {
   "cell_type": "code",
   "execution_count": 58,
   "metadata": {},
   "outputs": [
    {
     "ename": "TypeError",
     "evalue": "'str' object is not callable",
     "output_type": "error",
     "traceback": [
      "\u001b[1;31m---------------------------------------------------------------------------\u001b[0m",
      "\u001b[1;31mTypeError\u001b[0m                                 Traceback (most recent call last)",
      "\u001b[1;32m<ipython-input-58-4bbf03532c00>\u001b[0m in \u001b[0;36m<module>\u001b[1;34m\u001b[0m\n\u001b[1;32m----> 1\u001b[1;33m \u001b[0mx\u001b[0m \u001b[1;33m=\u001b[0m \u001b[0mstr\u001b[0m\u001b[1;33m(\u001b[0m\u001b[1;34m\"s1\"\u001b[0m\u001b[1;33m)\u001b[0m\u001b[1;33m\u001b[0m\u001b[1;33m\u001b[0m\u001b[0m\n\u001b[0m\u001b[0;32m      2\u001b[0m \u001b[0my\u001b[0m \u001b[1;33m=\u001b[0m \u001b[0mstr\u001b[0m\u001b[1;33m(\u001b[0m\u001b[1;36m2\u001b[0m\u001b[1;33m)\u001b[0m\u001b[1;33m\u001b[0m\u001b[1;33m\u001b[0m\u001b[0m\n\u001b[0;32m      3\u001b[0m \u001b[0mz\u001b[0m \u001b[1;33m=\u001b[0m \u001b[0mstr\u001b[0m\u001b[1;33m(\u001b[0m\u001b[1;36m3.0\u001b[0m\u001b[1;33m)\u001b[0m\u001b[1;33m\u001b[0m\u001b[1;33m\u001b[0m\u001b[0m\n\u001b[0;32m      4\u001b[0m \u001b[0mprint\u001b[0m\u001b[1;33m(\u001b[0m\u001b[0mx\u001b[0m\u001b[1;33m)\u001b[0m\u001b[1;33m\u001b[0m\u001b[1;33m\u001b[0m\u001b[0m\n\u001b[0;32m      5\u001b[0m \u001b[0mprint\u001b[0m\u001b[1;33m(\u001b[0m\u001b[0my\u001b[0m\u001b[1;33m)\u001b[0m\u001b[1;33m\u001b[0m\u001b[1;33m\u001b[0m\u001b[0m\n",
      "\u001b[1;31mTypeError\u001b[0m: 'str' object is not callable"
     ]
    }
   ],
   "source": [
    "x = str(\"s1\")\n",
    "y = str(2)\n",
    "z = str(3.0)\n",
    "print(x)\n",
    "print(y)\n",
    "print(z)"
   ]
  },
  {
   "cell_type": "code",
   "execution_count": 61,
   "metadata": {},
   "outputs": [
    {
     "name": "stdout",
     "output_type": "stream",
     "text": [
      "7.5\n",
      "7\n"
     ]
    }
   ],
   "source": [
    "x = 15\n",
    "y = 2\n",
    "print(x / y)\n",
    "print(x // y)"
   ]
  },
  {
   "cell_type": "code",
   "execution_count": null,
   "metadata": {},
   "outputs": [],
   "source": []
  }
 ],
 "metadata": {
  "kernelspec": {
   "display_name": "Python 3",
   "language": "python",
   "name": "python3"
  },
  "language_info": {
   "codemirror_mode": {
    "name": "ipython",
    "version": 3
   },
   "file_extension": ".py",
   "mimetype": "text/x-python",
   "name": "python",
   "nbconvert_exporter": "python",
   "pygments_lexer": "ipython3",
   "version": "3.7.3"
  }
 },
 "nbformat": 4,
 "nbformat_minor": 4
}
