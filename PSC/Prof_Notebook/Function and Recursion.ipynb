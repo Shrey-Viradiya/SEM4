{
 "cells": [
  {
   "cell_type": "markdown",
   "metadata": {},
   "source": [
    "## Can we call user define function with main function?"
   ]
  },
  {
   "cell_type": "code",
   "execution_count": 1,
   "metadata": {},
   "outputs": [
    {
     "data": {
      "text/plain": [
       "200"
      ]
     },
     "execution_count": 1,
     "metadata": {},
     "output_type": "execute_result"
    }
   ],
   "source": [
    "def mul(a,b):\n",
    "    result = a*b\n",
    "    return result\n",
    "\n",
    "mul(10,20)"
   ]
  },
  {
   "cell_type": "code",
   "execution_count": 4,
   "metadata": {},
   "outputs": [
    {
     "name": "stdout",
     "output_type": "stream",
     "text": [
      "2\n"
     ]
    }
   ],
   "source": [
    "def mul(a,b):\n",
    "    result = a*b\n",
    "    return result\n",
    "\n",
    "if __name__ =='__main__':\n",
    "    x = mul(1,2)\n",
    "    print(x)"
   ]
  },
  {
   "cell_type": "markdown",
   "metadata": {},
   "source": []
  },
  {
   "cell_type": "code",
   "execution_count": 5,
   "metadata": {
    "scrolled": true
   },
   "outputs": [
    {
     "name": "stdout",
     "output_type": "stream",
     "text": [
      "0\n"
     ]
    }
   ],
   "source": [
    "str = ''\n",
    "print(len(str))"
   ]
  },
  {
   "cell_type": "markdown",
   "metadata": {},
   "source": [
    "# Recursive Function"
   ]
  },
  {
   "cell_type": "code",
   "execution_count": 7,
   "metadata": {},
   "outputs": [
    {
     "name": "stdout",
     "output_type": "stream",
     "text": [
      "Enter the value of n: 9\n",
      "9 th Fibonacci term is :  21\n"
     ]
    }
   ],
   "source": [
    "#Fibonaci sequence\n",
    "\n",
    "def fibo(n):\n",
    "    assert n > 0\n",
    "    if n == 1:\n",
    "        return 0\n",
    "    elif n == 2:\n",
    "        return 1\n",
    "    else:\n",
    "        return fibo(n-1) + fibo(n-2)\n",
    "    \n",
    "def main():\n",
    "    n = int(input(\"Enter the value of n: \"))\n",
    "    result = fibo(n)\n",
    "    print(n,'th Fibonacci term','is : ',result)\n",
    "\n",
    "if __name__ == '__main__':\n",
    "    main()"
   ]
  },
  {
   "cell_type": "markdown",
   "metadata": {},
   "source": [
    "# Problems\n",
    "\n",
    "## Reverse the string using recursive function\n",
    "\n",
    "## Palindrom the string"
   ]
  },
  {
   "cell_type": "markdown",
   "metadata": {},
   "source": [
    "# Other Problems\n",
    "\n",
    "1. Design a python program that asks a user to enter the positive and negative words and store them in a dictionary. Convert the dictionary in following format\n",
    "\n",
    "Example:\n",
    "Input : \n",
    "Enter word with its sentiments (positive/negative sentiments) \n",
    "Bad : Negative\n",
    "Good: Positive\n",
    "Anger: Negative\n",
    "Scold: Negative\n",
    "Excellent: Positive\n",
    "Smile: Positive\n",
    "\n",
    "Now convert the input dictionary in the following way\n",
    "Output:\n",
    "Inverted Dictionary:\n",
    "Negative: ['Bad','Anger','Scold']\n",
    "Positive: ['Good','Excellent','Smile']\n",
    "\n",
    "\n",
    "\n",
    "2. Ask the user to generate the random data and store data in a nested list. Format for the list is \n",
    "\n",
    "x = [[ProductId,2016,2017,2018,2019,2020],\n",
    "       [P10101, 56, 1098, 76, 86, 98],\n",
    "       [P12121], 100, 1987, 768, 890,9] ..........]\n",
    "\n",
    "Ask students that Product id must have the first letter as capital P and 5 digits random number and the remaining 5 numbers are product sell for a specific year. Ask students to generate the 100 product data and make sure no duplicate entry should be there. \n",
    "Generate sales data between 0 to 10000. now create the 5 sub-list with productID and year and sort them in descending order. You can ask the user to perform any statistical operations like find out the products which are having less than 10% percentages of sell compare to total sell for that year. "
   ]
  },
  {
   "cell_type": "code",
   "execution_count": null,
   "metadata": {},
   "outputs": [],
   "source": []
  }
 ],
 "metadata": {
  "kernelspec": {
   "display_name": "Python 3",
   "language": "python",
   "name": "python3"
  },
  "language_info": {
   "codemirror_mode": {
    "name": "ipython",
    "version": 3
   },
   "file_extension": ".py",
   "mimetype": "text/x-python",
   "name": "python",
   "nbconvert_exporter": "python",
   "pygments_lexer": "ipython3",
   "version": "3.7.3"
  }
 },
 "nbformat": 4,
 "nbformat_minor": 2
}
